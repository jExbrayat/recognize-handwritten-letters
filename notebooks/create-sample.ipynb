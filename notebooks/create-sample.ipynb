{
 "cells": [
  {
   "cell_type": "code",
   "execution_count": null,
   "id": "initial_id",
   "metadata": {},
   "outputs": [],
   "source": [
    "import matplotlib.pyplot as plt\n",
    "import numpy as np\n",
    "import pandas as pd\n",
    "\n",
    "from src.utils.constants import data_folder\n",
    "from src.utils.misc import init_notebook"
   ]
  },
  {
   "cell_type": "code",
   "execution_count": null,
   "id": "344bcf602a0d003",
   "metadata": {},
   "outputs": [],
   "source": [
    "init_notebook()"
   ]
  },
  {
   "metadata": {},
   "cell_type": "code",
   "outputs": [],
   "execution_count": null,
   "source": "original_dataset = pd.read_csv(f\"{data_folder}/raw/handwritten_data_785.csv\", header=None)",
   "id": "31fedcd4a6e9767b"
  },
  {
   "metadata": {},
   "cell_type": "code",
   "outputs": [],
   "execution_count": null,
   "source": "original_dataset.head()",
   "id": "f41f2b84d8c5e309"
  },
  {
   "metadata": {},
   "cell_type": "code",
   "outputs": [],
   "execution_count": null,
   "source": [
    "letter_col = \"0\"  # Remplace par le vrai nom de la colonne des lettres\n",
    "letter_counts = original_dataset[letter_col].value_counts().sort_index()"
   ],
   "id": "fc650d80b900350e"
  },
  {
   "metadata": {},
   "cell_type": "code",
   "outputs": [],
   "execution_count": null,
   "source": "letter_counts",
   "id": "71692fbf4ac67f89"
  },
  {
   "cell_type": "code",
   "execution_count": null,
   "id": "ea50fc1bff9fe50e",
   "metadata": {},
   "outputs": [
    {
     "data": {
      "image/png": "[encoded data removed]",
      "text/plain": [
       "<Figure size 1000x500 with 1 Axes>"
      ]
     },
     "metadata": {},
     "output_type": "display_data"
    }
   ],
   "source": [
    "from src.utils.constants import letters_list\n",
    "\n",
    "plt.figure(figsize=(10, 5))\n",
    "plt.bar(letter_counts.index, letter_counts.values, color=\"skyblue\")\n",
    "plt.xlabel(\"Lettres\")\n",
    "plt.ylabel(\"Nombre d'occurrences\")\n",
    "plt.title(\"Distribution des lettres dans le dataset\")\n",
    "plt.xticks(\n",
    "    ticks=range(26),\n",
    "    labels=letters_list,\n",
    ")\n",
    "plt.show()"
   ]
  },
  {
   "metadata": {},
   "cell_type": "code",
   "outputs": [],
   "execution_count": null,
   "source": "original_dataset.dtypes",
   "id": "cfc6f8b8e8dee702"
  },
  {
   "metadata": {},
   "cell_type": "code",
   "outputs": [],
   "execution_count": null,
   "source": "original_dataset = original_dataset.astype(np.uint8)",
   "id": "c838e1afb706b342"
  },
  {
   "metadata": {},
   "cell_type": "code",
   "outputs": [],
   "execution_count": null,
   "source": [
    "original_dataset.to_parquet(\n",
    "    f\"{data_folder}/data.parquet\", index=False, engine=\"pyarrow\", compression=\"zstd\"\n",
    ")  # 68 Mo"
   ],
   "id": "7dd477b7208d34b9"
  },
  {
   "metadata": {},
   "cell_type": "code",
   "outputs": [],
   "execution_count": null,
   "source": [
    "def extract_sample(\n",
    "    df: pd.DataFrame, letter_col: str, n: int = 3000, uniform: bool = False\n",
    ") -> pd.DataFrame:\n",
    "    if uniform:\n",
    "        # 📌 Distribution uniforme (1/26 pour chaque lettre)\n",
    "        sample_size = n // 26  # Nombre d'échantillons par lettre\n",
    "        sampled_df = df.groupby(letter_col, group_keys=False).apply(\n",
    "            lambda x: x.sample(min(sample_size, len(x)), random_state=42)\n",
    "        )\n",
    "\n",
    "    else:\n",
    "        # 📌 Respect de la distribution originale\n",
    "        sampled_df = df.sample(\n",
    "            n=n, weights=df[letter_col].map(letter_counts), random_state=42\n",
    "        )\n",
    "\n",
    "    return sampled_df.reset_index(drop=True)"
   ],
   "id": "b6100f0de87ceee0"
  },
  {
   "metadata": {},
   "cell_type": "code",
   "outputs": [],
   "execution_count": null,
   "source": [
    "# 📌 Extraction avec distribution originale\n",
    "sample_original = extract_sample(original_dataset, letter_col, n=3000, uniform=False)\n",
    "\n",
    "# 📌 Extraction avec distribution uniforme\n",
    "sample_uniform = extract_sample(original_dataset, letter_col, n=3000, uniform=True)\n",
    "\n",
    "# 📌 Vérification des nouvelles distributions\n",
    "print(\n",
    "    \"Distribution originale (3000 échantillons) :\\n\",\n",
    "    sample_original[letter_col].value_counts(),\n",
    ")\n",
    "print(\n",
    "    \"Distribution uniforme (3000 échantillons) :\\n\",\n",
    "    sample_uniform[letter_col].value_counts(),\n",
    ")\n",
    "\n",
    "# 📌 Sauvegarde des échantillons si besoin\n",
    "sample_original.to_parquet(\n",
    "    f\"{data_folder}/raw/sample_original.parquet\",\n",
    "    index=False,\n",
    "    engine=\"pyarrow\",\n",
    "    compression=\"zstd\",\n",
    ")\n",
    "sample_uniform.to_parquet(\n",
    "    f\"{data_folder}/raw/sample_uniform.parquet\",\n",
    "    index=False,\n",
    "    engine=\"pyarrow\",\n",
    "    compression=\"zstd\",\n",
    ")"
   ],
   "id": "6c949fd34ca3763a"
  },
  {
   "metadata": {},
   "cell_type": "code",
   "outputs": [],
   "execution_count": null,
   "source": "df2 = pd.read_parquet(f\"{data_folder}/raw/sample_original.parquet\", engine=\"pyarrow\")",
   "id": "fbaed7ceaba2b5e5"
  },
  {
   "cell_type": "code",
   "execution_count": null,
   "id": "8b0776970c015a63",
   "metadata": {},
   "outputs": [
    {
     "data": {
      "text/plain": [
       "0      uint8\n",
       "1      uint8\n",
       "2      uint8\n",
       "3      uint8\n",
       "4      uint8\n",
       "       ...  \n",
       "780    uint8\n",
       "781    uint8\n",
       "782    uint8\n",
       "783    uint8\n",
       "784    uint8\n",
       "Length: 785, dtype: object"
      ]
     },
     "execution_count": null,
     "metadata": {},
     "output_type": "execute_result"
    }
   ],
   "source": [
    "df2.dtypes"
   ]
  },
  {
   "cell_type": "code",
   "execution_count": null,
   "id": "8192ee1bcd684c2",
   "metadata": {},
   "outputs": [],
   "source": [
    "df2 = pd.read_csv(f\"{data_folder}/raw/sample_original.csv\")"
   ]
  },
  {
   "cell_type": "code",
   "execution_count": null,
   "id": "ef35ec637ff65a1",
   "metadata": {},
   "outputs": [
    {
     "data": {
      "text/plain": [
       "0      int64\n",
       "1      int64\n",
       "2      int64\n",
       "3      int64\n",
       "4      int64\n",
       "       ...  \n",
       "780    int64\n",
       "781    int64\n",
       "782    int64\n",
       "783    int64\n",
       "784    int64\n",
       "Length: 785, dtype: object"
      ]
     },
     "execution_count": null,
     "metadata": {},
     "output_type": "execute_result"
    }
   ],
   "source": [
    "df2.dtypes"
   ]
  }
 ],
 "metadata": {
  "kernelspec": {
   "display_name": "python3",
   "language": "python",
   "name": "python3"
  }
 },
 "nbformat": 4,
 "nbformat_minor": 5
}
