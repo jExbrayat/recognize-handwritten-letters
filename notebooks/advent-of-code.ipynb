{
 "cells": [
  {
   "cell_type": "code",
   "execution_count": 162,
   "id": "initial_id",
   "metadata": {
    "ExecuteTime": {
     "end_time": "2025-08-03T00:54:50.978514Z",
     "start_time": "2025-08-03T00:54:49.818083Z"
    },
    "collapsed": true
   },
   "outputs": [],
   "source": [
    "import pandas as pd\n",
    "import numpy as np"
   ]
  },
  {
   "cell_type": "markdown",
   "id": "a5e834c89f7354e2",
   "metadata": {},
   "source": "# Day 1"
  },
  {
   "cell_type": "markdown",
   "id": "dff1abad329ad65f",
   "metadata": {},
   "source": "## Read data"
  },
  {
   "cell_type": "code",
   "execution_count": 163,
   "id": "48226e9d6ab1bad9",
   "metadata": {
    "ExecuteTime": {
     "end_time": "2025-08-03T00:54:50.993426Z",
     "start_time": "2025-08-03T00:54:50.981517Z"
    }
   },
   "outputs": [],
   "source": [
    "def read_data_day1(path: str) -> pd.DataFrame:\n",
    "    df = pd.read_csv(path, sep=\"   \", header=None, engine=\"python\")\n",
    "    return df"
   ]
  },
  {
   "cell_type": "code",
   "execution_count": 164,
   "id": "bf487d7796747d89",
   "metadata": {
    "ExecuteTime": {
     "end_time": "2025-08-03T00:54:51.023414Z",
     "start_time": "2025-08-03T00:54:51.009414Z"
    }
   },
   "outputs": [],
   "source": [
    "data_path = \"data/advent-of-code/day1.txt\"\n",
    "data_path_example = \"data/advent-of-code/day1-example.txt\""
   ]
  },
  {
   "cell_type": "code",
   "execution_count": 165,
   "id": "b2c3569a33c6438a",
   "metadata": {
    "ExecuteTime": {
     "end_time": "2025-08-03T00:54:51.069858Z",
     "start_time": "2025-08-03T00:54:51.039416Z"
    }
   },
   "outputs": [],
   "source": [
    "df_day1 = read_data_day1(data_path)\n",
    "df_example_day1 = read_data_day1(data_path_example)"
   ]
  },
  {
   "cell_type": "markdown",
   "id": "a6b15377b38efb08",
   "metadata": {},
   "source": "## Part 1"
  },
  {
   "cell_type": "code",
   "execution_count": 166,
   "id": "10a87a0aa830e687",
   "metadata": {
    "ExecuteTime": {
     "end_time": "2025-08-03T00:54:51.101298Z",
     "start_time": "2025-08-03T00:54:51.086976Z"
    }
   },
   "outputs": [],
   "source": [
    "def solve_day1_part1(df: pd.DataFrame) -> int:\n",
    "    sorted1 = df[0].sort_values().reset_index(drop=True)\n",
    "    sorted2 = df[1].sort_values().reset_index(drop=True)\n",
    "    return np.sum(np.abs(sorted1 - sorted2))"
   ]
  },
  {
   "cell_type": "code",
   "execution_count": 167,
   "id": "ea346c0d4a1176bb",
   "metadata": {
    "ExecuteTime": {
     "end_time": "2025-08-03T00:54:51.132299Z",
     "start_time": "2025-08-03T00:54:51.118300Z"
    }
   },
   "outputs": [
    {
     "data": {
      "text/plain": [
       "np.int64(11)"
      ]
     },
     "execution_count": 167,
     "metadata": {},
     "output_type": "execute_result"
    }
   ],
   "source": [
    "solve_day1_part1(df_example_day1)"
   ]
  },
  {
   "cell_type": "code",
   "execution_count": 168,
   "id": "e5541da1f6453c21",
   "metadata": {
    "ExecuteTime": {
     "end_time": "2025-08-03T00:54:51.163298Z",
     "start_time": "2025-08-03T00:54:51.149302Z"
    }
   },
   "outputs": [
    {
     "data": {
      "text/plain": [
       "np.int64(2970687)"
      ]
     },
     "execution_count": 168,
     "metadata": {},
     "output_type": "execute_result"
    }
   ],
   "source": [
    "solve_day1_part1(df_day1)"
   ]
  },
  {
   "cell_type": "markdown",
   "id": "81fd2d021722cd85",
   "metadata": {},
   "source": "Answer is 2970687"
  },
  {
   "cell_type": "markdown",
   "id": "ed7140cec51b736a",
   "metadata": {},
   "source": "## Part 2"
  },
  {
   "cell_type": "code",
   "execution_count": 169,
   "id": "452c55a6eab2685c",
   "metadata": {
    "ExecuteTime": {
     "end_time": "2025-08-03T00:54:51.195328Z",
     "start_time": "2025-08-03T00:54:51.180315Z"
    }
   },
   "outputs": [],
   "source": [
    "from collections import defaultdict"
   ]
  },
  {
   "cell_type": "code",
   "execution_count": 170,
   "id": "4ed5adf6521f7028",
   "metadata": {
    "ExecuteTime": {
     "end_time": "2025-08-03T00:54:51.227416Z",
     "start_time": "2025-08-03T00:54:51.212432Z"
    }
   },
   "outputs": [],
   "source": [
    "def solve_day1_part2(df: pd.DataFrame) -> int:\n",
    "    col1 = df[0]\n",
    "    col2 = df[1]\n",
    "    nb_occurrences: defaultdict[int, int] = defaultdict(int)\n",
    "\n",
    "    for number in col2:\n",
    "        nb_occurrences[number] += 1\n",
    "\n",
    "    similarity_score = 0\n",
    "    for number in col1:\n",
    "        similarity_score += nb_occurrences[number] * number\n",
    "\n",
    "    return similarity_score"
   ]
  },
  {
   "cell_type": "code",
   "execution_count": 171,
   "id": "62ac280961c383ad",
   "metadata": {
    "ExecuteTime": {
     "end_time": "2025-08-03T00:54:51.257420Z",
     "start_time": "2025-08-03T00:54:51.243416Z"
    }
   },
   "outputs": [
    {
     "data": {
      "text/plain": [
       "31"
      ]
     },
     "execution_count": 171,
     "metadata": {},
     "output_type": "execute_result"
    }
   ],
   "source": [
    "solve_day1_part2(df_example_day1)"
   ]
  },
  {
   "cell_type": "code",
   "execution_count": 172,
   "id": "d38ee7a0999f1b0e",
   "metadata": {
    "ExecuteTime": {
     "end_time": "2025-08-03T00:54:51.289420Z",
     "start_time": "2025-08-03T00:54:51.274418Z"
    }
   },
   "outputs": [
    {
     "data": {
      "text/plain": [
       "23963899"
      ]
     },
     "execution_count": 172,
     "metadata": {},
     "output_type": "execute_result"
    }
   ],
   "source": [
    "solve_day1_part2(df_day1)"
   ]
  },
  {
   "cell_type": "markdown",
   "id": "3635d6e6e3557949",
   "metadata": {},
   "source": "Answer is 23963899"
  },
  {
   "cell_type": "code",
   "execution_count": null,
   "id": "4348e4b04e591d14",
   "metadata": {
    "ExecuteTime": {
     "end_time": "2025-08-03T00:54:51.320050Z",
     "start_time": "2025-08-03T00:54:51.306052Z"
    }
   },
   "outputs": [],
   "source": []
  },
  {
   "cell_type": "markdown",
   "id": "fea2f4329ef0dd75",
   "metadata": {},
   "source": "# Day 2"
  },
  {
   "cell_type": "markdown",
   "id": "b773564724090c4b",
   "metadata": {},
   "source": "## Read data"
  },
  {
   "metadata": {
    "ExecuteTime": {
     "end_time": "2025-08-03T13:41:16.143956Z",
     "start_time": "2025-08-03T13:41:16.129848Z"
    }
   },
   "cell_type": "code",
   "source": [
    "def read_data_day2(path: str) -> list[list[int]]:\n",
    "    reports = []\n",
    "    with open(path, mode=\"r\") as file:\n",
    "        for line in file.readlines():\n",
    "            report = list(map(int, line.split()))\n",
    "            reports.append(report)\n",
    "\n",
    "    return reports"
   ],
   "id": "ce74c2f181e132c8",
   "outputs": [],
   "execution_count": 104
  },
  {
   "metadata": {
    "ExecuteTime": {
     "end_time": "2025-08-03T13:41:16.344900Z",
     "start_time": "2025-08-03T13:41:16.330912Z"
    }
   },
   "cell_type": "code",
   "source": "example_day2 = read_data_day2(\"data/advent-of-code/day2-example.txt\")",
   "id": "8fe15731c891e4d6",
   "outputs": [],
   "execution_count": 105
  },
  {
   "metadata": {
    "ExecuteTime": {
     "end_time": "2025-08-03T13:41:16.468383Z",
     "start_time": "2025-08-03T13:41:16.454382Z"
    }
   },
   "cell_type": "code",
   "source": "day2_reports = read_data_day2(\"data/advent-of-code/day2.txt\")",
   "id": "3c65f51495944b2d",
   "outputs": [],
   "execution_count": 106
  },
  {
   "cell_type": "markdown",
   "id": "320e169e3de0ead6",
   "metadata": {},
   "source": "## Part 1"
  },
  {
   "metadata": {
    "ExecuteTime": {
     "end_time": "2025-08-03T13:41:16.875362Z",
     "start_time": "2025-08-03T13:41:16.858372Z"
    }
   },
   "cell_type": "code",
   "source": [
    "def solve_day2(reports: list[list[int]]) -> int:\n",
    "    total = 0\n",
    "\n",
    "    for report in reports:\n",
    "        safe = True\n",
    "        increasing = report[0] < report[1]\n",
    "\n",
    "        for i in range(len(report) - 1):\n",
    "            current_level = report[i]\n",
    "            next_level = report[i + 1]\n",
    "\n",
    "            if increasing:\n",
    "                if next_level <= current_level or next_level > current_level + 3:\n",
    "                    safe = False\n",
    "            else:\n",
    "                if next_level >= current_level or next_level < current_level - 3:\n",
    "                    safe = False\n",
    "\n",
    "        if safe:\n",
    "            total += 1\n",
    "\n",
    "    return total"
   ],
   "id": "c9e8561636908484",
   "outputs": [],
   "execution_count": 107
  },
  {
   "metadata": {
    "ExecuteTime": {
     "end_time": "2025-08-03T13:41:17.277440Z",
     "start_time": "2025-08-03T13:41:17.264441Z"
    }
   },
   "cell_type": "code",
   "source": "total = solve_day2(example_day2)",
   "id": "cb2a2d406741df18",
   "outputs": [],
   "execution_count": 108
  },
  {
   "metadata": {
    "ExecuteTime": {
     "end_time": "2025-08-03T13:41:17.571411Z",
     "start_time": "2025-08-03T13:41:17.559408Z"
    }
   },
   "cell_type": "code",
   "source": "total",
   "id": "d51a47a32aeb4205",
   "outputs": [
    {
     "data": {
      "text/plain": [
       "2"
      ]
     },
     "execution_count": 109,
     "metadata": {},
     "output_type": "execute_result"
    }
   ],
   "execution_count": 109
  },
  {
   "metadata": {
    "ExecuteTime": {
     "end_time": "2025-08-03T13:41:18.250446Z",
     "start_time": "2025-08-03T13:41:18.237391Z"
    }
   },
   "cell_type": "code",
   "source": "total = solve_day2(day2_reports)",
   "id": "a0f24b7510c2d437",
   "outputs": [],
   "execution_count": 110
  },
  {
   "metadata": {
    "ExecuteTime": {
     "end_time": "2025-08-03T13:41:18.576405Z",
     "start_time": "2025-08-03T13:41:18.564403Z"
    }
   },
   "cell_type": "code",
   "source": "total",
   "id": "56e1ac860cd83a64",
   "outputs": [
    {
     "data": {
      "text/plain": [
       "287"
      ]
     },
     "execution_count": 111,
     "metadata": {},
     "output_type": "execute_result"
    }
   ],
   "execution_count": 111
  },
  {
   "cell_type": "markdown",
   "id": "e3fda84457ea5382",
   "metadata": {},
   "source": "Answer is 287"
  },
  {
   "cell_type": "markdown",
   "id": "8b1d6a864d93f5b3",
   "metadata": {},
   "source": "## Part 2"
  },
  {
   "cell_type": "code",
   "execution_count": 179,
   "id": "d34b864ccfbd3d9e",
   "metadata": {
    "ExecuteTime": {
     "end_time": "2025-08-03T00:54:51.534422Z",
     "start_time": "2025-08-03T00:54:51.521422Z"
    }
   },
   "outputs": [],
   "source": [
    "from collections import defaultdict"
   ]
  },
  {
   "cell_type": "code",
   "execution_count": 180,
   "id": "885eb4dd7378fb2f",
   "metadata": {
    "ExecuteTime": {
     "end_time": "2025-08-03T00:54:51.565579Z",
     "start_time": "2025-08-03T00:54:51.551422Z"
    }
   },
   "outputs": [],
   "source": [
    "def solve_day1_part2(df: pd.DataFrame) -> int:\n",
    "    col1 = df[0]\n",
    "    col2 = df[1]\n",
    "    nb_occurrences: defaultdict[int, int] = defaultdict(int)\n",
    "\n",
    "    for number in col2:\n",
    "        nb_occurrences[number] += 1\n",
    "\n",
    "    similarity_score = 0\n",
    "    for number in col1:\n",
    "        similarity_score += nb_occurrences[number] * number\n",
    "\n",
    "    return similarity_score"
   ]
  },
  {
   "cell_type": "code",
   "execution_count": 181,
   "id": "5d269ce44ba53e49",
   "metadata": {
    "ExecuteTime": {
     "end_time": "2025-08-03T00:54:51.596502Z",
     "start_time": "2025-08-03T00:54:51.581506Z"
    }
   },
   "outputs": [
    {
     "data": {
      "text/plain": [
       "31"
      ]
     },
     "execution_count": 181,
     "metadata": {},
     "output_type": "execute_result"
    }
   ],
   "source": [
    "solve_day1_part2(df_example_day1)"
   ]
  },
  {
   "cell_type": "code",
   "execution_count": 182,
   "id": "1c5f7b66d9e440c2",
   "metadata": {
    "ExecuteTime": {
     "end_time": "2025-08-03T00:54:51.628607Z",
     "start_time": "2025-08-03T00:54:51.613511Z"
    }
   },
   "outputs": [
    {
     "data": {
      "text/plain": [
       "23963899"
      ]
     },
     "execution_count": 182,
     "metadata": {},
     "output_type": "execute_result"
    }
   ],
   "source": [
    "solve_day1_part2(df_day1)"
   ]
  },
  {
   "cell_type": "markdown",
   "id": "d3c212d2266ffae3",
   "metadata": {},
   "source": "Answer is 23963899"
  },
  {
   "cell_type": "markdown",
   "id": "f6363a6df6c59f81",
   "metadata": {},
   "source": "# Day 3"
  },
  {
   "cell_type": "markdown",
   "id": "6166ba344acbc8a7",
   "metadata": {},
   "source": "## Read data"
  },
  {
   "cell_type": "code",
   "execution_count": 183,
   "id": "b15af71515af028c",
   "metadata": {
    "ExecuteTime": {
     "end_time": "2025-08-03T00:54:51.674408Z",
     "start_time": "2025-08-03T00:54:51.659408Z"
    }
   },
   "outputs": [],
   "source": [
    "def read_data_day3(path: str) -> str:\n",
    "    with open(path, \"r\") as file:\n",
    "        content = file.read()\n",
    "    return content"
   ]
  },
  {
   "cell_type": "code",
   "execution_count": 184,
   "id": "dcb14ba45130086",
   "metadata": {
    "ExecuteTime": {
     "end_time": "2025-08-03T00:54:51.689928Z",
     "start_time": "2025-08-03T00:54:51.678410Z"
    }
   },
   "outputs": [],
   "source": [
    "str_day_3 = read_data_day3(\"data/advent-of-code/day3.txt\")\n",
    "str_example_day3 = (\n",
    "    \"xmul(2,4)%&mul[3,7]!@^do_not_mul(5,5)+mul(32,64]then(mul(11,8)mul(8,5))\"\n",
    ")"
   ]
  },
  {
   "cell_type": "markdown",
   "id": "dbbade737ef7e03e",
   "metadata": {},
   "source": "## Part 1"
  },
  {
   "cell_type": "code",
   "execution_count": 185,
   "id": "f6bc06432d1ff525",
   "metadata": {
    "ExecuteTime": {
     "end_time": "2025-08-03T00:54:51.720661Z",
     "start_time": "2025-08-03T00:54:51.706448Z"
    }
   },
   "outputs": [],
   "source": [
    "import re"
   ]
  },
  {
   "cell_type": "code",
   "execution_count": 186,
   "id": "8acf1a54513b5fa",
   "metadata": {
    "ExecuteTime": {
     "end_time": "2025-08-03T00:54:51.751925Z",
     "start_time": "2025-08-03T00:54:51.737410Z"
    }
   },
   "outputs": [],
   "source": [
    "def solve_day3_part1(string: str) -> int:\n",
    "    reg = re.compile(r\"mul\\(([0-9]+),([0-9]+)\\)\")\n",
    "    numbers = reg.findall(string)\n",
    "    total = 0\n",
    "\n",
    "    for x, y in numbers:\n",
    "        total += int(x) * int(y)\n",
    "\n",
    "    return total"
   ]
  },
  {
   "cell_type": "code",
   "execution_count": 187,
   "id": "7ae969034c4ecae7",
   "metadata": {
    "ExecuteTime": {
     "end_time": "2025-08-03T00:54:51.783332Z",
     "start_time": "2025-08-03T00:54:51.768929Z"
    }
   },
   "outputs": [
    {
     "data": {
      "text/plain": [
       "161"
      ]
     },
     "execution_count": 187,
     "metadata": {},
     "output_type": "execute_result"
    }
   ],
   "source": [
    "solve_day3_part1(str_example_day3)"
   ]
  },
  {
   "cell_type": "code",
   "execution_count": 188,
   "id": "614aa2505fb79f6e",
   "metadata": {
    "ExecuteTime": {
     "end_time": "2025-08-03T00:54:51.814330Z",
     "start_time": "2025-08-03T00:54:51.799331Z"
    }
   },
   "outputs": [
    {
     "data": {
      "text/plain": [
       "157621318"
      ]
     },
     "execution_count": 188,
     "metadata": {},
     "output_type": "execute_result"
    }
   ],
   "source": [
    "solve_day3_part1(str_day_3)"
   ]
  },
  {
   "cell_type": "markdown",
   "id": "6f917df6166b005e",
   "metadata": {},
   "source": "Answer is 157621318"
  },
  {
   "cell_type": "markdown",
   "id": "c64bf06884187dc6",
   "metadata": {},
   "source": "## Part 2"
  },
  {
   "cell_type": "code",
   "execution_count": 189,
   "id": "7558e8687ea15a79",
   "metadata": {
    "ExecuteTime": {
     "end_time": "2025-08-03T00:54:51.845329Z",
     "start_time": "2025-08-03T00:54:51.831331Z"
    }
   },
   "outputs": [],
   "source": [
    "def solve_day3_part2(string: str) -> int:\n",
    "    reg = re.compile(r\"(do\\(\\))|(don't\\(\\))|mul\\(([0-9]+),([0-9]+)\\)\")\n",
    "    commands = reg.findall(string)\n",
    "\n",
    "    total = 0\n",
    "    enabled = True\n",
    "\n",
    "    for command in commands:\n",
    "        do, dont, x, y = command\n",
    "\n",
    "        if do:\n",
    "            enabled = True\n",
    "        elif dont:\n",
    "            enabled = False\n",
    "        else:\n",
    "            if enabled:\n",
    "                total += int(x) * int(y)\n",
    "\n",
    "    return total"
   ]
  },
  {
   "cell_type": "code",
   "execution_count": 190,
   "id": "a86408ead52e24a2",
   "metadata": {
    "ExecuteTime": {
     "end_time": "2025-08-03T00:54:51.876333Z",
     "start_time": "2025-08-03T00:54:51.861330Z"
    }
   },
   "outputs": [],
   "source": [
    "str_example2_day3 = (\n",
    "    \"xmul(2,4)&mul[3,7]!^don't()_mul(5,5)+mul(32,64](mul(11,8)undo()?mul(8,5))\"\n",
    ")"
   ]
  },
  {
   "cell_type": "code",
   "execution_count": 191,
   "id": "713995e07f860ca6",
   "metadata": {
    "ExecuteTime": {
     "end_time": "2025-08-03T00:54:51.907332Z",
     "start_time": "2025-08-03T00:54:51.894330Z"
    }
   },
   "outputs": [
    {
     "data": {
      "text/plain": [
       "48"
      ]
     },
     "execution_count": 191,
     "metadata": {},
     "output_type": "execute_result"
    }
   ],
   "source": [
    "solve_day3_part2(str_example2_day3)"
   ]
  },
  {
   "cell_type": "code",
   "execution_count": 192,
   "id": "4ef7211fc270e431",
   "metadata": {
    "ExecuteTime": {
     "end_time": "2025-08-03T00:54:51.938330Z",
     "start_time": "2025-08-03T00:54:51.924331Z"
    }
   },
   "outputs": [
    {
     "data": {
      "text/plain": [
       "79845780"
      ]
     },
     "execution_count": 192,
     "metadata": {},
     "output_type": "execute_result"
    }
   ],
   "source": [
    "solve_day3_part2(str_day_3)"
   ]
  },
  {
   "cell_type": "markdown",
   "id": "6bd02776c2fdd9d5",
   "metadata": {},
   "source": "Answer is 79845780"
  },
  {
   "cell_type": "markdown",
   "id": "b93ba543a18482f8",
   "metadata": {},
   "source": "# Day 4"
  },
  {
   "cell_type": "markdown",
   "id": "cbd0bc84f9c59e4b",
   "metadata": {},
   "source": "## Read data"
  },
  {
   "cell_type": "code",
   "execution_count": 1,
   "id": "7a9c4f7e642b88be",
   "metadata": {
    "ExecuteTime": {
     "end_time": "2025-08-03T01:34:03.613418Z",
     "start_time": "2025-08-03T01:34:03.601418Z"
    }
   },
   "outputs": [],
   "source": [
    "def read_data_day4(path: str) -> str:\n",
    "    with open(path, \"r\") as file:\n",
    "        content = file.read()\n",
    "    return content.split(\"\\n\")"
   ]
  },
  {
   "cell_type": "code",
   "execution_count": 2,
   "id": "84c5f1d224e68d50",
   "metadata": {
    "ExecuteTime": {
     "end_time": "2025-08-03T01:34:03.956419Z",
     "start_time": "2025-08-03T01:34:03.942419Z"
    }
   },
   "outputs": [],
   "source": [
    "grid_path = \"data/advent-of-code/day4.txt\""
   ]
  },
  {
   "cell_type": "code",
   "execution_count": 3,
   "id": "841279952548e920",
   "metadata": {
    "ExecuteTime": {
     "end_time": "2025-08-03T01:34:04.127433Z",
     "start_time": "2025-08-03T01:34:04.112432Z"
    }
   },
   "outputs": [],
   "source": [
    "letters = (\"X\", \"M\", \"A\", \"S\")"
   ]
  },
  {
   "cell_type": "code",
   "execution_count": 4,
   "id": "7fa1532235546a49",
   "metadata": {
    "ExecuteTime": {
     "end_time": "2025-08-03T01:34:04.285459Z",
     "start_time": "2025-08-03T01:34:04.270460Z"
    }
   },
   "outputs": [],
   "source": [
    "moves = (\n",
    "    (0, 1),  # left to right (ltr)\n",
    "    (0, -1),  # right to left (rtl)\n",
    "    (1, 0),  # top to bottom (ttb)\n",
    "    (-1, 0),  # bottom to top (btt)\n",
    "    (1, 1),  # diagonal ttb ltr\n",
    "    (-1, 1),  # diagonal btt ltr\n",
    "    (1, -1),  # diagonal ttb rtl\n",
    "    (-1, -1),  # diagonal btt rtl\n",
    ")"
   ]
  },
  {
   "cell_type": "code",
   "execution_count": 20,
   "id": "1768d086825dd83d",
   "metadata": {
    "ExecuteTime": {
     "end_time": "2025-08-03T01:35:40.696425Z",
     "start_time": "2025-08-03T01:35:40.682426Z"
    }
   },
   "outputs": [],
   "source": [
    "grid_example = \"\"\"MMMSXXMASM\n",
    "MSAMXMSMSA\n",
    "AMXSXMAAMM\n",
    "MSAMASMSMX\n",
    "XMASAMXAMM\n",
    "XXAMMXXAMA\n",
    "SMSMSASXSS\n",
    "SAXAMASAAA\n",
    "MAMMMXMMMM\n",
    "MXMXAXMASX\"\"\".split(\"\\n\")"
   ]
  },
  {
   "cell_type": "code",
   "execution_count": 21,
   "id": "4f74bde2ccddf3bf",
   "metadata": {
    "ExecuteTime": {
     "end_time": "2025-08-03T01:35:40.942483Z",
     "start_time": "2025-08-03T01:35:40.928495Z"
    }
   },
   "outputs": [],
   "source": [
    "grid_day4 = read_data_day4(grid_path)"
   ]
  },
  {
   "cell_type": "code",
   "execution_count": 22,
   "id": "541f3d879dd896ad",
   "metadata": {
    "ExecuteTime": {
     "end_time": "2025-08-03T01:35:41.581046Z",
     "start_time": "2025-08-03T01:35:41.568734Z"
    }
   },
   "outputs": [
    {
     "data": {
      "text/plain": [
       "['SSSMMAASASAMXSSMSMMSSSSSSMSSMMMSMSAXMAMASXXXXMXMXSXXXMAMMSSSSSSXXAMXMSSXMAXMMXMMSSSMSAMXMXSXMSMSSSXMMSAMMSAMXMSMMMXSASMMMXMXMMXXAMXXMASXMXMS',\n",
       " 'AMAASMMSASASAAMMAAXXAAXAAAAXASAAXSAMXSXASMSMAMSMASMSMXAXSAMXAAAMSXXAMXAAMXSAMAAXSAAAMAMAMASMMAASAXSAASAMXAAXAXAMAXXXAXAASMMASMASXMSXSAMAMMMS',\n",
       " 'MSSMMAAXASAMXMMSSSMMMMMMMMMXAMMMMSAMAMMXMAMSAMAMXSAAASMMMASMMMMMAASXSMSAMXAASXSMMMMMSAMMMASASMSMAMMMMSAXMSMSMSMSMSMMMMSMXAXASXAAAMAMMASAMAAM',\n",
       " 'XXAMXMMMMMMMMXXAAAXMSAMXSXMASXSXXSAMXSSXMAMXMSMXAMMMXAMXSAMAMAXMMXMXAMXAAMMXMAAMXAAXXXSXMASMMMMMXMMMASAMXXXXXAXAMAMAAAMMSSMASMSSSMASXXMXSMSX',\n",
       " 'MMMMSMMMXMSASAMMXMXMMMXAMAMXXAMMXXXXSAMXSAMAMAMXMASMSMAXMASMMXSAMAMSSMMMMXXXMMMMMXSSMSMAMASXMASMMSXMASMAMMMSXMSXSASXSMSAAAMSMMAAAMMMXXAAXAMA',\n",
       " 'AAAAAAAMAMXASMXAASXSAAMSSMMSMAMMAMSMMAXXAMSMSASMSMXXAMSAXXAAAASMMXXAMXASASXMMASASAAXMASAMASASASAMXSMASMSAAAAAXMXMASMMAMMSSMXAMMMMMMASMXMMAMM',\n",
       " 'SSMSSSMSASMAMXMSMSASMXMAAAAMXMMMAXAASAMXMMAASASAASMSXMAMSMSMMXXASXMASXXMAMXSXAXASMSMAMSXSXXXMASMMMMMXSAXMMSSMMXAMAMAMAXXAAMSMMSXMAMASAAXAAXX',\n",
       " 'XXAAMAASAXMSMSAMXMMMMSMSSMMSMXSXMXSXMASXXMMXMXMXAMMAMMMMAMAMSSMAMAMAMMSMMMAMMSXMSAMXMXMMMMMXSXSAAXASMMMMSXMAMSSMXSSSSMSMSSMAAAMAXXMASXSXXXXX',\n",
       " 'XMMMSMMMSMAAAMAMAAXXAXMMMAAAXMSASAMASAMMMXMXSXMMXSXSAMXSMSMSAAAMSSMAXAAMAMAMXAASMMMAAAXAAAXMSASMMMMSAAAMAXXAXMASAXXAAXXAMAMSSMSMMMSAMAMASXMS',\n",
       " 'SXMAMXAAXMSMMMAMMSMMMXSMMMSSSMSAMASAMXXSXASAMXXMAMMMXMASXMXMMSMXAXSMSSMSXSASMSSMAASXSXSMSXSAMXMAMSMMMMSSMMXSMMAMMSMSMMMMSAMXAXAAAASAMSAAAAAX',\n",
       " 'AAMSSSMSSXMASMMMXAMAXAAAMAMXXAMAMXMMMSAMXXMAMXXMASAMAXAMMMMSMMMMMXAMAMXAAMASXXMMSMSXMASXAAMXMAXAMAAMMMAMXAMMAMSAAMXXMAMASAMXSMSXMASXMXMASMMM',\n",
       " 'MXMAAXAMMMMAMAAASMSAMMSMMMSAMMMAMMAMAMASXMSAMSXSASMSXMASXAAMMASMXXMMSSMMSMASMSXAMXMXMAMMMSMMSSSMSSMMAMASMSASAMMAMXASXSMASASXXAMXMAXMSMSAMXAA',\n",
       " 'XMSMXMMXAXMAMSMMMXMASAAXAXMXMXSASXAMMSXMAMMXSMASAMASXAXXXMMMSAXMMMMAXXAXMMAXAXMXSAMMMAXXMXAMXAAXAXASXSAMXXMSXMXSXMASAAMAXXMAMAMXMASXXAXAXSSS',\n",
       " 'XAAMMSMSXSMMMXASXXSAMMSMSMSXMASASXXMAMMSMMSMSMAMXMAMMSSMMSSXMMSAAAMSSSSMXMSMMMMAMAMAXMXSASXMMSSMMSXMAMMSMMAXXMAMAMAMMMMSSSMSMAMXMASAMSMMXAAX',\n",
       " 'SSMSAAXAXMAMAMAMAMMAMAAAXAXMMMSASMSMAAAMXMAAMMAXXMXSMMMAAAXAAAXMMXSAAMMAAMXSXAMASXMSMSAXMMSXMAAAMXMASAAAAMMMMMASXMASMXAAAAAASMSMXSMXMAASMMSX',\n",
       " 'AAXMMSAMXSXMMSSMSMSAMMSSMSMAAXMAMAXSSSSXMSMSMSXSAMASAXSSMSSMMMSMSXMMSMASXSAMXXMASXAXXMAMSAMXMXSSMXAAXMSMSMAAAXASMSSSMMMMXMMMMXAMXMAMSSSXXMAM',\n",
       " 'XMMMSMMAXXMSXAAAMASXSAAXAAASXSMMMMMXMAMAAAAXXAXSAMASXMAMMXAMXXXAAAXAMXAMAMASMMSXMXSMSMAMMASXSAAAAXSXSMMXMXSXSAASAMXMXSMSXSXAMSMSMMAMAXMXMASX',\n",
       " 'XMAMAASMMMAXMXMMMAMAMMSMSAMMAXMXAXMAMAMMSSMXMSMSXMASASAMMSAMXXMXSSMSSMASXXAXMAXAXMMAXMAXMXSAMMMMMMMAMASAXAXAXMSMXSAMXMAMAASMXASAASMMXSMSMAMX',\n",
       " 'ASXSMXMAAMSXSXSXMASXMAMAMMMMAMSSSMSASMXMAXMMAMAMXMAMAMMSAMXMMXMAMMAXAMAAAMSMMXSASMMAMSSXSAMXMMXSAMMASAMMMMSAMXXMAXAXAMAMXMAMSMSMXMAXXAAAAASX',\n",
       " 'MAAXMXMMSMMASAMXMAMAMXSAMASMMSAAAXMAMAAXAXMASMMMSSSMXMXMASXAXAMXSXXSMMSMXMMASAAAMXAAXXXAMXSMSXMMAXSXMASXAAXAMXSMSMSMSSMXAMAXSXMXSAMXSMSMSMSA',\n",
       " 'XMMXAAMXMAMMMMMAMASAMXMAXAMAXAMSMSMSMSXMASXAXAAAXAAAAAMMMAMSSMSAMMMXXAMXSMSAMAMSMXSSXSMSMSMAXAMMSMSASAMMMXSXMAXSAAMXMAAXSSSMSAMXXAXAXMAMXMXM',\n",
       " 'SAMXSASASAXAAMMXMASAMMSMMXSXMAXAAXAMAMXXXMMMSSMSSMXSSMXAXMAXAMMMSAMMMSSMMXMAMXXMAXXAXSAXMASXSMMMMAMAMAXXAAXXMASMMMMAXMMMXAXASXMSSMMSMMMSMXSM',\n",
       " 'SAXAXASXSASXSSMSMMMAXMAXXMMMAXMMXMXMAMMSMMAAMAXAXXXMAMSSSSXMMMAAMMSAAMAMSSSSXMASMSSSMMAMSMSXXAAXMAMASXMSMMSASXMASASAMMSSMAMMMMMMAMXMASASMASA',\n",
       " 'SMMSMAMAMXMXAAAXXMMSMMXXSAAAMSXMXAXMASAAAMSMSAMMXMSMAMXAXMASXSMXSASMMSAMXAAASMMMAMXAXSAMXXXXSXMMSAXXMXMXAMSAMXMMSXMASXAAMXMASASMXMASMMASMAMX',\n",
       " 'XMAXMAMXMSXMSMMMMSAMASAAXMASXMAASMXSXSMMXMXASXMMMAAXAMMAMXMMAAASMMMSMMMMMMMMMMAMAMSMMMMSXMMXSMXXMXSSMMMMMMMMMMMAMAMAMMSMMMMASXXMASXSXMMMMMSS',\n",
       " 'XMASMSSSMXXXASAAXMASAMMSMMXMASXMSAMSXMAXAMXXMAMXSSMSMSAAMSMMXMXMAAAMXASXMASMASAXAMAXAAASAXAAMXMMSMAXAAXAAAASAMMAXMMAXXAMXSXXMAMSMMASASMXXAAX',\n",
       " 'MMMSAMAXXXMXASMMSMXMXMMAXXAMXMXAMAMMASAMMMSMSXMAXAAAMMMMMAAXMMMSSMSSMXSXMAMMAXMSSSMSSSMSAMSSMAAMAAMMXSXSSSMSASXMMAMAMSASASAMXAXSXSXMMAXMSMMS',\n",
       " 'AAAMAMAMXMSAMMMMAMMSMMMSMSSSMSMMMAMSMMXSAAAAMXMXMMMMSAAXSSXMMAAXXAXXMMSXMASMMSMAMAAAAMAMAMXAXMXSMSXSAXXXAAASAMAMSSMAXSAMAMSAMXMMAAAMAMMMAAXX',\n",
       " 'XMXSAMXSAAMASAXSAMXAAAAAASAAAXAMSSMMXAASMXMXMAMMSMMXMMMXAXAASMSSMSMMSASAMASAMAMASMMMMSXMAMXMMXAXMAAMASMSSMMMSMXMAAMSMMAMAMXXMAXMAMAMAXAXSSMM',\n",
       " 'ASASXXXMAXSAMXMSSSXSMMSSMMXMMMXMAXAASMMSXASASASAAMASMASMAMSXMXAXAAAMMXXAMASAMMSAMXAXMSASMSMSAMMSSMAMAMAXAMXMASAMXSMXASXMXXSAMSMMMSASASMMMAAA',\n",
       " 'MMASAMSXSAMXXXXMASXMAXAMXSAMXAAMXSMMXAAXMASASXSXXXASMAXMXMXXSXSMMMSXMMSMMAMAMXMASMXSASAMAAMMASAAAASMMMMSAMXSMXXSMXXMAMAMSAMMMMASXMXSAMXASMMS',\n",
       " 'AMAMASAAMXSMSSXSAMXMMMAXASASMSXSAAAASMMSXXMXMASASMMMMXXMAXXXMAXAMAMAXMASMSSSMSMMMAAMMMAMMMXSAMMSMMXASAASAMMSXSAXMASMSMXSAMSSMXAMAMXMMMSAMAMX',\n",
       " 'XMXSXMMXMXXAAAMMMXMASMXMXSMMAMAMXXMMSXAXMASXMXMAMASMMSAXMAMAMAMAMASXMSASXAAMXMASMSMSXSAMXMMMAXXAMXXXMMXSXMAMMAMMMAXAAXMXAXMAAMSMSMAAAAASXXMM',\n",
       " 'SXMAMSSMMSMMMSMAMMSAMAASMMAMMMAMMSMSMMAMXXMASAMASXMAASASMSMXXMSMSASXAMAMMMSMAXAMAMXSAAMSMMAMMSSSSSXSMSASMMSSXASAXXMSSMAXMMSMMMMAMASXMXSASMXS',\n",
       " 'ASAXXAAAXXXAXMXMSASAMXMXAXXXAMXMAAXAMXSXSMSMSASASAMMMMAMAXMMXXAAXAXMXMAMAXMXMSMMXXAMMMMAMXASMXAMAMASAAAXMAXAMAXMAXMAMXSSMAAAAAMAMXAMXMMMMMAX',\n",
       " 'MXSMMMXSMMSSSXSMMXSSMMXSSMSSMSSMSSSXSAXAMAAASAMMSMSSSMMMXMASMMXSAMMMAMASXXAAXAXXAMSSMXSAXSASXMAMXMAMMMXMMMXMMSXMSXMASAMAMSSSXSSSSSMSAXMXXMMM',\n",
       " 'XAAMAXXMAAMAAASXSXXMMMAXMAXAAAAMAMXAMXMAMSMXMAMXMXAAASAMXSXMASAMMMAXSSMSMSSMSXSMMXAAMMSAMMSMMSMMMMSSSMXSXMXXXXXSMASAMMXAMMXXMAMXAAXSASMMMMSS',\n",
       " 'MMXMMSASMSMMMMMAXAMMAMMMMMMXMMSMAMMXMMSMMMXMXAMXSMMSMMSAMXSSSMXSSSSSMAAXXAAXMXMAMMSSMMMXMXMXAAMAAXXAMMAMMMAMXAXASXMXASXSXSASMSSMXMASXXAXXAAX',\n",
       " 'MSSMXSMMAAMMMSMXMMMSAMAASASASMXMSXMASAAMXMAMMMXXXMAMXMAMSAXMAMAXAAMMMMMMMSSMXAXAMMAAAXSXMASMSMSSSMMSMMAXAASMMMSMMXSMXSAXXMASAAAMSAMXXSMMMMSS',\n",
       " 'XAAAAXXMXMMAAMXSMMASASMXSASASAXXMASASMMMXSSSXSASMSASMMMMMAMSAMXMMSMSAMXAMMAMSMSMSMSSMMSAMASAMAAAAAAAAXXSSMMAAAAAMSXMAMXMXMAMMMSMMXMAXMXSXAAX',\n",
       " 'MSSMXXAXXXSMMSAMASASAMXAMAMMMMMXSAMASMMSAAAAAAAMAMXAAASAXXMXAMXMAMAMXSXSMSMXAAAAAAXAXASAMASXMMMSMSSSSMMXMASMMSSSMSMMASASAMMAMXAAXAASXMAMMMSS',\n",
       " 'XXXAMMMMSMMSSMXMAMXXMMMXMAMAAAMAMXMXMAAMMMMMMMAMXMXMSMSASXSXSMAMXSAMASAMAAAXMMMSMXXAMXXAMAMAMSMMXAXAAAMASXMMAMAMASASASXSASMMSSXSMMXMSMASAMAM',\n",
       " 'SAMXMASXMAAXXAAMSMSXMXXMSSSSXSMXXSMSMMMSMMAMSAMAMXMXMASAMAMAMMASXXAMASAMSMMMSAMMXMMSMXSSMSSSMSAMMMMXMMMAMMSMAMSMMMXMXSAMAMAAMAMMMSAMXSASXMAS',\n",
       " 'AXSMSXSASMMMMMMXMAXAMSMXAXAMAMXSXSASMMMAXMAXAAXMAAAXMASAMXMAMSASASMMMMAMXMXAXAMAAMXXAMXXAXAXAMSMAAMSSSMMMAAMAMAAXMMXAXXXAXMMMSAAAXMAMXXMMSMS',\n",
       " 'MSXAXASAMMSAMASASAMXMAAMXSAMXMAMAMAMMXMASXSMSSMXSXSMMMSAMXMMMMAXAAXXXSAMSSMASXMSMSMSMMXMXMMMXMASMMSAAAASMSSSSSSMMAMMXXSMSMAAAXSMMSMXSMSMXAAX',\n",
       " 'XAMSMMMXMASASASASAMXAXMMMMXXXMAMSMSMSXMASAXAMMMXMAXAAAXAMSMSSMSMSMXSAAXXAASAMAXAAAAMMMAMAMXAAMMAMSMMSMMMAAAXAAAMSAMASXSAASMMSMMMMAMMSAMXSMSM',\n",
       " 'AXAAMAMMMMSAMAMXMAMMSMXAAMAMMSAMXAAXSAMAMXMASAMSMMSSMSSMMXXAAXXAAAAMXMMMXXMXSAMMMMXMASMSSMSSXSXSXSAAMXSMMMSSMMMMSAXXXAMMMSXAAAAXXMASMXMMMMXA',\n",
       " 'MXXXSASAMXMXMXMXSXMXAASMMXAAAAAMMMMMSAMXMAMXSAMXAAXXXMAMAAMSSMMMMMMMAAXMSMMAMAXXMSASXSXAAMAAXSAMASMMSASASXXXAMXXSXMSMXMSXSMSSSMSXXMXXSXSXASM',\n",
       " 'MAXXAMXXXMASXSAMXASMMXMAASMSMXSMAAXMSAMASMMASXMSMMSMXXAMMMAXXAMAMXSXSMSAAAMXSXMSAMXSASMSSMMSMMAMAMMXMMSAMXAXSMMXMASXAXXAASAAAAAAXSXMMAASMMMA',\n",
       " 'MAMAAMSXSAMXAAMASAMASXSMMAMAMMAMSMSASMSMASAXSAMXAAXXAMMXMASXMSMSMXMAMXMXMSMAMAAXMMAMXMAAXMAMASXMASAAXAMAMMSAAMAASMAXMMSMMMMMXMMMXSASMMXMASAX',\n",
       " 'MSSMSXMASAMMXMAAMAMAXXXXSMSAMSAMXXMMXAXMASMXSMMSMMSMXSAAXAMAAAXMXMSMSASMSMMASMMMXMAXAMMMXMSSMMMAAXMSXMSMMAMMMMSXSXMMAAXAXSXSXMASASXMSAMXSMSS',\n",
       " 'MAAXAAMAMAMAAXMXSMMMXMSXSXMAXMAMMAMXMMMMAXXAMXAMMXAAAMMSMASMMMXMAAXXMAMXAXSMXXAAAMXSXSAXASMMMASMMSAXAXAASXSAXXXXMAXXMSMXMSASASXMASXMMXAMXAXX',\n",
       " 'MSSMSXMASAMXXXMXSXAXSMSAMXSSMSMMSAMAMSAMMSMMSMXSMSMSMMAXXXMASXAXASXXMAMMSXMXXSMSSMMAXMXMXMAASXMAXXAMAMMMSASMSMMAMSMSMMMXAXAXAMAMAMXSAMSXMSMM',\n",
       " 'MXMAMXXMSMSXSAAAMMXMAAMXMAMAMXMAMASAMSAMMAMXAMMAXMXAAMASASAMXSMMAXAXSAMMMASAMAMAAASMSSMSASXMSMMSMMSMMMMAMXMAMXMAMMASAAAMSMXMASXMXXAMAMXAMAAX',\n",
       " 'SAMAMAMXMAAASMMAMSSSMXXSMXSAMAMASMMXXSMMXSSSXSSMASMSSMSXAXXMAAMMSMSMSASXSAMASAMXSMAASASAMXAAXXAASAMAMXMASXMAMMSXSMAMMMMMAAXSAMXXXMMSSMSXMSSM',\n",
       " 'XAMASAAAMMMXMXSXSAAXXSXAAASAXXSAXXMSAMXAXMAMSXAXMAAAXXXMMMSMMMXAXAMAMAMXMXSMMMXXAXMSMSAMXMMMMMSSMSSXMMSASAMSSMAAXMAMMXSMMMMMAMMSMAAAMMXAAAAA',\n",
       " 'SMMASXSMSXMASAMXMMSMSMMMMMXAMMMMXSXXXMMMSMAMMSAMXMMSMXAMXAMXMAMSMMMAMAMXSMSXAAXSAMXXMXXXAAXAXAMAAAXASAMXSAMAAAMMMMAMMAMMSMMSMMAAXMMSSMMMMSSM',\n",
       " 'MSAMXMAXMAMASMSXXMMXAAAXAMMSMMASAXMMXMAXXMAMXAXAAXXAAXSMMMMAMAXXASXXMSXMXAMMMMXXMMSMMAMSMSMSMSSMMMMMMSXMMAMMMMMSXXSXMAMAAAXAMSSSXSAMAXXAXAMX',\n",
       " 'XAXMSXMAXSMASAMMSMMXSXMSMSAXASAMMAAMXMAXMSMXMMXSMMSMSMMAASMXSXMSAMAAXXAMMSMAXMXMAAXAMAXAAXAXAAXAAXXSAMXSXMXXSAMXAMXASASXSSMAMAAAAMASAMMMMASX',\n",
       " 'MMAMXAXAAMMMMMMASAAMMAMXMMXSAMXMXAMXAAMSAAMASXMMSMAXXXSSMSAMSAMMAMXMMXAMXMSSSMASMMSSMMXMSMXMMMSXMMAMASAMXMAASAMXSXSAMASAAAXSMMMMXSMMMSAAMMMX',\n",
       " 'AXSMAMMMXMAMAXMASXMASAMAMXMMAMASXSSMSSMAMXSXSAMAAXSMSXXMMMAMMAMSMMMAAXSAMMXMAMXSAMAAAASXXXXSXMSXMXSMMMAMAMXXSSMAMAAXMXMMSAMXAXSXXXAAASMSMAAX',\n",
       " 'SXXAASAXASAMXAMXXAMXSASASMSSXMXSAAXAMAXXSMSMSAMSMSAAXMMAASXMSAMXAAXMMMMAMXASMMMSAMSSMMSAAMXMAXMASAXAMSASASMAMAMASMSMSXSMXMASXMXXXSSMXSAMXMSS',\n",
       " 'MAMSMSASMSASXAMAMAMAXXMXSMASMMMMMMMMMMXXAAXASXMAXSMSMAMSMSAMXMMSXMXSMSMSMSMSAXASAMXMXXXMXMASAMXMMMSAMSMSMSAXMXMMSAAAXAXMMAMAMXMMXMAXAMAMSMAA',\n",
       " 'MAMXAXAAASAXXAMXSSMMSSMASAMXMAAMASAXAXXXMMMXMASXXXAMXSMMMSAMXAAXAMASXSAXAAXSAMXSXXXXMSMSMSASASXXAMMAMXXXMMXSMAMXXMMMMAMSAMXMAMAAXXSSMMSMAMXM',\n",
       " 'SAMMAMMMMMAMSMXMAAAAXXMASAXSSSXSASMSMSMMXASASAMXMMXMAXAAASAMMMMSSMASAMSMXMAMAXMSAMMXAAAAAMAMAAMMSMSMMMSMASAMMAMASAMXSAMXSXMXMASMMMAAAAMSMSSM',\n",
       " 'SAMMMAMXXMXMXXAASXMMSXMASMMAAMXMASMSXAAAXASASAXXMMSMMSSMMSASAAMAAMAMXMXMXXSSSMASXMMASMXMMMAMXMXAMXAAAAAXXMASASXMSASMMAMAMMMXXXMAAMSSMMXAMAMS',\n",
       " 'SXMSAMXSXSMXMMXMMXAXXXSXXXXMXMAMXSAMSSSMMAMMMMMXAASAMAMXASASXSMMXMAMAXAMXMXAAMMMAXMAMXMSASASXXMMMSSSMSSSXSMMMMAXSAMASMMASASAMXSASAAAAXXAMASX',\n",
       " 'XXXMASMMASAASMSSSSMSMXMAMXMMMSMSAMAMMMMXAAXAAASXMAMXMXXMMMMMMXMSSSMSSSMSMSMSMMMSSMMMSAMSASASMSXAAMMMMAAAXAXAXSAMXXSMMAMSXMMXMASXMMSSMMSAMXSM',\n",
       " 'SMXSAMAMAMSMAAXAAXAAAAMAMAMXAAAMXSXMSASMSXSSMMXAMASXMMSAAASAMSAMXAAAAXAAAAAAXXMAAASAMXMSXMAMAMMMXXAAMMXMXMMMMSASMMSXXAMXXSXSMAMMMAXMAXAAAXXA',\n",
       " 'AXAMAXXMAMAMMMMMMMSMSXXASXSMSSSMMXAXSASXMXAMMMSXMASAAASMMMSAXAMXSSMMSMSMSMSXSXMAXXMAXMASMMAMAMXMASXMSSSXMXASXSAAAAMMMSSMASAMXAMAMMMMSSSMMSSS',\n",
       " 'SMMMXXAMXMMSMXAAXAXMAXSXMASAAXAMASXMMAMASMMSAMAAMXSMMMSAMMXMMSAMAAXXXMAXMAMXAXMASXSMMSASASMSXMAMMMAAAAAAXSASAMAMMXSAMAAMAMAMSMSXSMAXAXAAAXMM',\n",
       " 'XAXAXXSMMMAAAXSMSXMMAMXAMXMMMSMMXMAMMAMXMAASASMXMAXXAXMASMXSAMAMSXMXXXMSMMSAMMSAMXAXXXMSAMXXASASXSMMMSSMMSAMXMMXSASAMSMMAXAMAAAASMMMMSXMSSSX',\n",
       " 'SMMMSAMASMMMSXXAMXXMAMSSMMMAMMMMXSAMMSMMMMMSXMXAMXSMSXSAMMAMASXMAASAMSXSAAXAXMAMSXSMMMMMMMMSXMAAXAXXXXAMXMXMXAXAMMSSMAXSMSSXMMMSMAMMXSAMXAMS',\n",
       " 'SAAXMAMAMXAXMAMAMSXSMXMAASMMXAXMAXXSXMASXMAXMXSSSXSAMMMAXMASAMXSSXMASAAMMMSMMMMXSAAXMAMAXAAXXMXMSMMMXMAMXSAMMMMXSAMXSXXXMAMMASMMMAMSASAMMAMA',\n",
       " 'SMMSSXMASXXSMMMAMXAMXAMSMMASMMMMXSXMASAMAMMSXMAAXAMXMMSSMSASAMAMXMXMMMMMXMAMAAXAMSMMSSSSSMMSASMMAMAAASMMASXSAMSAMASASMSMMASXAXASXMSMASAMSMMM',\n",
       " 'MASAMAXXXXMSAMSXSMAMSXMMAXAMAMSMXAAMMMASMMMMMAMMMSMSXAAMAMASAMMMAMASAMASXSASMSMXXAMAAAAMXXSAMXMSASMSXSAMASASXSMASAMAXAAAMASMSXXMAMAXXMXMASAX',\n",
       " 'SXMASMMSMMASAMXAXXAMSMMMSMASAMAAXMAMXMXMXMAMXMXXXMASMMSMMSASXMXMAMAXAXASAMMMAAMXSASXMMMMMMSMAAXMAXAXASXMXSAMMXMAMMMSMMMXMASAMSSSSMMMAAXSXSXS',\n",
       " 'XXSAMMAAAMASMMMMMSSXSAMAAMXMMSSSMMAMXSMSASXXSXMASMMMXXXAAMXXASMSSSMSSMMSXMAMMMSXSMMAXAXASAMXSXSMAMSMMMSMMMAMXSMMXSAXAMXSAMXXMAXAAMXAMSMSAMMM',\n",
       " 'MMMMSMSSXMASMAAAMXMASXMSXMAXXAXAAXXSAAAMASMASXMAXAXMASMMXSXSAMXAAAAAMAXMASXSAAXMMMSSMMSMMSSXXMAMXXMAMAAXASXMXAAAAMMXAMXXASXXMXMMMMAMAXMMAMMX',\n",
       " 'AAASAMXAAMXXXXSXSAMXMAXASMSXMMSSMMXMXSSMAMMAMAMASMMMXXXAAMAMAXMMSMMMXSMSXMASMSMASAMAMAXAAXMASMMMSMSAMSMSMMMMSSMMSSSSMMSSSMMXSMSXASMMSMMXSXXS',\n",
       " 'SSSSXSMMXSMMMMMAMXXAMSMASMMAAAXXSXXMAXXMASMASXMAXAAXSMSSSSXSMMMAAMXSAMMXMMXSAAASMXSAMMSMSSMAMAAXMASXMMXSAMAAAAMAMAMAAAAMXAXAXAASAMXAMAXAMMMM',\n",
       " 'XMAXASMMAXAMXAXXXMSMSAMXMAMSMMSAMMSMXSAMXMMAMXMXSMMSXAAXXMAXMAMASXAMMASMXSAMXMSMAXXXMXAAXAMXMSMMSMMMAMAXXXMSSSMASMSSMMSASXMMXSMXXXMMSSMMSAAS',\n",
       " 'XMAMMMAMXSSMXMXAXMAMAMSSMAMXMXMXMAXXAMAMSSMMSAMASMMMMMMSSMMMSMSAMMXXSASAAMXSXXAMXMMSSSMSSMMSAMXXXAAXXMAMMSXMAXMXSMAAXAXMXXAAAMXMXSXXMXMAMXMX',\n",
       " 'XMAXXXMMMMXAMMASMMASMXXASXSMMAMAMMSMMSAMMAAXSXSASAAMXAXAXAAXXAMASXSMMASMMMMXMSXMASXAAXXMAMAXMAMXSXMSSMXSAAMMMMMXMXSMMXSMSSMMMMAXAMMMMAMASMSM',\n",
       " 'SSSSXSAAAMMMMMAXASAMXXSAMSAASASASMSXMAMXMSMMMXSMSMMMSSMMSMMXMMMMMMSXMAMAAXMMAAASASMSMSMSAMASMXMASXMAAXAMXSMASAMASAMASAAAAXAAMXAMXMAAXSSXSAAS',\n",
       " 'MAAAAMSAMXAAAXASMMMSMMMMSMMMSAMASXXAMMSSMMAASAMXSXMXXAAASASAAXAXMAMAMXSMMSAASMMMMSAAXAASXMASMSMAMAMSSMXSAMXAXAXASASAMSMMMSSMSAMSSSSXMMAMXMAS',\n",
       " 'MMMMMMMMMSXSXSMXASAAMAAXAAAMMXMXMAMMMAAAASXMMASAXAXMSMMMSASASXSSMASAMMMMAAMMAXXAXMXMXMXMXSAMXAMASAMAMXMAMSMSMSMXMAMXMMXAAMAAAMXAAAAXSMXSMMXX',\n",
       " 'XAAXAMXMASXMASXSSMSSSXXSSSMSAXMMSAMSAMXSMMMXSMMMSMMAAXAAMAMXMXMAXASXSAAMSSSSSMMSSSMSMSAAXMASMMMAMXMASAXAMXAXAXXASXMMAXMXSMMMMXMMSMMMSAASXMMM',\n",
       " 'SMSXMXAMMSAMMMAXMAMXMAAMAMXMASMAMMXSASAXAAXAMAAMAMMSXSMXSMMXMXXAMMSMMMMXAAMAASAXAMAAASMSMSSMAAMSSMSASMSSSMAMAMSASAMSXXMAMXSAMXXMAXAAMMMSAASX',\n",
       " 'MAMAMSXSASAMXMSMSXMAMMMMAAAMASMAXMXSAMXSSMMSSSMMAXXMMSMMSAASAMMAXXSAMSMMMXMSMMMSAMSMMMXAAMAXMXMXAMMXMMXAAMAMAMXXSAMAAASXMAXASXMSASMSMMXXMMAA',\n",
       " 'MAMAMAAMMSMMMAMXXAMSMSASXMSMASXAXSAMAMMMXAAXMAASMXMAAXAAMXMAAMXMSMMSMAASXSXXXMXMAMAMXSMMSSMSMMMSSMMMSSMSMMMSAMXAXAXMSMMAMSSXMAAMASXMAASMMMMM',\n",
       " 'MMSAMMXMXXAAAXSAMMMXASASAAXMASMXXMAMAMXAMMMSMAAAXAXMMSMSSMXSSMAXAAAAMXMMAAAMXAMXXMMMASAMAAXXAAXAMXSAAAAMXMASASAMSMMMMASMMMXMMMMMXMASMMMAMXXX',\n",
       " 'SMSXSMMSSMSASMMAMXAMXMAMMMXXXXAXSMMSMSMMMSAMXXMAXSMSAXAMXAXMAMXSMMSSXXXMXMMMSSMMSSXMASAMSMMSSMMMSASMMMMMSSXSXMXXAMSXXAMXAXAXXAAXAMASAMSSMMSS',\n",
       " 'SASMAXAXMAXAMXMAMXMXSAMXSXXXSMSSMSAAXAAXAMXSMSMSXXAMXMAMMSMSASMSXAXAMSMMSASXMAASASAMXSXMAXAMAXMXMASXXXXAAMXMXMASMSMAMSMSMSMSSSSMXMAXAMMASAAA',\n",
       " 'MAMMMMSSMSMSMAMXSXAAAAMAMMSXMAXAAASXSSSMXSAMXXAMAMXMXMAMAMXMASAMXMSAMXAAMXXAMSMMASXMAMXXMMMSAMSAMXMAAXMMXSXSAMXSXAMMMAAAAAMMMAXMXXXSSMXMMMSM',\n",
       " 'MAMMXMXAAXAXXXSAXMMSSSMAAASAMXMMMMMXAAMAAMASXMAMAAXSXSSXSAMMMMAXAMXXMSMSSMSSMAMMAMAMASMMXAXMAMSASAMAMSXSXSMSMXAMMXSMSMSMSMSXMASMMSMAMASXMAMA',\n",
       " 'MAMMASXMMMXMMXMMMSAAXXASMASAMSMXSASMMMMMMSXMMAAMXMMXAMXAXAXAXXSSMSASMXAXAAAMMAMMASXSMSAMSSSSSMSAMAMAXAASAMASXMAMXXXXAXMAMAMXMAMAAASMXAMAAAXX',\n",
       " 'SSXSASAXMASXSAAXAMMSSXMMSASXMAXAMAMAXXAAMXMMAXSSSMMXSMMMMASXSMMAAMASAMXSMMSSXMMSXMASMMAMAAXAAAMXMXSSSMMMAMAMMSMSMMMSXXSASASXMMSMXMSXMASXMXAM',\n",
       " 'SAAMAMAMMSXAASMMSSMMMMMAXMXXXSMSXSSSMSMMXAAXSXAMMAMAXAAXAMXAMASMMMSMXMAAXAXMASAMXMASASXMMMMSMMMSMXMAAXSSXMXSAMXAAAXMAXMASAMXMXAASMMMSXMXSXSM',\n",
       " 'MMMMSSXMXMMXMASAAAAAAAMMSSSMXXAAAMAMXSXSMMMAXMMASAMMSSMSSSSMXAMAXXAAAMXSMSMSAMAMXMXSMMXSXXAMXASAMAMSMMASAXAAXMSSSMSMMMMMMXMASMMMMAAMSAMASMAS',\n",
       " 'SSXXAAASASAAXMXMXXMMXMSAAAAMMMMMMMAMASAMXSMXMAXASXMXXXAXXAAMMSXMMAMXMAXXAMAMXXAMMAMXAMASXMASMMSASMMAAXMSXMASAXMAMMAASMXAAASXSAASMMMXSAMAXSAM',\n",
       " 'XAMMMSXMASXMSMMSSSSMSAMAMSMMAAAXXMAMXMAMAXAASXMMMMXSMMMMMMMMAMAMXXXSXXAMAMXMSXMXXAAXMMASAMAMAMSAMXMSMMXSXAMXMAXMXXSXMXSXSMSASMMSAXMASXMMMMMS',\n",
       " 'XAXXMAMMAMXMXMAXXAXAAMSAMXXSXSXSXSXMAMAMXMMMSAAAMSMSAAAAAAAMASAMASAMXMSSXMAMXASASXSSXMXSXMMXAMMXMXMAAMMXMMMSMSSSMMMAMAMMAAXXMAMSMMMMSAMXMMSX',\n",
       " 'SMMMSAXMASXSAMSSMMMMMXSASXMSAAASAAASASMSMSSMSMMMMAAXXMXSSSMSAXAMXXASXSAMAXMMSMMASAAXXXAMMMSSMSXMMASMSMXASAAAAXMASAXAMAMAMMMMSAMXXMAXSAAAXMAS',\n",
       " 'XXAAXAMXXSAMXXXMXAAAAXXMMAAMMMMMAMAMXMAAMAAAXXSSSMSMSMXMXMMMMSMMMXMAMMASAMSMSAMXMMMMXMXSAAXAAXMASAMAAASASMXMMMMAMSSSSMSXSAXXXXXMXMXXMASXSXMM',\n",
       " 'MMMSSXSXXMXMMMSSSMSSSSSSSMXXXMXXSSMSSMSMMSMMSMXAAAXAAMAMXMAXAAAAMAAAMSMMMXSAMXSSMXAAXMASMXSMMMMXMAMSMMMXXAMSXSMXSAXMAMAASXSMMMSAMXSMSAXAMMXA',\n",
       " 'ASAMAMXMMAXXAXXAAAXAAMAAXAXSMMSMMAXAAAMXMXMASAMSMMMSMSSSXXAMSSSSXMXAMAAAMXMMMAMAASASMMASXASAMASXMXMXAXSXMSMXAMAMMXSAMAMXSASMAAMSASMAMASMXAMX',\n",
       " 'SMMMASAMMSMSSSMSMMMMMMAMMXMAAXXAXMMSSMMASAMASXXXMXXXAAXMMXAXAAAMXXXSSSSSSMAXMAXMMMXMXMASMMSAMSAMXASMMMMMAMAMXMAMMSMMSXXAMAMMSSSMSXMXMXXMASMS',\n",
       " 'MAXSAMMMAAMAAXAMXAXASXMXAXAXSASMMXAAAAMAMASASAMXSSMMMMSMMMXMMMMMMMMMAXAAAXXMSSSSSSXSXMXSXMMMMAASAMXAASXAAMMMXSXSXSAAXAMXMAMMAXMMXXMAMSASMXAX',\n",
       " 'SAMMSMMMSSMMMMMMMSSMXASMMMSAMMAAMMSSSMMSSXMMSAMAXMAXAAAAAMAMXMXMXAAMMMMXMMSMMAAMXMXMASAMAMSAXSXMAXMMMMAMXSMAASXSASMMSXMSSSSMMSMASXSXXSAMAMMM',\n",
       " 'MASXMMSAMAAAXSASXMAXSXMAAAMXMMSMMMMMMMAAAMMXSAMSSMSXMMSXMSASAMAMSSXSAMXSXMAAMMMMAMAXXMAMAMSAMXAMASMSSMSMMSMMXSAMAMAMXXXAAXXAAXMASMMMMMMMAAXA',\n",
       " 'SXMXAAMXSSMMMXASASXMMSSSMMSAXXAAAXMASMMSSXXASAMAAMXXMMXXASAMMMAXXAASAXAAAXMXMAAXASXSMSSMSXMMMSAMASMASAAMAMASXMAMMSXMXSMMMMSMSSMASAMAAAMMAXAX',\n",
       " 'XAMSMMSAXAMXSMMMMAMXAMMASXXXMMXSMMSMSXXAMMSXXAMXSMMMMAXMMMSMXSSSMMMSMMMSSMMMMSMSAMASXAXAMXSXAMAMXXMASMMMMSAMAMXSXMASXMAMAASXMAMXSMSSSMSXMAXM',\n",
       " 'XMMAAAXMSXSAXAXMAXXMASMASXMSSSMXMAXAXMMASAMMSMMXMAMSAXSMSAAMXMXMXAASASMAXAAMMAMMXSAMMSMSMAMMMSMXSXMMSAXXXMAMMMAMAXAMAAAMSXSASMMMMAXAAAAMMSAA',\n",
       " 'SMSSSMSXSAMMSSMSMMSMMMMAXAXAAAMMSXSAMXSAMXMAASXXSAMAAXSAASMSAMSSSMMSAMMAMSMSAMMAAMXMXXAAMAMAXAAASXMAXAMSXMSSMMXSSMSXSMMMMASAMXMAMXMSMMMSAXAS',\n",
       " 'AMAMAMMXMXMAXAAMMMSAAXMASMMMSMMXMAAXAXMXXXMSSSSMMMMMSMMAMMXSXSAAAXMMMMMXMMSMAXMMXSAMXMSMSSSSSMMMSAMXMSMSAAAAXSAMXAAAXASAMMMXMASXSMAAMXAMMXAM',\n",
       " 'MMXSAMAASAMSSMMMAAMMMXMXMAAAXXXAMMMMSSMSMSAMAMXMASXXMAASXMASXMMSMMXAXMXMAXAXMXXAAAMXAMAXXAAXXXAXSAMXXMASXMMSMMASMSMSMASMSAMXXMAAXASMSMSSSMMM',\n",
       " 'XXAXAXSXSMSMAMASMMSASXSMSSMMSMSMXXAXXMAAAMAMAMASXSASXSXMAXAMMSMMAXSXSMSMSMMMSMMMXSXMXSXSMMMMMMMMMAXSMMAMASXMAXXMAXAAMXMASMMMSMMMMXXAAAAAMAAA',\n",
       " 'SMSSSMMAMXAXAMMSAMMAMAMXAXXMAAAMXSSSMMMMSMXXAMXMAMASAAXMMMXXXAAMAMAXMASAMAXAAMSSMMXMAMXXMAMXXASASXMXSMASAMASXMSMXMMMXXMASXMAAAAXSAMMMXMMSSMS',\n",
       " 'XAAAXAXXMXMMSMMMAMMSMSXMASMSMSSSMAAAAAXXMMMSSSMSSMAMMMXAAMXSSXSMXSMMMXMAMSMSXSAAXAMMAMXMASXSSMSASAXMAMAMASAMXXMAMMMSMMSAMAMSSSMSMASXMMXXXAXX',\n",
       " 'MMMSMXMAXXMAXAXSXMAMAMXSAMXAMAAAMMMMSXMMMAAAMMXAMMXMXXXMASAXMAXMXMAMXMMXMXAXXMMSMMSSMSSXAMXAAAMXMASMMMMSAMXMAASMMSAAAASASMMMXMMAXMMAASXMSMMM',\n",
       " 'AMXXMASMMSMASAMXAMASAMAMASXMMMSXMXAXXAMSAMMSSMMMSMSMSAMSASMAMSXMAXAMXXMXAMMMMSAMAMAAMAMMXSMSMMMMSMSXMXAAMASASAMXASXMMMSAMXAMAXSASXMSMMAAAMAX',\n",
       " 'XSAMXMAMAAMMMMAMSMASAMMSAMAAXAXXMMMMMMMSAMXMAMMMAMMMMAXMAXXAXMASAMSMXASMXAAAAMASMMSSMASAMXAXAAAAAXSASMMSMAAMMAXMASMMSAMAMSXSAAMASXMASXMMMSSS',\n",
       " 'ASAMXSAMSSSMAXMMXXMSXMXMASMXMASASXSAASASAMASAMASASAXMMMMXMXXSSMMSSXAMSXMSSMXMXAMAMMAXXSAMXSSXMMSSSSMMXMAMXSXSAMXSXMAMASMMAMMMMMXMXSAMXXXXAAX',\n",
       " 'MXMAMMXMAAAMMMSAMMAMXXASMMXSXXSAMASMSMASXMXSMSXSASXSXMSSMSAAXASAMXMSMXAMAAAXSMMSSMMAMMSAMXMAXXAAMAXXXXXASMMASMMXMAMXSMMMMXXASMMMSXMXSMMSMSSX',\n",
       " 'XAMSASMMMMMMAAMAMSMSMSMMAMMMXMMXMXMXMMXMMMMMMMMMXMAMXAASAMXMSAMMMSAAMSMMSSMMSAAAXMMAXXSXMMMAMMMSSSMMMSXMSAMXMAXAMXMMXMAXXXSASAAASASASAAXAAXX',\n",
       " 'ASXXXMAMAMXMMMMAMAMAAMXSAMAMMMMXSAMXMMMMAAAXAXAMAMXMMMASMMXMMMMAAXAMMXAAMXMASMMMSSSMSAMXMAMXXXMXXMAMASXMMXMXSSMMSMSMMSXSAAMASMMXSAMASMMMMMSX',\n",
       " 'AMAMMSAMASAAXSXSSSSMSSMSXSAMXAAMMAAAAAASMSSSMSSSSSXXXMXMAMMMMAMMSSSXMMXMSXMXXXSAMXAXMAMASXSSMSSXMMSMASAMXASXMAXXAMAAMAMMAMMXMXMAMAMXMXAASMXM',\n",
       " 'MMAXASASAMMSMSAAAXXXXXAXASASMMMXSAMXSSMXAXAAXXAAMAMSXMAMAMAXXMSXMXMAMSAXXMSMAMXMXMSMSXMASAAMAAMAMSMMXSAMSMSXXSMSXSSSMAXMSSSMSAMXSXMXMSMSAMAS',\n",
       " 'XXMMMMXMASAXAMMMMMMMAMMMXMXMAAAAASAMXMMMSMXMAMMMMMAXAMAXSSSSMMMMMXSAMMXMAAAMAMAMAMAASXSXMMMMMMSMMAXSAXMMMXMAAMAMAXMAMXXXAAAASXSMXXXAAAMXASAS',\n",
       " 'XASMXXXMXAMXXXAAXMSAXAAXMSMSSMMSSMXSAMAXAAASAMAAAXXXSMMSMAAMAAAAMAMMXAAXMSXMASASMSMSMAMMSXSXAMAMAMSMAXSAMAMXMMAMSMSSMSAMXSMMMAMAMSSMSSMSAMAS',\n",
       " 'SXAASMSMSSXAMSXSAAAXSSMMSAAXAXXXXAXSXSASMSMSASXSXSXAAMXAMMMSMMSASXSASMSSMAMSMSXXAXMAMAMASASMMSASXXXMMMSAMSASXSAMAAAAAXXMXXXXMMMSMAAXAAAMAMXM',\n",
       " 'SMMAMAAMAMXMAXAXMAMMAAAXXAXMMXMMMSMMAAAMXMXSXMAMASMXMASXSMXAXAXAMXMASAAXMAXAMMMMMMMAMAXXMMMAXMASXSXXXAXMMMAXASXSMSMMSMSMAMXMSMMMMMSMMSMSAMXM',\n",
       " 'MASAMXMMSSSSSSSMSMXSSSMMSSMSXAAMAXAMXMSMXMASAMXMAMAAXMMAMMSMSXMXSAMXMMMSSSMXMAAAAASXSMXSAXSXMMXMAMMSMSSSMMSMXMAAMAXXXAAMASMMAAXSAMXMXAASMSAS',\n",
       " 'SAMAXMXAMAAAAAMAAMMMAAXAAAASMMSXASMMMXXXMMAXAMAMSSSXXXMAMXAAXXMAMXMAXXXMAMASMSSSMXXXAAAXMASMSAMMSMASAAAAMAAMAMXMXAXSMSMSASXSSSMAXMXASMXMAXXS',\n",
       " 'MASASMMMSMSMMMMSMSAMXMMSSMMMASAMXSMASMSASMMSSMSSMAAASXSASMMSMAMASXSSSXSMSMAMAMAMXSXSSMMSXXXAXAMAAMMSSMSMMSXSASASMMMXAMXSMMMMAMASXMMMXXMMSMMM',\n",
       " 'SXMAAMAMXAXAXXAXXSXSXSXAXAASXMAMAMXASAMAMXAAAXXAMMMMXAMXXMAMMAMXXAAAAASAAMMMMMAXXSAXAAMMMMMSMXMASMXMAMMXAAXXMSMXAAAMAMXMASAMAMSXAAAXSSMAASAM',\n",
       " 'XXMSMSASMMMSSMMMMXASXMMSSSMSASXMASMMSXMSMMMSSMSXMSMSMSMAMMSMMSMSMMMMMMMAMMSAASMMAMMMSAMXAAXAXMAMMMMSAMMMSSMMMMMSSMSMSMASAMMSMSMSMMSAMXMASASX',\n",
       " 'SXAAASXSASAAXAASAMXMAXAMXXAXAXMSASAMXAMMAXAMAAMXSAAAAAXASAAASMAAXAXSAMXAMASMMAAMXMAXXASXSSSXSAXSAMXSSMAAAXAASAAAAMXAASAMXSAAXAAAMSXXAXAMXMXM',\n",
       " 'SASMMMASMMMSSSMSSXMSAMXSMMXMXMAMSSMMSXMSXMMSMMMSSMSMSMSXSXSSMMSMSSSXMASMMXSXSSXMXSXMSAMXMAMXAMSAMXXSXSMSSSSMSMSSMMMSMSXXSMMSSMSMXSAMXMASMXSX']"
      ]
     },
     "execution_count": 22,
     "metadata": {},
     "output_type": "execute_result"
    }
   ],
   "source": [
    "grid_day4"
   ]
  },
  {
   "cell_type": "markdown",
   "id": "5ef7de57be99988c",
   "metadata": {},
   "source": "## Part 1"
  },
  {
   "cell_type": "code",
   "execution_count": 23,
   "id": "6e3f966753d0578a",
   "metadata": {
    "ExecuteTime": {
     "end_time": "2025-08-03T01:35:43.024634Z",
     "start_time": "2025-08-03T01:35:43.015636Z"
    }
   },
   "outputs": [],
   "source": [
    "grid = grid_day4"
   ]
  },
  {
   "cell_type": "code",
   "execution_count": 24,
   "id": "d932256fb84d2c06",
   "metadata": {
    "ExecuteTime": {
     "end_time": "2025-08-03T01:35:43.226677Z",
     "start_time": "2025-08-03T01:35:43.212676Z"
    }
   },
   "outputs": [],
   "source": [
    "def pad_grid(grid: list[str], letters: tuple[str, ...]) -> list[str]:\n",
    "    grid_width = len(grid[0])\n",
    "\n",
    "    padding_size = len(letters) - 1\n",
    "\n",
    "    padding_top_bottom = [\n",
    "        \"#\" * (grid_width + 2 * padding_size) for _ in range(padding_size)\n",
    "    ]\n",
    "    padding_left_right = \"#\" * padding_size\n",
    "\n",
    "    padded_grid = (\n",
    "        padding_top_bottom\n",
    "        + [padding_left_right + line + padding_left_right for line in grid]\n",
    "        + padding_top_bottom\n",
    "    )\n",
    "\n",
    "    return padded_grid"
   ]
  },
  {
   "cell_type": "code",
   "execution_count": 33,
   "id": "3748ebe9b7eabbed",
   "metadata": {
    "ExecuteTime": {
     "end_time": "2025-08-03T01:46:22.136431Z",
     "start_time": "2025-08-03T01:46:22.123432Z"
    }
   },
   "outputs": [],
   "source": [
    "def check_cell(\n",
    "    x: int,\n",
    "    y: int,\n",
    "    grid: list[str],\n",
    "    letters: tuple[str, ...],\n",
    "    moves: tuple[tuple[int, int], ...],\n",
    ") -> int:\n",
    "    total = 0\n",
    "\n",
    "    if grid[x][y] != letters[0]:\n",
    "        return total\n",
    "\n",
    "    for move in moves:\n",
    "        new_x = x\n",
    "        new_y = y\n",
    "        for i in range(1, len(letters)):\n",
    "            new_x += move[0]\n",
    "            new_y += move[1]\n",
    "\n",
    "            if grid[new_x][new_y] != letters[i]:\n",
    "                break\n",
    "            if i == len(letters) - 1:\n",
    "                total += 1\n",
    "\n",
    "    return total"
   ]
  },
  {
   "cell_type": "code",
   "execution_count": 34,
   "id": "af82f3704d67315b",
   "metadata": {
    "ExecuteTime": {
     "end_time": "2025-08-03T01:46:22.338431Z",
     "start_time": "2025-08-03T01:46:22.324432Z"
    }
   },
   "outputs": [],
   "source": [
    "def solve_grid(\n",
    "    grid: list[str], letters: tuple[str, ...], moves: tuple[tuple[int, int], ...]\n",
    ") -> int:\n",
    "    padding_size = len(letters) - 1\n",
    "    padded_grid = pad_grid(grid, letters)\n",
    "\n",
    "    grid_height = len(grid)\n",
    "    grid_width = len(grid[0])\n",
    "\n",
    "    total = 0\n",
    "\n",
    "    for i in range(padding_size, grid_height + padding_size):\n",
    "        for j in range(padding_size, grid_width + padding_size):\n",
    "            total += check_cell(i, j, padded_grid, letters, moves)\n",
    "    return total"
   ]
  },
  {
   "cell_type": "code",
   "execution_count": 35,
   "id": "30861fe448290e85",
   "metadata": {
    "ExecuteTime": {
     "end_time": "2025-08-03T01:46:22.541434Z",
     "start_time": "2025-08-03T01:46:22.513432Z"
    }
   },
   "outputs": [],
   "source": [
    "total = solve_grid(grid, letters, moves)"
   ]
  },
  {
   "cell_type": "code",
   "execution_count": 36,
   "id": "d0a06168e6a64f7c",
   "metadata": {
    "ExecuteTime": {
     "end_time": "2025-08-03T01:46:23.301435Z",
     "start_time": "2025-08-03T01:46:23.287781Z"
    }
   },
   "outputs": [
    {
     "data": {
      "text/plain": [
       "2718"
      ]
     },
     "execution_count": 36,
     "metadata": {},
     "output_type": "execute_result"
    }
   ],
   "source": [
    "total"
   ]
  },
  {
   "cell_type": "markdown",
   "id": "f12bbf3db91e270b",
   "metadata": {},
   "source": "Answer is 2718"
  },
  {
   "cell_type": "markdown",
   "id": "743e9a74f0baa3b4",
   "metadata": {},
   "source": "## Part 2"
  },
  {
   "cell_type": "code",
   "execution_count": null,
   "id": "3e98693d484756ce",
   "metadata": {},
   "outputs": [],
   "source": []
  },
  {
   "cell_type": "code",
   "execution_count": null,
   "id": "874f5740867437ef",
   "metadata": {},
   "outputs": [],
   "source": []
  },
  {
   "cell_type": "code",
   "execution_count": null,
   "id": "2ddd96414d52e261",
   "metadata": {},
   "outputs": [],
   "source": []
  },
  {
   "cell_type": "code",
   "execution_count": null,
   "id": "a3f5679a6eada638",
   "metadata": {},
   "outputs": [],
   "source": []
  },
  {
   "cell_type": "code",
   "execution_count": null,
   "id": "93d6bbba02265bb8",
   "metadata": {},
   "outputs": [],
   "source": []
  },
  {
   "cell_type": "code",
   "execution_count": null,
   "id": "4292e71780d46d6",
   "metadata": {},
   "outputs": [],
   "source": []
  },
  {
   "cell_type": "code",
   "execution_count": null,
   "id": "6f0a3f6e09f3be49",
   "metadata": {},
   "outputs": [],
   "source": []
  },
  {
   "cell_type": "code",
   "execution_count": null,
   "id": "ec3c81ddda3b3366",
   "metadata": {},
   "outputs": [],
   "source": []
  },
  {
   "cell_type": "code",
   "execution_count": null,
   "id": "7518c49f8ebcc7ea",
   "metadata": {},
   "outputs": [],
   "source": []
  },
  {
   "cell_type": "code",
   "execution_count": null,
   "id": "f522bfe4c4823775",
   "metadata": {},
   "outputs": [],
   "source": []
  },
  {
   "cell_type": "markdown",
   "id": "81d5a40b28e5b732",
   "metadata": {},
   "source": "Answer is 23963899"
  },
  {
   "cell_type": "code",
   "execution_count": null,
   "id": "b2511549c8c1f187",
   "metadata": {},
   "outputs": [],
   "source": []
  }
 ],
 "metadata": {
  "kernelspec": {
   "display_name": "Python 3",
   "language": "python",
   "name": "python3"
  },
  "language_info": {
   "codemirror_mode": {
    "name": "ipython",
    "version": 2
   },
   "file_extension": ".py",
   "mimetype": "text/x-python",
   "name": "python",
   "nbconvert_exporter": "python",
   "pygments_lexer": "ipython2",
   "version": "2.7.6"
  }
 },
 "nbformat": 4,
 "nbformat_minor": 5
}
