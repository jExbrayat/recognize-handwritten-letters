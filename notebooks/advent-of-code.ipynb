{
 "cells": [
  {
   "cell_type": "code",
   "id": "initial_id",
   "metadata": {
    "collapsed": true,
    "ExecuteTime": {
     "end_time": "2025-07-31T16:39:02.372800Z",
     "start_time": "2025-07-31T16:39:02.358799Z"
    }
   },
   "source": [
    "import pandas as pd\n",
    "import numpy as np"
   ],
   "outputs": [],
   "execution_count": 28
  },
  {
   "metadata": {},
   "cell_type": "markdown",
   "source": "# Day 1",
   "id": "a5e834c89f7354e2"
  },
  {
   "metadata": {},
   "cell_type": "markdown",
   "source": "## Read data",
   "id": "dff1abad329ad65f"
  },
  {
   "metadata": {
    "ExecuteTime": {
     "end_time": "2025-07-31T16:56:38.584510Z",
     "start_time": "2025-07-31T16:56:38.569511Z"
    }
   },
   "cell_type": "code",
   "source": [
    "def read_data_day1(path: str) -> pd.DataFrame:\n",
    "    df = pd.read_csv(path, sep=\"   \", header=None, engine=\"python\")\n",
    "    return df"
   ],
   "id": "48226e9d6ab1bad9",
   "outputs": [],
   "execution_count": 88
  },
  {
   "metadata": {
    "ExecuteTime": {
     "end_time": "2025-07-31T16:56:39.094633Z",
     "start_time": "2025-07-31T16:56:39.079733Z"
    }
   },
   "cell_type": "code",
   "source": [
    "data_path =\"data/advent-of-code/day1.txt\"\n",
    "data_path_example =\"data/advent-of-code/day1-example.txt\""
   ],
   "id": "bf487d7796747d89",
   "outputs": [],
   "execution_count": 89
  },
  {
   "metadata": {
    "ExecuteTime": {
     "end_time": "2025-07-31T16:56:39.124636Z",
     "start_time": "2025-07-31T16:56:39.110639Z"
    }
   },
   "cell_type": "code",
   "source": [
    "df_day1 = read_data_day1(data_path)\n",
    "df_example_day1 = read_data_day1(data_path_example)"
   ],
   "id": "b2c3569a33c6438a",
   "outputs": [],
   "execution_count": 90
  },
  {
   "metadata": {},
   "cell_type": "markdown",
   "source": "## Part 1",
   "id": "a6b15377b38efb08"
  },
  {
   "metadata": {
    "ExecuteTime": {
     "end_time": "2025-07-31T16:56:39.171637Z",
     "start_time": "2025-07-31T16:56:39.168634Z"
    }
   },
   "cell_type": "code",
   "source": [
    "def solve_day1_part1(df: pd.DataFrame) -> int:\n",
    "    sorted1 = df[0].sort_values().reset_index(drop=True)\n",
    "    sorted2 = df[1].sort_values().reset_index(drop=True)\n",
    "    return np.sum(np.abs(sorted1 - sorted2))"
   ],
   "id": "10a87a0aa830e687",
   "outputs": [],
   "execution_count": 91
  },
  {
   "metadata": {
    "ExecuteTime": {
     "end_time": "2025-07-31T16:56:39.218633Z",
     "start_time": "2025-07-31T16:56:39.211634Z"
    }
   },
   "cell_type": "code",
   "source": "solve_day1_part1(df_example_day1)",
   "id": "ea346c0d4a1176bb",
   "outputs": [
    {
     "data": {
      "text/plain": [
       "np.int64(11)"
      ]
     },
     "execution_count": 92,
     "metadata": {},
     "output_type": "execute_result"
    }
   ],
   "execution_count": 92
  },
  {
   "metadata": {
    "ExecuteTime": {
     "end_time": "2025-07-31T16:56:39.265633Z",
     "start_time": "2025-07-31T16:56:39.251636Z"
    }
   },
   "cell_type": "code",
   "source": "solve_day1_part1(df_day1)",
   "id": "e5541da1f6453c21",
   "outputs": [
    {
     "data": {
      "text/plain": [
       "np.int64(2970687)"
      ]
     },
     "execution_count": 93,
     "metadata": {},
     "output_type": "execute_result"
    }
   ],
   "execution_count": 93
  },
  {
   "metadata": {},
   "cell_type": "markdown",
   "source": "Answer is 2970687",
   "id": "81fd2d021722cd85"
  },
  {
   "metadata": {},
   "cell_type": "markdown",
   "source": "## Part 2",
   "id": "ed7140cec51b736a"
  },
  {
   "metadata": {
    "ExecuteTime": {
     "end_time": "2025-07-31T16:56:39.358633Z",
     "start_time": "2025-07-31T16:56:39.344634Z"
    }
   },
   "cell_type": "code",
   "source": "from collections import defaultdict",
   "id": "452c55a6eab2685c",
   "outputs": [],
   "execution_count": 94
  },
  {
   "metadata": {
    "ExecuteTime": {
     "end_time": "2025-07-31T16:58:17.366403Z",
     "start_time": "2025-07-31T16:58:17.353402Z"
    }
   },
   "cell_type": "code",
   "source": [
    "def solve_day1_part2(df: pd.DataFrame) -> int:\n",
    "    col1 = df[0]\n",
    "    col2 = df[1]\n",
    "    nb_occurrences: defaultdict[int, int] = defaultdict(int)\n",
    "\n",
    "    for number in col2:\n",
    "        nb_occurrences[number] += 1\n",
    "\n",
    "    similarity_score = 0\n",
    "    for number in col1:\n",
    "        similarity_score += nb_occurrences[number] * number\n",
    "\n",
    "    return similarity_score"
   ],
   "id": "4ed5adf6521f7028",
   "outputs": [],
   "execution_count": 97
  },
  {
   "metadata": {
    "ExecuteTime": {
     "end_time": "2025-07-31T16:58:17.567401Z",
     "start_time": "2025-07-31T16:58:17.555403Z"
    }
   },
   "cell_type": "code",
   "source": "solve_day1_part2(df_example_day1)",
   "id": "62ac280961c383ad",
   "outputs": [
    {
     "data": {
      "text/plain": [
       "31"
      ]
     },
     "execution_count": 98,
     "metadata": {},
     "output_type": "execute_result"
    }
   ],
   "execution_count": 98
  },
  {
   "metadata": {
    "ExecuteTime": {
     "end_time": "2025-07-31T16:58:26.950819Z",
     "start_time": "2025-07-31T16:58:26.939819Z"
    }
   },
   "cell_type": "code",
   "source": "solve_day1_part2(df_day1)",
   "id": "d38ee7a0999f1b0e",
   "outputs": [
    {
     "data": {
      "text/plain": [
       "23963899"
      ]
     },
     "execution_count": 99,
     "metadata": {},
     "output_type": "execute_result"
    }
   ],
   "execution_count": 99
  },
  {
   "metadata": {},
   "cell_type": "markdown",
   "source": "Answer is 23963899",
   "id": "3635d6e6e3557949"
  },
  {
   "metadata": {
    "ExecuteTime": {
     "end_time": "2025-08-02T22:44:30.912421Z",
     "start_time": "2025-08-02T22:44:30.905419Z"
    }
   },
   "cell_type": "code",
   "source": "",
   "id": "4348e4b04e591d14",
   "outputs": [],
   "execution_count": null
  },
  {
   "metadata": {},
   "cell_type": "markdown",
   "source": "# Day 2",
   "id": "fea2f4329ef0dd75"
  },
  {
   "metadata": {},
   "cell_type": "markdown",
   "source": "## Read data",
   "id": "b773564724090c4b"
  },
  {
   "metadata": {
    "ExecuteTime": {
     "end_time": "2025-07-31T16:56:38.584510Z",
     "start_time": "2025-07-31T16:56:38.569511Z"
    }
   },
   "cell_type": "code",
   "outputs": [],
   "execution_count": 88,
   "source": [
    "def read_data_day1(path: str) -> pd.DataFrame:\n",
    "    df = pd.read_csv(path, sep=\"   \", header=None, engine=\"python\")\n",
    "    return df"
   ],
   "id": "f3c717336c21e503"
  },
  {
   "metadata": {
    "ExecuteTime": {
     "end_time": "2025-07-31T16:56:39.094633Z",
     "start_time": "2025-07-31T16:56:39.079733Z"
    }
   },
   "cell_type": "code",
   "outputs": [],
   "execution_count": 89,
   "source": [
    "data_path =\"data/advent-of-code/day1.txt\"\n",
    "data_path_example =\"data/advent-of-code/day1-example.txt\""
   ],
   "id": "21473aa0ad6b667"
  },
  {
   "metadata": {
    "ExecuteTime": {
     "end_time": "2025-07-31T16:56:39.124636Z",
     "start_time": "2025-07-31T16:56:39.110639Z"
    }
   },
   "cell_type": "code",
   "outputs": [],
   "execution_count": 90,
   "source": [
    "df_day1 = read_data_day1(data_path)\n",
    "df_example_day1 = read_data_day1(data_path_example)"
   ],
   "id": "56e9631624bde21"
  },
  {
   "metadata": {},
   "cell_type": "markdown",
   "source": "## Part 1",
   "id": "320e169e3de0ead6"
  },
  {
   "metadata": {
    "ExecuteTime": {
     "end_time": "2025-07-31T16:56:39.171637Z",
     "start_time": "2025-07-31T16:56:39.168634Z"
    }
   },
   "cell_type": "code",
   "outputs": [],
   "execution_count": 91,
   "source": [
    "def solve_day1_part1(df: pd.DataFrame) -> int:\n",
    "    sorted1 = df[0].sort_values().reset_index(drop=True)\n",
    "    sorted2 = df[1].sort_values().reset_index(drop=True)\n",
    "    return np.sum(np.abs(sorted1 - sorted2))"
   ],
   "id": "6d031da6246624d"
  },
  {
   "metadata": {
    "ExecuteTime": {
     "end_time": "2025-07-31T16:56:39.218633Z",
     "start_time": "2025-07-31T16:56:39.211634Z"
    }
   },
   "cell_type": "code",
   "outputs": [
    {
     "data": {
      "text/plain": [
       "np.int64(11)"
      ]
     },
     "execution_count": 92,
     "metadata": {},
     "output_type": "execute_result"
    }
   ],
   "execution_count": 92,
   "source": "solve_day1_part1(df_example_day1)",
   "id": "71e67e1e3cda1a7a"
  },
  {
   "metadata": {
    "ExecuteTime": {
     "end_time": "2025-07-31T16:56:39.265633Z",
     "start_time": "2025-07-31T16:56:39.251636Z"
    }
   },
   "cell_type": "code",
   "outputs": [
    {
     "data": {
      "text/plain": [
       "np.int64(2970687)"
      ]
     },
     "execution_count": 93,
     "metadata": {},
     "output_type": "execute_result"
    }
   ],
   "execution_count": 93,
   "source": "solve_day1_part1(df_day1)",
   "id": "c7828f352c20e993"
  },
  {
   "metadata": {},
   "cell_type": "markdown",
   "source": "Answer is 2970687",
   "id": "e3fda84457ea5382"
  },
  {
   "metadata": {},
   "cell_type": "markdown",
   "source": "## Part 2",
   "id": "8b1d6a864d93f5b3"
  },
  {
   "metadata": {
    "ExecuteTime": {
     "end_time": "2025-07-31T16:56:39.358633Z",
     "start_time": "2025-07-31T16:56:39.344634Z"
    }
   },
   "cell_type": "code",
   "outputs": [],
   "execution_count": 94,
   "source": "from collections import defaultdict",
   "id": "d34b864ccfbd3d9e"
  },
  {
   "metadata": {
    "ExecuteTime": {
     "end_time": "2025-07-31T16:58:17.366403Z",
     "start_time": "2025-07-31T16:58:17.353402Z"
    }
   },
   "cell_type": "code",
   "outputs": [],
   "execution_count": 97,
   "source": [
    "def solve_day1_part2(df: pd.DataFrame) -> int:\n",
    "    col1 = df[0]\n",
    "    col2 = df[1]\n",
    "    nb_occurrences: defaultdict[int, int] = defaultdict(int)\n",
    "\n",
    "    for number in col2:\n",
    "        nb_occurrences[number] += 1\n",
    "\n",
    "    similarity_score = 0\n",
    "    for number in col1:\n",
    "        similarity_score += nb_occurrences[number] * number\n",
    "\n",
    "    return similarity_score"
   ],
   "id": "885eb4dd7378fb2f"
  },
  {
   "metadata": {
    "ExecuteTime": {
     "end_time": "2025-07-31T16:58:17.567401Z",
     "start_time": "2025-07-31T16:58:17.555403Z"
    }
   },
   "cell_type": "code",
   "outputs": [
    {
     "data": {
      "text/plain": [
       "31"
      ]
     },
     "execution_count": 98,
     "metadata": {},
     "output_type": "execute_result"
    }
   ],
   "execution_count": 98,
   "source": "solve_day1_part2(df_example_day1)",
   "id": "5d269ce44ba53e49"
  },
  {
   "metadata": {
    "ExecuteTime": {
     "end_time": "2025-07-31T16:58:26.950819Z",
     "start_time": "2025-07-31T16:58:26.939819Z"
    }
   },
   "cell_type": "code",
   "outputs": [
    {
     "data": {
      "text/plain": [
       "23963899"
      ]
     },
     "execution_count": 99,
     "metadata": {},
     "output_type": "execute_result"
    }
   ],
   "execution_count": 99,
   "source": "solve_day1_part2(df_day1)",
   "id": "1c5f7b66d9e440c2"
  },
  {
   "metadata": {},
   "cell_type": "markdown",
   "source": "Answer is 23963899",
   "id": "d3c212d2266ffae3"
  },
  {
   "metadata": {},
   "cell_type": "markdown",
   "source": "# Day 3",
   "id": "f6363a6df6c59f81"
  },
  {
   "metadata": {},
   "cell_type": "markdown",
   "source": "## Read data",
   "id": "6166ba344acbc8a7"
  },
  {
   "metadata": {
    "ExecuteTime": {
     "end_time": "2025-08-02T23:54:56.264445Z",
     "start_time": "2025-08-02T23:54:56.251444Z"
    }
   },
   "cell_type": "code",
   "source": [
    "def read_data_day3(path: str) -> str:\n",
    "    with open(path, \"r\") as file:\n",
    "        content = file.read()\n",
    "    return content"
   ],
   "id": "b15af71515af028c",
   "outputs": [],
   "execution_count": 48
  },
  {
   "metadata": {
    "ExecuteTime": {
     "end_time": "2025-08-02T23:55:13.467418Z",
     "start_time": "2025-08-02T23:55:13.449428Z"
    }
   },
   "cell_type": "code",
   "source": [
    "str_day_3 = read_data_day3(\"data/advent-of-code/day3.txt\")\n",
    "str_example_day3 = \"xmul(2,4)%&mul[3,7]!@^do_not_mul(5,5)+mul(32,64]then(mul(11,8)mul(8,5))\""
   ],
   "id": "dcb14ba45130086",
   "outputs": [],
   "execution_count": 49
  },
  {
   "metadata": {},
   "cell_type": "markdown",
   "source": "## Part 1",
   "id": "dbbade737ef7e03e"
  },
  {
   "metadata": {
    "ExecuteTime": {
     "end_time": "2025-08-02T23:51:45.755417Z",
     "start_time": "2025-08-02T23:51:45.743415Z"
    }
   },
   "cell_type": "code",
   "source": "import re",
   "id": "f6bc06432d1ff525",
   "outputs": [],
   "execution_count": 39
  },
  {
   "metadata": {
    "ExecuteTime": {
     "end_time": "2025-08-02T23:56:18.757002Z",
     "start_time": "2025-08-02T23:56:18.744002Z"
    }
   },
   "cell_type": "code",
   "source": [
    "def solve_day3_part1(string: str) -> int:\n",
    "    reg = re.compile(r\"mul\\(([0-9]+),([0-9]+)\\)\")\n",
    "    numbers = reg.findall(string)\n",
    "    total = 0\n",
    "\n",
    "    for x, y in numbers:\n",
    "        total += int(x) * int(y)\n",
    "\n",
    "    return total"
   ],
   "id": "8acf1a54513b5fa",
   "outputs": [],
   "execution_count": 51
  },
  {
   "metadata": {
    "ExecuteTime": {
     "end_time": "2025-08-02T23:56:20.549566Z",
     "start_time": "2025-08-02T23:56:20.533290Z"
    }
   },
   "cell_type": "code",
   "source": "solve_day3_part1(str_example_day3)",
   "id": "7ae969034c4ecae7",
   "outputs": [
    {
     "data": {
      "text/plain": [
       "161"
      ]
     },
     "execution_count": 52,
     "metadata": {},
     "output_type": "execute_result"
    }
   ],
   "execution_count": 52
  },
  {
   "metadata": {
    "ExecuteTime": {
     "end_time": "2025-08-02T23:56:35.291536Z",
     "start_time": "2025-08-02T23:56:35.278504Z"
    }
   },
   "cell_type": "code",
   "source": "solve_day3_part1(str_day_3)",
   "id": "614aa2505fb79f6e",
   "outputs": [
    {
     "data": {
      "text/plain": [
       "157621318"
      ]
     },
     "execution_count": 54,
     "metadata": {},
     "output_type": "execute_result"
    }
   ],
   "execution_count": 54
  },
  {
   "metadata": {},
   "cell_type": "markdown",
   "source": "Answer is 157621318",
   "id": "6f917df6166b005e"
  },
  {
   "metadata": {},
   "cell_type": "markdown",
   "source": "## Part 2",
   "id": "c64bf06884187dc6"
  },
  {
   "metadata": {
    "ExecuteTime": {
     "end_time": "2025-08-03T00:05:27.724481Z",
     "start_time": "2025-08-03T00:05:27.710479Z"
    }
   },
   "cell_type": "code",
   "source": [
    "def solve_day3_part2(string: str) -> int:\n",
    "    reg = re.compile(r\"(do\\(\\))|(don't\\(\\))|mul\\(([0-9]+),([0-9]+)\\)\")\n",
    "    commands = reg.findall(string)\n",
    "\n",
    "    total = 0\n",
    "    enabled = True\n",
    "\n",
    "    for command in commands:\n",
    "        do, dont, x, y = command\n",
    "\n",
    "        if do:\n",
    "            enabled = True\n",
    "        elif dont:\n",
    "            enabled = False\n",
    "        else:\n",
    "            if enabled:\n",
    "                total += int(x) * int(y)\n",
    "\n",
    "    return total"
   ],
   "id": "7558e8687ea15a79",
   "outputs": [],
   "execution_count": 82
  },
  {
   "metadata": {
    "ExecuteTime": {
     "end_time": "2025-08-03T00:05:28.051765Z",
     "start_time": "2025-08-03T00:05:28.037765Z"
    }
   },
   "cell_type": "code",
   "source": "str_example2_day3 = \"xmul(2,4)&mul[3,7]!^don't()_mul(5,5)+mul(32,64](mul(11,8)undo()?mul(8,5))\"",
   "id": "a86408ead52e24a2",
   "outputs": [],
   "execution_count": 83
  },
  {
   "metadata": {
    "ExecuteTime": {
     "end_time": "2025-08-03T00:05:28.265807Z",
     "start_time": "2025-08-03T00:05:28.254811Z"
    }
   },
   "cell_type": "code",
   "source": "solve_day3_part2(str_example2_day3)",
   "id": "713995e07f860ca6",
   "outputs": [
    {
     "data": {
      "text/plain": [
       "48"
      ]
     },
     "execution_count": 84,
     "metadata": {},
     "output_type": "execute_result"
    }
   ],
   "execution_count": 84
  },
  {
   "metadata": {
    "ExecuteTime": {
     "end_time": "2025-08-03T00:05:33.469432Z",
     "start_time": "2025-08-03T00:05:33.463433Z"
    }
   },
   "cell_type": "code",
   "source": "solve_day3_part2(str_day_3)",
   "id": "4ef7211fc270e431",
   "outputs": [
    {
     "data": {
      "text/plain": [
       "79845780"
      ]
     },
     "execution_count": 85,
     "metadata": {},
     "output_type": "execute_result"
    }
   ],
   "execution_count": 85
  },
  {
   "metadata": {},
   "cell_type": "markdown",
   "source": "Answer is 79845780",
   "id": "6bd02776c2fdd9d5"
  },
  {
   "metadata": {},
   "cell_type": "markdown",
   "source": "# Day 4",
   "id": "b93ba543a18482f8"
  },
  {
   "metadata": {},
   "cell_type": "markdown",
   "source": "## Read data",
   "id": "cbd0bc84f9c59e4b"
  },
  {
   "metadata": {
    "ExecuteTime": {
     "end_time": "2025-07-31T16:56:38.584510Z",
     "start_time": "2025-07-31T16:56:38.569511Z"
    }
   },
   "cell_type": "code",
   "outputs": [],
   "execution_count": 88,
   "source": [
    "def read_data_day1(path: str) -> pd.DataFrame:\n",
    "    df = pd.read_csv(path, sep=\"   \", header=None, engine=\"python\")\n",
    "    return df"
   ],
   "id": "7a9c4f7e642b88be"
  },
  {
   "metadata": {
    "ExecuteTime": {
     "end_time": "2025-07-31T16:56:39.094633Z",
     "start_time": "2025-07-31T16:56:39.079733Z"
    }
   },
   "cell_type": "code",
   "outputs": [],
   "execution_count": 89,
   "source": [
    "data_path =\"data/advent-of-code/day1.txt\"\n",
    "data_path_example =\"data/advent-of-code/day1-example.txt\""
   ],
   "id": "84c5f1d224e68d50"
  },
  {
   "metadata": {
    "ExecuteTime": {
     "end_time": "2025-08-03T00:07:35.075748Z",
     "start_time": "2025-08-03T00:07:35.062319Z"
    }
   },
   "cell_type": "code",
   "source": [
    "grid_example = \"\"\"MMMSXXMASM\n",
    "MSAMXMSMSA\n",
    "AMXSXMAAMM\n",
    "MSAMASMSMX\n",
    "XMASAMXAMM\n",
    "XXAMMXXAMA\n",
    "SMSMSASXSS\n",
    "SAXAMASAAA\n",
    "MAMMMXMMMM\n",
    "MXMXAXMASX\"\"\""
   ],
   "id": "1768d086825dd83d",
   "outputs": [],
   "execution_count": 87
  },
  {
   "metadata": {},
   "cell_type": "markdown",
   "source": "## Part 1",
   "id": "5ef7de57be99988c"
  },
  {
   "metadata": {
    "ExecuteTime": {
     "end_time": "2025-08-03T00:07:53.086545Z",
     "start_time": "2025-08-03T00:07:53.071549Z"
    }
   },
   "cell_type": "code",
   "source": "grid = grid_example.split(\"\\n\")",
   "id": "6e3f966753d0578a",
   "outputs": [],
   "execution_count": 89
  },
  {
   "metadata": {
    "ExecuteTime": {
     "end_time": "2025-08-03T00:09:15.626786Z",
     "start_time": "2025-08-03T00:09:15.611785Z"
    }
   },
   "cell_type": "code",
   "source": "grid_height = len(grid)",
   "id": "1b63f71e27d6430",
   "outputs": [],
   "execution_count": 95
  },
  {
   "metadata": {
    "ExecuteTime": {
     "end_time": "2025-08-03T00:09:15.814373Z",
     "start_time": "2025-08-03T00:09:15.799374Z"
    }
   },
   "cell_type": "code",
   "source": "grid_width = len(grid[0])",
   "id": "6641398e2975c30b",
   "outputs": [],
   "execution_count": 96
  },
  {
   "metadata": {},
   "cell_type": "code",
   "outputs": [],
   "execution_count": null,
   "source": "",
   "id": "2d3ec61b269645d8"
  },
  {
   "metadata": {},
   "cell_type": "code",
   "outputs": [],
   "execution_count": null,
   "source": "",
   "id": "e757b13dd379fa96"
  },
  {
   "metadata": {},
   "cell_type": "code",
   "outputs": [],
   "execution_count": null,
   "source": "",
   "id": "30861fe448290e85"
  },
  {
   "metadata": {},
   "cell_type": "code",
   "outputs": [],
   "execution_count": null,
   "source": "",
   "id": "d0a06168e6a64f7c"
  },
  {
   "metadata": {},
   "cell_type": "code",
   "outputs": [],
   "execution_count": null,
   "source": "",
   "id": "9f50d6ede2f27e7b"
  },
  {
   "metadata": {},
   "cell_type": "markdown",
   "source": "Answer is 2970687",
   "id": "f12bbf3db91e270b"
  },
  {
   "metadata": {},
   "cell_type": "markdown",
   "source": "## Part 2",
   "id": "743e9a74f0baa3b4"
  },
  {
   "metadata": {
    "ExecuteTime": {
     "end_time": "2025-07-31T16:56:39.358633Z",
     "start_time": "2025-07-31T16:56:39.344634Z"
    }
   },
   "cell_type": "code",
   "outputs": [],
   "execution_count": 94,
   "source": "from collections import defaultdict",
   "id": "bcfd57e00d787d42"
  },
  {
   "metadata": {
    "ExecuteTime": {
     "end_time": "2025-07-31T16:58:17.366403Z",
     "start_time": "2025-07-31T16:58:17.353402Z"
    }
   },
   "cell_type": "code",
   "outputs": [],
   "execution_count": 97,
   "source": [
    "def solve_day1_part2(df: pd.DataFrame) -> int:\n",
    "    col1 = df[0]\n",
    "    col2 = df[1]\n",
    "    nb_occurrences: defaultdict[int, int] = defaultdict(int)\n",
    "\n",
    "    for number in col2:\n",
    "        nb_occurrences[number] += 1\n",
    "\n",
    "    similarity_score = 0\n",
    "    for number in col1:\n",
    "        similarity_score += nb_occurrences[number] * number\n",
    "\n",
    "    return similarity_score"
   ],
   "id": "b7523c6487230d9f"
  },
  {
   "metadata": {
    "ExecuteTime": {
     "end_time": "2025-07-31T16:58:17.567401Z",
     "start_time": "2025-07-31T16:58:17.555403Z"
    }
   },
   "cell_type": "code",
   "outputs": [
    {
     "data": {
      "text/plain": [
       "31"
      ]
     },
     "execution_count": 98,
     "metadata": {},
     "output_type": "execute_result"
    }
   ],
   "execution_count": 98,
   "source": "solve_day1_part2(df_example_day1)",
   "id": "7f9f174cdba0ff9b"
  },
  {
   "metadata": {
    "ExecuteTime": {
     "end_time": "2025-07-31T16:58:26.950819Z",
     "start_time": "2025-07-31T16:58:26.939819Z"
    }
   },
   "cell_type": "code",
   "outputs": [
    {
     "data": {
      "text/plain": [
       "23963899"
      ]
     },
     "execution_count": 99,
     "metadata": {},
     "output_type": "execute_result"
    }
   ],
   "execution_count": 99,
   "source": "solve_day1_part2(df_day1)",
   "id": "5c103205142c16a9"
  },
  {
   "metadata": {},
   "cell_type": "markdown",
   "source": "Answer is 23963899",
   "id": "81d5a40b28e5b732"
  },
  {
   "metadata": {},
   "cell_type": "code",
   "outputs": [],
   "execution_count": null,
   "source": "",
   "id": "b2511549c8c1f187"
  }
 ],
 "metadata": {
  "kernelspec": {
   "display_name": "Python 3",
   "language": "python",
   "name": "python3"
  },
  "language_info": {
   "codemirror_mode": {
    "name": "ipython",
    "version": 2
   },
   "file_extension": ".py",
   "mimetype": "text/x-python",
   "name": "python",
   "nbconvert_exporter": "python",
   "pygments_lexer": "ipython2",
   "version": "2.7.6"
  }
 },
 "nbformat": 4,
 "nbformat_minor": 5
}
