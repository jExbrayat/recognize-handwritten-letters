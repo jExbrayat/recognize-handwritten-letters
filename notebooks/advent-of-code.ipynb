{
 "cells": [
  {
   "cell_type": "code",
   "execution_count": 162,
   "id": "initial_id",
   "metadata": {
    "ExecuteTime": {
     "end_time": "2025-08-03T00:54:50.978514Z",
     "start_time": "2025-08-03T00:54:49.818083Z"
    },
    "collapsed": true
   },
   "outputs": [],
   "source": [
    "import pandas as pd\n",
    "import numpy as np"
   ]
  },
  {
   "cell_type": "markdown",
   "id": "a5e834c89f7354e2",
   "metadata": {},
   "source": "# Day 1"
  },
  {
   "cell_type": "markdown",
   "id": "dff1abad329ad65f",
   "metadata": {},
   "source": "## Read data"
  },
  {
   "cell_type": "code",
   "execution_count": 163,
   "id": "48226e9d6ab1bad9",
   "metadata": {
    "ExecuteTime": {
     "end_time": "2025-08-03T00:54:50.993426Z",
     "start_time": "2025-08-03T00:54:50.981517Z"
    }
   },
   "outputs": [],
   "source": [
    "def read_data_day1(path: str) -> pd.DataFrame:\n",
    "    df = pd.read_csv(path, sep=\"   \", header=None, engine=\"python\")\n",
    "    return df"
   ]
  },
  {
   "cell_type": "code",
   "execution_count": 164,
   "id": "bf487d7796747d89",
   "metadata": {
    "ExecuteTime": {
     "end_time": "2025-08-03T00:54:51.023414Z",
     "start_time": "2025-08-03T00:54:51.009414Z"
    }
   },
   "outputs": [],
   "source": [
    "data_path = \"data/advent-of-code/day1.txt\"\n",
    "data_path_example = \"data/advent-of-code/day1-example.txt\""
   ]
  },
  {
   "cell_type": "code",
   "execution_count": 165,
   "id": "b2c3569a33c6438a",
   "metadata": {
    "ExecuteTime": {
     "end_time": "2025-08-03T00:54:51.069858Z",
     "start_time": "2025-08-03T00:54:51.039416Z"
    }
   },
   "outputs": [],
   "source": [
    "df_day1 = read_data_day1(data_path)\n",
    "df_example_day1 = read_data_day1(data_path_example)"
   ]
  },
  {
   "cell_type": "markdown",
   "id": "a6b15377b38efb08",
   "metadata": {},
   "source": "## Part 1"
  },
  {
   "cell_type": "code",
   "execution_count": 166,
   "id": "10a87a0aa830e687",
   "metadata": {
    "ExecuteTime": {
     "end_time": "2025-08-03T00:54:51.101298Z",
     "start_time": "2025-08-03T00:54:51.086976Z"
    }
   },
   "outputs": [],
   "source": [
    "def solve_day1_part1(df: pd.DataFrame) -> int:\n",
    "    sorted1 = df[0].sort_values().reset_index(drop=True)\n",
    "    sorted2 = df[1].sort_values().reset_index(drop=True)\n",
    "    return np.sum(np.abs(sorted1 - sorted2))"
   ]
  },
  {
   "cell_type": "code",
   "execution_count": 167,
   "id": "ea346c0d4a1176bb",
   "metadata": {
    "ExecuteTime": {
     "end_time": "2025-08-03T00:54:51.132299Z",
     "start_time": "2025-08-03T00:54:51.118300Z"
    }
   },
   "outputs": [
    {
     "data": {
      "text/plain": [
       "np.int64(11)"
      ]
     },
     "execution_count": 167,
     "metadata": {},
     "output_type": "execute_result"
    }
   ],
   "source": [
    "solve_day1_part1(df_example_day1)"
   ]
  },
  {
   "cell_type": "code",
   "execution_count": 168,
   "id": "e5541da1f6453c21",
   "metadata": {
    "ExecuteTime": {
     "end_time": "2025-08-03T00:54:51.163298Z",
     "start_time": "2025-08-03T00:54:51.149302Z"
    }
   },
   "outputs": [
    {
     "data": {
      "text/plain": [
       "np.int64(2970687)"
      ]
     },
     "execution_count": 168,
     "metadata": {},
     "output_type": "execute_result"
    }
   ],
   "source": [
    "solve_day1_part1(df_day1)"
   ]
  },
  {
   "cell_type": "markdown",
   "id": "81fd2d021722cd85",
   "metadata": {},
   "source": "Answer is 2970687"
  },
  {
   "cell_type": "markdown",
   "id": "ed7140cec51b736a",
   "metadata": {},
   "source": "## Part 2"
  },
  {
   "cell_type": "code",
   "execution_count": 169,
   "id": "452c55a6eab2685c",
   "metadata": {
    "ExecuteTime": {
     "end_time": "2025-08-03T00:54:51.195328Z",
     "start_time": "2025-08-03T00:54:51.180315Z"
    }
   },
   "outputs": [],
   "source": [
    "from collections import defaultdict"
   ]
  },
  {
   "cell_type": "code",
   "execution_count": 170,
   "id": "4ed5adf6521f7028",
   "metadata": {
    "ExecuteTime": {
     "end_time": "2025-08-03T00:54:51.227416Z",
     "start_time": "2025-08-03T00:54:51.212432Z"
    }
   },
   "outputs": [],
   "source": [
    "def solve_day1_part2(df: pd.DataFrame) -> int:\n",
    "    col1 = df[0]\n",
    "    col2 = df[1]\n",
    "    nb_occurrences: defaultdict[int, int] = defaultdict(int)\n",
    "\n",
    "    for number in col2:\n",
    "        nb_occurrences[number] += 1\n",
    "\n",
    "    similarity_score = 0\n",
    "    for number in col1:\n",
    "        similarity_score += nb_occurrences[number] * number\n",
    "\n",
    "    return similarity_score"
   ]
  },
  {
   "cell_type": "code",
   "execution_count": 171,
   "id": "62ac280961c383ad",
   "metadata": {
    "ExecuteTime": {
     "end_time": "2025-08-03T00:54:51.257420Z",
     "start_time": "2025-08-03T00:54:51.243416Z"
    }
   },
   "outputs": [
    {
     "data": {
      "text/plain": [
       "31"
      ]
     },
     "execution_count": 171,
     "metadata": {},
     "output_type": "execute_result"
    }
   ],
   "source": [
    "solve_day1_part2(df_example_day1)"
   ]
  },
  {
   "cell_type": "code",
   "execution_count": 172,
   "id": "d38ee7a0999f1b0e",
   "metadata": {
    "ExecuteTime": {
     "end_time": "2025-08-03T00:54:51.289420Z",
     "start_time": "2025-08-03T00:54:51.274418Z"
    }
   },
   "outputs": [
    {
     "data": {
      "text/plain": [
       "23963899"
      ]
     },
     "execution_count": 172,
     "metadata": {},
     "output_type": "execute_result"
    }
   ],
   "source": [
    "solve_day1_part2(df_day1)"
   ]
  },
  {
   "cell_type": "markdown",
   "id": "3635d6e6e3557949",
   "metadata": {},
   "source": "Answer is 23963899"
  },
  {
   "cell_type": "markdown",
   "id": "fea2f4329ef0dd75",
   "metadata": {},
   "source": "# Day 2"
  },
  {
   "cell_type": "markdown",
   "id": "b773564724090c4b",
   "metadata": {},
   "source": "## Read data"
  },
  {
   "cell_type": "code",
   "execution_count": 104,
   "id": "ce74c2f181e132c8",
   "metadata": {
    "ExecuteTime": {
     "end_time": "2025-08-03T13:41:16.143956Z",
     "start_time": "2025-08-03T13:41:16.129848Z"
    }
   },
   "outputs": [],
   "source": [
    "def read_data_day2(path: str) -> list[list[int]]:\n",
    "    reports = []\n",
    "    with open(path, mode=\"r\") as file:\n",
    "        for line in file.readlines():\n",
    "            report = list(map(int, line.split()))\n",
    "            reports.append(report)\n",
    "\n",
    "    return reports"
   ]
  },
  {
   "cell_type": "code",
   "execution_count": 105,
   "id": "8fe15731c891e4d6",
   "metadata": {
    "ExecuteTime": {
     "end_time": "2025-08-03T13:41:16.344900Z",
     "start_time": "2025-08-03T13:41:16.330912Z"
    }
   },
   "outputs": [],
   "source": [
    "example_day2 = read_data_day2(\"data/advent-of-code/day2-example.txt\")"
   ]
  },
  {
   "cell_type": "code",
   "execution_count": 106,
   "id": "3c65f51495944b2d",
   "metadata": {
    "ExecuteTime": {
     "end_time": "2025-08-03T13:41:16.468383Z",
     "start_time": "2025-08-03T13:41:16.454382Z"
    }
   },
   "outputs": [],
   "source": [
    "day2_reports = read_data_day2(\"data/advent-of-code/day2.txt\")"
   ]
  },
  {
   "cell_type": "markdown",
   "id": "320e169e3de0ead6",
   "metadata": {},
   "source": "## Part 1"
  },
  {
   "cell_type": "code",
   "execution_count": 145,
   "id": "8980db39ff5deb05",
   "metadata": {
    "ExecuteTime": {
     "end_time": "2025-08-03T16:24:09.876635Z",
     "start_time": "2025-08-03T16:24:09.861635Z"
    }
   },
   "outputs": [],
   "source": [
    "def solve_one_report(report: list[int]) -> bool:\n",
    "    safe = True\n",
    "    increasing = report[0] < report[1]\n",
    "\n",
    "    for i in range(len(report) - 1):\n",
    "        current_level = report[i]\n",
    "        next_level = report[i + 1]\n",
    "\n",
    "        if increasing:\n",
    "            if next_level <= current_level or next_level > current_level + 3:\n",
    "                safe = False\n",
    "        else:\n",
    "            if next_level >= current_level or next_level < current_level - 3:\n",
    "                safe = False\n",
    "\n",
    "    return safe"
   ]
  },
  {
   "cell_type": "code",
   "execution_count": 147,
   "id": "c9e8561636908484",
   "metadata": {
    "ExecuteTime": {
     "end_time": "2025-08-03T16:24:11.247283Z",
     "start_time": "2025-08-03T16:24:11.233287Z"
    }
   },
   "outputs": [],
   "source": [
    "def solve_day2(reports: list[list[int]]) -> int:\n",
    "    total = 0\n",
    "\n",
    "    for report in reports:\n",
    "        safe = solve_one_report(report)\n",
    "\n",
    "        if safe:\n",
    "            total += 1\n",
    "\n",
    "    return total"
   ]
  },
  {
   "cell_type": "code",
   "execution_count": 148,
   "id": "cb2a2d406741df18",
   "metadata": {
    "ExecuteTime": {
     "end_time": "2025-08-03T16:24:11.788372Z",
     "start_time": "2025-08-03T16:24:11.775373Z"
    }
   },
   "outputs": [],
   "source": [
    "total = solve_day2(example_day2)"
   ]
  },
  {
   "cell_type": "code",
   "execution_count": 149,
   "id": "d51a47a32aeb4205",
   "metadata": {
    "ExecuteTime": {
     "end_time": "2025-08-03T16:24:12.776356Z",
     "start_time": "2025-08-03T16:24:12.765356Z"
    }
   },
   "outputs": [
    {
     "data": {
      "text/plain": [
       "2"
      ]
     },
     "execution_count": 149,
     "metadata": {},
     "output_type": "execute_result"
    }
   ],
   "source": [
    "total"
   ]
  },
  {
   "cell_type": "code",
   "execution_count": 150,
   "id": "a0f24b7510c2d437",
   "metadata": {
    "ExecuteTime": {
     "end_time": "2025-08-03T16:24:15.198215Z",
     "start_time": "2025-08-03T16:24:15.184215Z"
    }
   },
   "outputs": [],
   "source": [
    "total = solve_day2(day2_reports)"
   ]
  },
  {
   "cell_type": "code",
   "execution_count": 151,
   "id": "56e1ac860cd83a64",
   "metadata": {
    "ExecuteTime": {
     "end_time": "2025-08-03T16:24:15.508845Z",
     "start_time": "2025-08-03T16:24:15.495856Z"
    }
   },
   "outputs": [
    {
     "data": {
      "text/plain": [
       "287"
      ]
     },
     "execution_count": 151,
     "metadata": {},
     "output_type": "execute_result"
    }
   ],
   "source": [
    "total"
   ]
  },
  {
   "cell_type": "markdown",
   "id": "e3fda84457ea5382",
   "metadata": {},
   "source": "Answer is 287"
  },
  {
   "cell_type": "markdown",
   "id": "8b1d6a864d93f5b3",
   "metadata": {},
   "source": "## Part 2"
  },
  {
   "cell_type": "code",
   "execution_count": 113,
   "id": "399992cf429bc7a3",
   "metadata": {
    "ExecuteTime": {
     "end_time": "2025-08-03T13:47:34.545593Z",
     "start_time": "2025-08-03T13:47:34.532281Z"
    }
   },
   "outputs": [],
   "source": [
    "def increasing_or_decreasing(report: list[int]) -> bool:\n",
    "    \"\"\"Return True if increasing.\"\"\"\n",
    "    increasing = 0\n",
    "    decreasing = 0\n",
    "\n",
    "    first_four_numbers = report[:4]\n",
    "\n",
    "    for i in range(3):\n",
    "        if first_four_numbers[i] < first_four_numbers[i + 1]:\n",
    "            increasing += 1\n",
    "        else:\n",
    "            decreasing += 1\n",
    "\n",
    "    return increasing > decreasing"
   ]
  },
  {
   "cell_type": "code",
   "execution_count": 131,
   "id": "b56cc0c51e05103c",
   "metadata": {
    "ExecuteTime": {
     "end_time": "2025-08-03T13:52:35.818611Z",
     "start_time": "2025-08-03T13:52:35.801620Z"
    }
   },
   "outputs": [
    {
     "name": "stdout",
     "output_type": "stream",
     "text": [
      "False\n",
      "True\n",
      "False\n",
      "True\n",
      "False\n",
      "True\n"
     ]
    }
   ],
   "source": [
    "for report in example_day2:\n",
    "    print(increasing_or_decreasing(report))"
   ]
  },
  {
   "cell_type": "code",
   "execution_count": 152,
   "id": "75fdb5c9bd814e33",
   "metadata": {
    "ExecuteTime": {
     "end_time": "2025-08-03T16:24:48.346652Z",
     "start_time": "2025-08-03T16:24:48.332663Z"
    }
   },
   "outputs": [],
   "source": [
    "def solve_day2_part2_old(reports: list[list[int]]) -> int:\n",
    "    total = 0\n",
    "\n",
    "    for report in reports:\n",
    "        safe = 2\n",
    "        increasing = increasing_or_decreasing(report)\n",
    "\n",
    "        for i in range(len(report) - 1):\n",
    "            current_level = report[i]\n",
    "            next_level = report[i + 1]\n",
    "\n",
    "            if increasing:\n",
    "                if next_level <= current_level or next_level > current_level + 3:\n",
    "                    safe -= 1\n",
    "            else:\n",
    "                if next_level >= current_level or next_level < current_level - 3:\n",
    "                    safe -= 1\n",
    "\n",
    "            print(\" \" * i, f\"{safe = }\")\n",
    "        if safe > 0:\n",
    "            total += 1\n",
    "\n",
    "    return total"
   ]
  },
  {
   "cell_type": "code",
   "execution_count": 164,
   "id": "b587c96cf79d113f",
   "metadata": {
    "ExecuteTime": {
     "end_time": "2025-08-03T16:30:12.768947Z",
     "start_time": "2025-08-03T16:30:12.751949Z"
    }
   },
   "outputs": [
    {
     "name": "stdout",
     "output_type": "stream",
     "text": [
      "a[:idx] = 'abcd'\n",
      "a[idx] = 'e'\n",
      "a[idx + 1:] = ''\n"
     ]
    }
   ],
   "source": [
    "a = \"abcde\"\n",
    "idx = 4\n",
    "print(f\"{a[:idx] = }\\n{a[idx] = }\\n{a[idx + 1:] = }\")"
   ]
  },
  {
   "cell_type": "code",
   "id": "6a6aa67bc8ce595a",
   "metadata": {
    "ExecuteTime": {
     "end_time": "2025-08-03T16:32:35.831781Z",
     "start_time": "2025-08-03T16:32:35.827780Z"
    }
   },
   "source": [
    "a = [\"a\", \"b\", \"c\", \"d\", \"e\"]\n",
    "idx = 0\n",
    "print(f\"{a[:idx] = }\\n{a[idx:idx+1] = }\\n{a[idx + 1:] = }\")\n",
    "print(f\"{a[:idx] + a[idx:idx+1] + a[idx + 1:] = }\")"
   ],
   "outputs": [
    {
     "name": "stdout",
     "output_type": "stream",
     "text": [
      "a[:idx] = []\n",
      "a[idx:idx+1] = ['a']\n",
      "a[idx + 1:] = ['b', 'c', 'd', 'e']\n",
      "a[:idx] + a[idx:idx+1] + a[idx + 1:] = ['a', 'b', 'c', 'd', 'e']\n"
     ]
    }
   ],
   "execution_count": 169
  },
  {
   "cell_type": "code",
   "id": "c24e4cad10a93ddb",
   "metadata": {
    "ExecuteTime": {
     "end_time": "2025-08-03T16:34:04.058411Z",
     "start_time": "2025-08-03T16:34:04.044411Z"
    }
   },
   "source": [
    "def solve_day2_part2(reports: list[list[int]]) -> int:\n",
    "    total = 0\n",
    "\n",
    "    for report in reports:\n",
    "        safe = solve_one_report(report)\n",
    "\n",
    "        if safe:\n",
    "            total += 1\n",
    "        else:\n",
    "            for index in range(len(report)):\n",
    "                report_without_one_number = report[:index] + report[index + 1:]\n",
    "                safe = solve_one_report(report_without_one_number)\n",
    "\n",
    "                if safe:\n",
    "                    total += 1\n",
    "                    break\n",
    "        print(f\"{safe = }\")\n",
    "    return total"
   ],
   "outputs": [],
   "execution_count": 173
  },
  {
   "cell_type": "code",
   "id": "6b3ccdb428f1d059",
   "metadata": {
    "ExecuteTime": {
     "end_time": "2025-08-03T16:34:04.417750Z",
     "start_time": "2025-08-03T16:34:04.402752Z"
    }
   },
   "source": [
    "total = solve_day2_part2(example_day2)"
   ],
   "outputs": [
    {
     "name": "stdout",
     "output_type": "stream",
     "text": [
      "safe = True\n",
      "safe = False\n",
      "safe = False\n",
      "safe = True\n",
      "safe = True\n",
      "safe = True\n"
     ]
    }
   ],
   "execution_count": 174
  },
  {
   "cell_type": "code",
   "id": "49f153348dfb885a",
   "metadata": {
    "ExecuteTime": {
     "end_time": "2025-08-03T16:34:04.574276Z",
     "start_time": "2025-08-03T16:34:04.565280Z"
    }
   },
   "source": [
    "total"
   ],
   "outputs": [
    {
     "data": {
      "text/plain": [
       "4"
      ]
     },
     "execution_count": 175,
     "metadata": {},
     "output_type": "execute_result"
    }
   ],
   "execution_count": 175
  },
  {
   "cell_type": "code",
   "id": "a4e8eaa8b9a33337",
   "metadata": {
    "ExecuteTime": {
     "end_time": "2025-08-03T16:34:19.750446Z",
     "start_time": "2025-08-03T16:34:19.728447Z"
    }
   },
   "source": [
    "total = solve_day2_part2(day2_reports)"
   ],
   "outputs": [
    {
     "name": "stdout",
     "output_type": "stream",
     "text": [
      "safe = True\n",
      "safe = True\n",
      "safe = True\n",
      "safe = True\n",
      "safe = False\n",
      "safe = False\n",
      "safe = False\n",
      "safe = False\n",
      "safe = False\n",
      "safe = True\n",
      "safe = False\n",
      "safe = False\n",
      "safe = False\n",
      "safe = False\n",
      "safe = False\n",
      "safe = False\n",
      "safe = False\n",
      "safe = False\n",
      "safe = False\n",
      "safe = False\n",
      "safe = True\n",
      "safe = False\n",
      "safe = False\n",
      "safe = False\n",
      "safe = True\n",
      "safe = False\n",
      "safe = False\n",
      "safe = False\n",
      "safe = False\n",
      "safe = False\n",
      "safe = False\n",
      "safe = False\n",
      "safe = False\n",
      "safe = False\n",
      "safe = False\n",
      "safe = False\n",
      "safe = False\n",
      "safe = False\n",
      "safe = False\n",
      "safe = False\n",
      "safe = False\n",
      "safe = False\n",
      "safe = False\n",
      "safe = False\n",
      "safe = False\n",
      "safe = False\n",
      "safe = False\n",
      "safe = False\n",
      "safe = False\n",
      "safe = True\n",
      "safe = False\n",
      "safe = False\n",
      "safe = False\n",
      "safe = False\n",
      "safe = False\n",
      "safe = False\n",
      "safe = False\n",
      "safe = False\n",
      "safe = False\n",
      "safe = False\n",
      "safe = False\n",
      "safe = False\n",
      "safe = False\n",
      "safe = False\n",
      "safe = False\n",
      "safe = False\n",
      "safe = False\n",
      "safe = False\n",
      "safe = False\n",
      "safe = False\n",
      "safe = False\n",
      "safe = False\n",
      "safe = False\n",
      "safe = False\n",
      "safe = True\n",
      "safe = False\n",
      "safe = False\n",
      "safe = False\n",
      "safe = False\n",
      "safe = True\n",
      "safe = False\n",
      "safe = False\n",
      "safe = False\n",
      "safe = False\n",
      "safe = False\n",
      "safe = False\n",
      "safe = False\n",
      "safe = False\n",
      "safe = False\n",
      "safe = False\n",
      "safe = False\n",
      "safe = False\n",
      "safe = False\n",
      "safe = False\n",
      "safe = False\n",
      "safe = False\n",
      "safe = False\n",
      "safe = False\n",
      "safe = False\n",
      "safe = True\n",
      "safe = False\n",
      "safe = False\n",
      "safe = False\n",
      "safe = False\n",
      "safe = False\n",
      "safe = False\n",
      "safe = False\n",
      "safe = False\n",
      "safe = False\n",
      "safe = False\n",
      "safe = False\n",
      "safe = False\n",
      "safe = False\n",
      "safe = False\n",
      "safe = False\n",
      "safe = False\n",
      "safe = False\n",
      "safe = False\n",
      "safe = False\n",
      "safe = False\n",
      "safe = False\n",
      "safe = False\n",
      "safe = False\n",
      "safe = False\n",
      "safe = True\n",
      "safe = True\n",
      "safe = True\n",
      "safe = True\n",
      "safe = True\n",
      "safe = False\n",
      "safe = False\n",
      "safe = False\n",
      "safe = False\n",
      "safe = True\n",
      "safe = False\n",
      "safe = False\n",
      "safe = False\n",
      "safe = False\n",
      "safe = False\n",
      "safe = False\n",
      "safe = False\n",
      "safe = False\n",
      "safe = False\n",
      "safe = False\n",
      "safe = False\n",
      "safe = False\n",
      "safe = False\n",
      "safe = False\n",
      "safe = True\n",
      "safe = False\n",
      "safe = False\n",
      "safe = False\n",
      "safe = False\n",
      "safe = False\n",
      "safe = False\n",
      "safe = False\n",
      "safe = False\n",
      "safe = False\n",
      "safe = False\n",
      "safe = False\n",
      "safe = False\n",
      "safe = False\n",
      "safe = False\n",
      "safe = False\n",
      "safe = False\n",
      "safe = False\n",
      "safe = False\n",
      "safe = False\n",
      "safe = False\n",
      "safe = False\n",
      "safe = False\n",
      "safe = False\n",
      "safe = False\n",
      "safe = True\n",
      "safe = False\n",
      "safe = False\n",
      "safe = False\n",
      "safe = False\n",
      "safe = False\n",
      "safe = False\n",
      "safe = False\n",
      "safe = False\n",
      "safe = False\n",
      "safe = False\n",
      "safe = False\n",
      "safe = False\n",
      "safe = False\n",
      "safe = False\n",
      "safe = False\n",
      "safe = False\n",
      "safe = False\n",
      "safe = False\n",
      "safe = False\n",
      "safe = False\n",
      "safe = False\n",
      "safe = False\n",
      "safe = False\n",
      "safe = False\n",
      "safe = True\n",
      "safe = False\n",
      "safe = False\n",
      "safe = False\n",
      "safe = False\n",
      "safe = True\n",
      "safe = False\n",
      "safe = False\n",
      "safe = False\n",
      "safe = False\n",
      "safe = False\n",
      "safe = False\n",
      "safe = False\n",
      "safe = False\n",
      "safe = False\n",
      "safe = False\n",
      "safe = False\n",
      "safe = False\n",
      "safe = False\n",
      "safe = False\n",
      "safe = False\n",
      "safe = False\n",
      "safe = False\n",
      "safe = False\n",
      "safe = False\n",
      "safe = True\n",
      "safe = False\n",
      "safe = False\n",
      "safe = False\n",
      "safe = False\n",
      "safe = False\n",
      "safe = False\n",
      "safe = False\n",
      "safe = False\n",
      "safe = False\n",
      "safe = False\n",
      "safe = False\n",
      "safe = False\n",
      "safe = False\n",
      "safe = False\n",
      "safe = False\n",
      "safe = False\n",
      "safe = False\n",
      "safe = False\n",
      "safe = False\n",
      "safe = False\n",
      "safe = False\n",
      "safe = False\n",
      "safe = False\n",
      "safe = False\n",
      "safe = True\n",
      "safe = True\n",
      "safe = True\n",
      "safe = True\n",
      "safe = True\n",
      "safe = False\n",
      "safe = False\n",
      "safe = False\n",
      "safe = True\n",
      "safe = True\n",
      "safe = False\n",
      "safe = False\n",
      "safe = False\n",
      "safe = False\n",
      "safe = False\n",
      "safe = False\n",
      "safe = False\n",
      "safe = False\n",
      "safe = False\n",
      "safe = False\n",
      "safe = False\n",
      "safe = False\n",
      "safe = False\n",
      "safe = False\n",
      "safe = True\n",
      "safe = False\n",
      "safe = False\n",
      "safe = False\n",
      "safe = False\n",
      "safe = False\n",
      "safe = False\n",
      "safe = False\n",
      "safe = False\n",
      "safe = False\n",
      "safe = False\n",
      "safe = False\n",
      "safe = False\n",
      "safe = False\n",
      "safe = False\n",
      "safe = False\n",
      "safe = False\n",
      "safe = False\n",
      "safe = False\n",
      "safe = False\n",
      "safe = False\n",
      "safe = False\n",
      "safe = False\n",
      "safe = False\n",
      "safe = False\n",
      "safe = True\n",
      "safe = False\n",
      "safe = False\n",
      "safe = False\n",
      "safe = False\n",
      "safe = False\n",
      "safe = False\n",
      "safe = False\n",
      "safe = False\n",
      "safe = False\n",
      "safe = False\n",
      "safe = False\n",
      "safe = False\n",
      "safe = False\n",
      "safe = False\n",
      "safe = False\n",
      "safe = False\n",
      "safe = False\n",
      "safe = False\n",
      "safe = False\n",
      "safe = False\n",
      "safe = False\n",
      "safe = False\n",
      "safe = False\n",
      "safe = False\n",
      "safe = True\n",
      "safe = False\n",
      "safe = False\n",
      "safe = False\n",
      "safe = False\n",
      "safe = False\n",
      "safe = False\n",
      "safe = False\n",
      "safe = False\n",
      "safe = False\n",
      "safe = False\n",
      "safe = False\n",
      "safe = False\n",
      "safe = False\n",
      "safe = False\n",
      "safe = False\n",
      "safe = False\n",
      "safe = False\n",
      "safe = False\n",
      "safe = False\n",
      "safe = False\n",
      "safe = False\n",
      "safe = False\n",
      "safe = False\n",
      "safe = False\n",
      "safe = True\n",
      "safe = False\n",
      "safe = False\n",
      "safe = False\n",
      "safe = False\n",
      "safe = True\n",
      "safe = False\n",
      "safe = False\n",
      "safe = False\n",
      "safe = False\n",
      "safe = False\n",
      "safe = False\n",
      "safe = False\n",
      "safe = False\n",
      "safe = False\n",
      "safe = False\n",
      "safe = False\n",
      "safe = False\n",
      "safe = False\n",
      "safe = False\n",
      "safe = False\n",
      "safe = False\n",
      "safe = False\n",
      "safe = False\n",
      "safe = False\n",
      "safe = True\n",
      "safe = True\n",
      "safe = True\n",
      "safe = True\n",
      "safe = False\n",
      "safe = False\n",
      "safe = False\n",
      "safe = True\n",
      "safe = False\n",
      "safe = True\n",
      "safe = False\n",
      "safe = False\n",
      "safe = False\n",
      "safe = False\n",
      "safe = False\n",
      "safe = False\n",
      "safe = False\n",
      "safe = False\n",
      "safe = False\n",
      "safe = False\n",
      "safe = False\n",
      "safe = False\n",
      "safe = False\n",
      "safe = False\n",
      "safe = True\n",
      "safe = False\n",
      "safe = False\n",
      "safe = False\n",
      "safe = False\n",
      "safe = False\n",
      "safe = False\n",
      "safe = False\n",
      "safe = False\n",
      "safe = False\n",
      "safe = False\n",
      "safe = False\n",
      "safe = False\n",
      "safe = False\n",
      "safe = False\n",
      "safe = False\n",
      "safe = False\n",
      "safe = False\n",
      "safe = False\n",
      "safe = False\n",
      "safe = False\n",
      "safe = False\n",
      "safe = False\n",
      "safe = False\n",
      "safe = False\n",
      "safe = True\n",
      "safe = False\n",
      "safe = False\n",
      "safe = False\n",
      "safe = False\n",
      "safe = False\n",
      "safe = False\n",
      "safe = False\n",
      "safe = False\n",
      "safe = False\n",
      "safe = False\n",
      "safe = False\n",
      "safe = False\n",
      "safe = False\n",
      "safe = False\n",
      "safe = False\n",
      "safe = False\n",
      "safe = False\n",
      "safe = False\n",
      "safe = False\n",
      "safe = False\n",
      "safe = False\n",
      "safe = False\n",
      "safe = False\n",
      "safe = False\n",
      "safe = True\n",
      "safe = False\n",
      "safe = False\n",
      "safe = False\n",
      "safe = False\n",
      "safe = True\n",
      "safe = False\n",
      "safe = False\n",
      "safe = False\n",
      "safe = False\n",
      "safe = False\n",
      "safe = False\n",
      "safe = False\n",
      "safe = False\n",
      "safe = False\n",
      "safe = False\n",
      "safe = False\n",
      "safe = False\n",
      "safe = False\n",
      "safe = False\n",
      "safe = False\n",
      "safe = False\n",
      "safe = False\n",
      "safe = False\n",
      "safe = False\n",
      "safe = True\n",
      "safe = False\n",
      "safe = False\n",
      "safe = False\n",
      "safe = False\n",
      "safe = False\n",
      "safe = False\n",
      "safe = False\n",
      "safe = False\n",
      "safe = False\n",
      "safe = False\n",
      "safe = False\n",
      "safe = False\n",
      "safe = False\n",
      "safe = False\n",
      "safe = False\n",
      "safe = False\n",
      "safe = False\n",
      "safe = False\n",
      "safe = False\n",
      "safe = False\n",
      "safe = False\n",
      "safe = False\n",
      "safe = False\n",
      "safe = False\n",
      "safe = False\n",
      "safe = False\n",
      "safe = False\n",
      "safe = True\n",
      "safe = False\n",
      "safe = False\n",
      "safe = True\n",
      "safe = False\n",
      "safe = False\n",
      "safe = False\n",
      "safe = True\n",
      "safe = False\n",
      "safe = False\n",
      "safe = False\n",
      "safe = False\n",
      "safe = False\n",
      "safe = False\n",
      "safe = False\n",
      "safe = False\n",
      "safe = False\n",
      "safe = False\n",
      "safe = False\n",
      "safe = False\n",
      "safe = False\n",
      "safe = False\n",
      "safe = False\n",
      "safe = False\n",
      "safe = False\n",
      "safe = False\n",
      "safe = False\n",
      "safe = True\n",
      "safe = False\n",
      "safe = False\n",
      "safe = False\n",
      "safe = False\n",
      "safe = False\n",
      "safe = True\n",
      "safe = False\n",
      "safe = False\n",
      "safe = False\n",
      "safe = False\n",
      "safe = False\n",
      "safe = False\n",
      "safe = False\n",
      "safe = False\n",
      "safe = False\n",
      "safe = False\n",
      "safe = False\n",
      "safe = False\n",
      "safe = False\n",
      "safe = False\n",
      "safe = False\n",
      "safe = False\n",
      "safe = False\n",
      "safe = False\n",
      "safe = True\n",
      "safe = False\n",
      "safe = False\n",
      "safe = False\n",
      "safe = False\n",
      "safe = True\n",
      "safe = False\n",
      "safe = False\n",
      "safe = False\n",
      "safe = True\n",
      "safe = False\n",
      "safe = True\n",
      "safe = False\n",
      "safe = False\n",
      "safe = False\n",
      "safe = False\n",
      "safe = False\n",
      "safe = False\n",
      "safe = False\n",
      "safe = False\n",
      "safe = False\n",
      "safe = True\n",
      "safe = False\n",
      "safe = False\n",
      "safe = False\n",
      "safe = False\n",
      "safe = True\n",
      "safe = False\n",
      "safe = False\n",
      "safe = False\n",
      "safe = False\n",
      "safe = False\n",
      "safe = True\n",
      "safe = False\n",
      "safe = False\n",
      "safe = False\n",
      "safe = False\n",
      "safe = False\n",
      "safe = False\n",
      "safe = False\n",
      "safe = False\n",
      "safe = False\n",
      "safe = False\n",
      "safe = False\n",
      "safe = True\n",
      "safe = False\n",
      "safe = False\n",
      "safe = False\n",
      "safe = False\n",
      "safe = False\n",
      "safe = False\n",
      "safe = False\n",
      "safe = False\n",
      "safe = True\n",
      "safe = False\n",
      "safe = False\n",
      "safe = False\n",
      "safe = True\n",
      "safe = False\n",
      "safe = False\n",
      "safe = True\n",
      "safe = False\n",
      "safe = False\n",
      "safe = False\n",
      "safe = False\n",
      "safe = False\n",
      "safe = True\n",
      "safe = False\n",
      "safe = False\n",
      "safe = False\n",
      "safe = False\n",
      "safe = False\n",
      "safe = False\n",
      "safe = False\n",
      "safe = False\n",
      "safe = False\n",
      "safe = False\n",
      "safe = False\n",
      "safe = False\n",
      "safe = False\n",
      "safe = False\n",
      "safe = False\n",
      "safe = False\n",
      "safe = False\n",
      "safe = False\n",
      "safe = False\n",
      "safe = False\n",
      "safe = False\n",
      "safe = False\n",
      "safe = False\n",
      "safe = False\n",
      "safe = False\n",
      "safe = False\n",
      "safe = False\n",
      "safe = False\n",
      "safe = False\n",
      "safe = False\n",
      "safe = False\n",
      "safe = False\n",
      "safe = False\n",
      "safe = False\n",
      "safe = False\n",
      "safe = False\n",
      "safe = False\n",
      "safe = False\n",
      "safe = False\n",
      "safe = False\n",
      "safe = False\n",
      "safe = False\n",
      "safe = False\n",
      "safe = False\n",
      "safe = False\n",
      "safe = True\n",
      "safe = False\n",
      "safe = False\n",
      "safe = False\n",
      "safe = False\n",
      "safe = False\n",
      "safe = False\n",
      "safe = False\n",
      "safe = False\n",
      "safe = False\n",
      "safe = False\n",
      "safe = False\n",
      "safe = False\n",
      "safe = False\n",
      "safe = False\n",
      "safe = False\n",
      "safe = True\n",
      "safe = False\n",
      "safe = False\n",
      "safe = False\n",
      "safe = False\n",
      "safe = False\n",
      "safe = False\n",
      "safe = False\n",
      "safe = False\n",
      "safe = False\n",
      "safe = False\n",
      "safe = True\n",
      "safe = False\n",
      "safe = False\n",
      "safe = False\n",
      "safe = False\n",
      "safe = False\n",
      "safe = False\n",
      "safe = False\n",
      "safe = True\n",
      "safe = False\n",
      "safe = False\n",
      "safe = False\n",
      "safe = False\n",
      "safe = False\n",
      "safe = False\n",
      "safe = False\n",
      "safe = True\n",
      "safe = False\n",
      "safe = False\n",
      "safe = False\n",
      "safe = False\n",
      "safe = False\n",
      "safe = False\n",
      "safe = True\n",
      "safe = True\n",
      "safe = True\n",
      "safe = True\n",
      "safe = True\n",
      "safe = True\n",
      "safe = True\n",
      "safe = True\n",
      "safe = True\n",
      "safe = True\n",
      "safe = True\n",
      "safe = True\n",
      "safe = True\n",
      "safe = True\n",
      "safe = True\n",
      "safe = True\n",
      "safe = True\n",
      "safe = True\n",
      "safe = True\n",
      "safe = True\n",
      "safe = True\n",
      "safe = True\n",
      "safe = True\n",
      "safe = True\n",
      "safe = True\n",
      "safe = True\n",
      "safe = True\n",
      "safe = True\n",
      "safe = True\n",
      "safe = True\n",
      "safe = True\n",
      "safe = True\n",
      "safe = True\n",
      "safe = True\n",
      "safe = True\n",
      "safe = True\n",
      "safe = True\n",
      "safe = True\n",
      "safe = True\n",
      "safe = True\n",
      "safe = True\n",
      "safe = True\n",
      "safe = True\n",
      "safe = True\n",
      "safe = True\n",
      "safe = True\n",
      "safe = True\n",
      "safe = True\n",
      "safe = True\n",
      "safe = True\n",
      "safe = True\n",
      "safe = True\n",
      "safe = True\n",
      "safe = True\n",
      "safe = True\n",
      "safe = True\n",
      "safe = True\n",
      "safe = True\n",
      "safe = True\n",
      "safe = True\n",
      "safe = True\n",
      "safe = True\n",
      "safe = True\n",
      "safe = True\n",
      "safe = True\n",
      "safe = True\n",
      "safe = True\n",
      "safe = True\n",
      "safe = True\n",
      "safe = True\n",
      "safe = True\n",
      "safe = True\n",
      "safe = True\n",
      "safe = True\n",
      "safe = True\n",
      "safe = True\n",
      "safe = True\n",
      "safe = True\n",
      "safe = True\n",
      "safe = True\n",
      "safe = True\n",
      "safe = True\n",
      "safe = True\n",
      "safe = True\n",
      "safe = True\n",
      "safe = True\n",
      "safe = True\n",
      "safe = True\n",
      "safe = True\n",
      "safe = True\n",
      "safe = True\n",
      "safe = True\n",
      "safe = True\n",
      "safe = True\n",
      "safe = True\n",
      "safe = True\n",
      "safe = True\n",
      "safe = True\n",
      "safe = True\n",
      "safe = True\n",
      "safe = True\n",
      "safe = True\n",
      "safe = True\n",
      "safe = True\n",
      "safe = True\n",
      "safe = True\n",
      "safe = True\n",
      "safe = True\n",
      "safe = True\n",
      "safe = True\n",
      "safe = True\n",
      "safe = True\n",
      "safe = True\n",
      "safe = True\n",
      "safe = True\n",
      "safe = True\n",
      "safe = True\n",
      "safe = True\n",
      "safe = True\n",
      "safe = True\n",
      "safe = True\n",
      "safe = True\n",
      "safe = True\n",
      "safe = True\n",
      "safe = True\n",
      "safe = True\n",
      "safe = True\n",
      "safe = True\n",
      "safe = True\n",
      "safe = True\n",
      "safe = True\n",
      "safe = True\n",
      "safe = True\n",
      "safe = True\n",
      "safe = True\n",
      "safe = True\n",
      "safe = True\n",
      "safe = True\n",
      "safe = True\n",
      "safe = True\n",
      "safe = True\n",
      "safe = True\n",
      "safe = True\n",
      "safe = True\n",
      "safe = True\n",
      "safe = True\n",
      "safe = True\n",
      "safe = True\n",
      "safe = True\n",
      "safe = True\n",
      "safe = True\n",
      "safe = True\n",
      "safe = True\n",
      "safe = True\n",
      "safe = True\n",
      "safe = True\n",
      "safe = True\n",
      "safe = True\n",
      "safe = True\n",
      "safe = True\n",
      "safe = True\n",
      "safe = True\n",
      "safe = True\n",
      "safe = True\n",
      "safe = True\n",
      "safe = True\n",
      "safe = True\n",
      "safe = True\n",
      "safe = True\n",
      "safe = True\n",
      "safe = True\n",
      "safe = True\n",
      "safe = True\n",
      "safe = True\n",
      "safe = True\n",
      "safe = True\n",
      "safe = True\n",
      "safe = True\n",
      "safe = True\n",
      "safe = True\n",
      "safe = True\n",
      "safe = True\n",
      "safe = True\n",
      "safe = True\n",
      "safe = True\n",
      "safe = True\n",
      "safe = True\n",
      "safe = True\n",
      "safe = True\n",
      "safe = True\n",
      "safe = True\n",
      "safe = True\n",
      "safe = True\n",
      "safe = True\n",
      "safe = True\n",
      "safe = True\n",
      "safe = True\n",
      "safe = True\n",
      "safe = True\n",
      "safe = True\n",
      "safe = True\n",
      "safe = True\n",
      "safe = True\n",
      "safe = True\n",
      "safe = True\n",
      "safe = True\n",
      "safe = True\n",
      "safe = True\n",
      "safe = True\n",
      "safe = True\n",
      "safe = True\n",
      "safe = True\n",
      "safe = True\n",
      "safe = True\n",
      "safe = True\n",
      "safe = True\n",
      "safe = True\n",
      "safe = True\n",
      "safe = True\n",
      "safe = True\n",
      "safe = True\n",
      "safe = True\n",
      "safe = True\n",
      "safe = True\n",
      "safe = True\n",
      "safe = True\n",
      "safe = True\n",
      "safe = True\n",
      "safe = True\n",
      "safe = True\n",
      "safe = True\n",
      "safe = True\n",
      "safe = True\n",
      "safe = True\n",
      "safe = True\n",
      "safe = True\n",
      "safe = True\n",
      "safe = True\n",
      "safe = True\n",
      "safe = True\n",
      "safe = True\n",
      "safe = True\n",
      "safe = True\n",
      "safe = True\n",
      "safe = True\n",
      "safe = True\n",
      "safe = True\n",
      "safe = True\n",
      "safe = True\n",
      "safe = True\n",
      "safe = True\n",
      "safe = True\n",
      "safe = True\n",
      "safe = True\n",
      "safe = True\n",
      "safe = True\n",
      "safe = True\n",
      "safe = True\n",
      "safe = True\n",
      "safe = True\n",
      "safe = True\n",
      "safe = True\n",
      "safe = True\n",
      "safe = True\n",
      "safe = True\n",
      "safe = True\n",
      "safe = True\n",
      "safe = True\n",
      "safe = True\n",
      "safe = True\n",
      "safe = True\n",
      "safe = True\n",
      "safe = True\n",
      "safe = True\n",
      "safe = True\n",
      "safe = True\n",
      "safe = True\n",
      "safe = True\n",
      "safe = True\n",
      "safe = True\n",
      "safe = True\n",
      "safe = True\n",
      "safe = True\n",
      "safe = True\n",
      "safe = True\n",
      "safe = True\n",
      "safe = True\n"
     ]
    }
   ],
   "execution_count": 176
  },
  {
   "cell_type": "code",
   "id": "d8b084eaca62124",
   "metadata": {
    "ExecuteTime": {
     "end_time": "2025-08-03T16:34:20.292792Z",
     "start_time": "2025-08-03T16:34:20.279782Z"
    }
   },
   "source": [
    "total"
   ],
   "outputs": [
    {
     "data": {
      "text/plain": [
       "354"
      ]
     },
     "execution_count": 177,
     "metadata": {},
     "output_type": "execute_result"
    }
   ],
   "execution_count": 177
  },
  {
   "cell_type": "code",
   "execution_count": null,
   "id": "909b47dd834ded14",
   "metadata": {},
   "outputs": [],
   "source": []
  },
  {
   "cell_type": "code",
   "execution_count": null,
   "id": "81844d8b62aeac4",
   "metadata": {},
   "outputs": [],
   "source": []
  },
  {
   "cell_type": "code",
   "execution_count": null,
   "id": "a04353bacedf50ed",
   "metadata": {},
   "outputs": [],
   "source": []
  },
  {
   "cell_type": "code",
   "execution_count": 135,
   "id": "656cb329e9c317b6",
   "metadata": {
    "ExecuteTime": {
     "end_time": "2025-08-03T14:54:24.782240Z",
     "start_time": "2025-08-03T14:54:24.770239Z"
    }
   },
   "outputs": [],
   "source": [
    "l = example_day2[0][:-1]\n",
    "sens = \"None\"\n",
    "last = int(l[0])\n",
    "test = True"
   ]
  },
  {
   "cell_type": "code",
   "execution_count": 136,
   "id": "15c6c4857aadd2cc",
   "metadata": {
    "ExecuteTime": {
     "end_time": "2025-08-03T14:54:28.090806Z",
     "start_time": "2025-08-03T14:54:28.080809Z"
    }
   },
   "outputs": [
    {
     "data": {
      "text/plain": [
       "[7, 6, 4, 2]"
      ]
     },
     "execution_count": 136,
     "metadata": {},
     "output_type": "execute_result"
    }
   ],
   "source": [
    "l"
   ]
  },
  {
   "cell_type": "code",
   "execution_count": 137,
   "id": "26879ef0e0dce6c5",
   "metadata": {
    "ExecuteTime": {
     "end_time": "2025-08-03T14:54:39.378223Z",
     "start_time": "2025-08-03T14:54:39.366235Z"
    }
   },
   "outputs": [
    {
     "data": {
      "text/plain": [
       "7"
      ]
     },
     "execution_count": 137,
     "metadata": {},
     "output_type": "execute_result"
    }
   ],
   "source": [
    "last"
   ]
  },
  {
   "cell_type": "code",
   "execution_count": 139,
   "id": "7f949bdeecae8325",
   "metadata": {
    "ExecuteTime": {
     "end_time": "2025-08-03T15:02:38.404313Z",
     "start_time": "2025-08-03T15:02:38.385312Z"
    }
   },
   "outputs": [
    {
     "name": "stdout",
     "output_type": "stream",
     "text": [
      "6\n"
     ]
    }
   ],
   "source": [
    "f = example_day2\n",
    "\n",
    "somme = 0\n",
    "\n",
    "for x in f:\n",
    "    l = x\n",
    "    sens = \"None\"\n",
    "    last = int(l[0])\n",
    "    error = 0\n",
    "    for e in [int(ele) for ele in l[1:]]:\n",
    "        if sens == \"None\":\n",
    "            if e > last and abs(e - last) <= 3:\n",
    "                sens = \"Croissant\"\n",
    "            elif e < last and abs(e - last) <= 3:\n",
    "                sens = \"Decroissant\"\n",
    "            else:\n",
    "                error += 1\n",
    "        elif sens == \"Decroissant\":\n",
    "            if e >= last:\n",
    "                error += 1\n",
    "            elif abs(e - last) > 3:\n",
    "                error += 1\n",
    "        elif sens == \"Croissant\":\n",
    "            if e <= last:\n",
    "                error += 1\n",
    "            elif abs(e - last) > 3:\n",
    "                error += 1\n",
    "        last = e\n",
    "\n",
    "    if error < 2:\n",
    "        somme += 1\n",
    "\n",
    "\n",
    "print(somme)"
   ]
  },
  {
   "cell_type": "code",
   "execution_count": 141,
   "id": "ddcd837e8bb50869",
   "metadata": {
    "ExecuteTime": {
     "end_time": "2025-08-03T15:03:21.120338Z",
     "start_time": "2025-08-03T15:03:21.106349Z"
    }
   },
   "outputs": [
    {
     "name": "stdout",
     "output_type": "stream",
     "text": [
      "[7, 6, 4, 2, 1][1, 3, 6, 7, 9]2\n"
     ]
    }
   ],
   "source": [
    "f = example_day2\n",
    "\n",
    "somme = 0\n",
    "\n",
    "for x in f:\n",
    "    l = x\n",
    "    sens = \"None\"\n",
    "    last = int(l[0])\n",
    "    test = True\n",
    "    for e in [int(ele) for ele in l[1:]]:\n",
    "        if sens == \"None\":\n",
    "            if e > last and abs(e - last) <= 3:\n",
    "                sens = \"Croissant\"\n",
    "            elif e < last and abs(e - last) <= 3:\n",
    "                sens = \"Decroissant\"\n",
    "            else:\n",
    "                test = False\n",
    "        elif sens == \"Decroissant\":\n",
    "            if e >= last:\n",
    "                test = False\n",
    "            elif abs(e - last) > 3:\n",
    "                test = False\n",
    "        elif sens == \"Croissant\":\n",
    "            if e <= last:\n",
    "                test = False\n",
    "            elif abs(e - last) > 3:\n",
    "                test = False\n",
    "        last = e\n",
    "\n",
    "    if test:\n",
    "        print(x, end=\"\")\n",
    "        somme += 1\n",
    "\n",
    "\n",
    "print(somme)"
   ]
  },
  {
   "cell_type": "markdown",
   "id": "d3c212d2266ffae3",
   "metadata": {},
   "source": "Answer is 23963899"
  },
  {
   "cell_type": "markdown",
   "id": "f6363a6df6c59f81",
   "metadata": {},
   "source": "# Day 3"
  },
  {
   "cell_type": "markdown",
   "id": "6166ba344acbc8a7",
   "metadata": {},
   "source": "## Read data"
  },
  {
   "cell_type": "code",
   "execution_count": 183,
   "id": "b15af71515af028c",
   "metadata": {
    "ExecuteTime": {
     "end_time": "2025-08-03T00:54:51.674408Z",
     "start_time": "2025-08-03T00:54:51.659408Z"
    }
   },
   "outputs": [],
   "source": [
    "def read_data_day3(path: str) -> str:\n",
    "    with open(path, \"r\") as file:\n",
    "        content = file.read()\n",
    "    return content"
   ]
  },
  {
   "cell_type": "code",
   "execution_count": 184,
   "id": "dcb14ba45130086",
   "metadata": {
    "ExecuteTime": {
     "end_time": "2025-08-03T00:54:51.689928Z",
     "start_time": "2025-08-03T00:54:51.678410Z"
    }
   },
   "outputs": [],
   "source": [
    "str_day_3 = read_data_day3(\"data/advent-of-code/day3.txt\")\n",
    "str_example_day3 = (\n",
    "    \"xmul(2,4)%&mul[3,7]!@^do_not_mul(5,5)+mul(32,64]then(mul(11,8)mul(8,5))\"\n",
    ")"
   ]
  },
  {
   "cell_type": "markdown",
   "id": "dbbade737ef7e03e",
   "metadata": {},
   "source": "## Part 1"
  },
  {
   "cell_type": "code",
   "execution_count": 185,
   "id": "f6bc06432d1ff525",
   "metadata": {
    "ExecuteTime": {
     "end_time": "2025-08-03T00:54:51.720661Z",
     "start_time": "2025-08-03T00:54:51.706448Z"
    }
   },
   "outputs": [],
   "source": [
    "import re"
   ]
  },
  {
   "cell_type": "code",
   "execution_count": 186,
   "id": "8acf1a54513b5fa",
   "metadata": {
    "ExecuteTime": {
     "end_time": "2025-08-03T00:54:51.751925Z",
     "start_time": "2025-08-03T00:54:51.737410Z"
    }
   },
   "outputs": [],
   "source": [
    "def solve_day3_part1(string: str) -> int:\n",
    "    reg = re.compile(r\"mul\\(([0-9]+),([0-9]+)\\)\")\n",
    "    numbers = reg.findall(string)\n",
    "    total = 0\n",
    "\n",
    "    for x, y in numbers:\n",
    "        total += int(x) * int(y)\n",
    "\n",
    "    return total"
   ]
  },
  {
   "cell_type": "code",
   "execution_count": 187,
   "id": "7ae969034c4ecae7",
   "metadata": {
    "ExecuteTime": {
     "end_time": "2025-08-03T00:54:51.783332Z",
     "start_time": "2025-08-03T00:54:51.768929Z"
    }
   },
   "outputs": [
    {
     "data": {
      "text/plain": [
       "161"
      ]
     },
     "execution_count": 187,
     "metadata": {},
     "output_type": "execute_result"
    }
   ],
   "source": [
    "solve_day3_part1(str_example_day3)"
   ]
  },
  {
   "cell_type": "code",
   "execution_count": 188,
   "id": "614aa2505fb79f6e",
   "metadata": {
    "ExecuteTime": {
     "end_time": "2025-08-03T00:54:51.814330Z",
     "start_time": "2025-08-03T00:54:51.799331Z"
    }
   },
   "outputs": [
    {
     "data": {
      "text/plain": [
       "157621318"
      ]
     },
     "execution_count": 188,
     "metadata": {},
     "output_type": "execute_result"
    }
   ],
   "source": [
    "solve_day3_part1(str_day_3)"
   ]
  },
  {
   "cell_type": "markdown",
   "id": "6f917df6166b005e",
   "metadata": {},
   "source": "Answer is 157621318"
  },
  {
   "cell_type": "markdown",
   "id": "c64bf06884187dc6",
   "metadata": {},
   "source": "## Part 2"
  },
  {
   "cell_type": "code",
   "execution_count": 189,
   "id": "7558e8687ea15a79",
   "metadata": {
    "ExecuteTime": {
     "end_time": "2025-08-03T00:54:51.845329Z",
     "start_time": "2025-08-03T00:54:51.831331Z"
    }
   },
   "outputs": [],
   "source": [
    "def solve_day3_part2(string: str) -> int:\n",
    "    reg = re.compile(r\"(do\\(\\))|(don't\\(\\))|mul\\(([0-9]+),([0-9]+)\\)\")\n",
    "    commands = reg.findall(string)\n",
    "\n",
    "    total = 0\n",
    "    enabled = True\n",
    "\n",
    "    for command in commands:\n",
    "        do, dont, x, y = command\n",
    "\n",
    "        if do:\n",
    "            enabled = True\n",
    "        elif dont:\n",
    "            enabled = False\n",
    "        else:\n",
    "            if enabled:\n",
    "                total += int(x) * int(y)\n",
    "\n",
    "    return total"
   ]
  },
  {
   "cell_type": "code",
   "execution_count": 190,
   "id": "a86408ead52e24a2",
   "metadata": {
    "ExecuteTime": {
     "end_time": "2025-08-03T00:54:51.876333Z",
     "start_time": "2025-08-03T00:54:51.861330Z"
    }
   },
   "outputs": [],
   "source": [
    "str_example2_day3 = (\n",
    "    \"xmul(2,4)&mul[3,7]!^don't()_mul(5,5)+mul(32,64](mul(11,8)undo()?mul(8,5))\"\n",
    ")"
   ]
  },
  {
   "cell_type": "code",
   "execution_count": 191,
   "id": "713995e07f860ca6",
   "metadata": {
    "ExecuteTime": {
     "end_time": "2025-08-03T00:54:51.907332Z",
     "start_time": "2025-08-03T00:54:51.894330Z"
    }
   },
   "outputs": [
    {
     "data": {
      "text/plain": [
       "48"
      ]
     },
     "execution_count": 191,
     "metadata": {},
     "output_type": "execute_result"
    }
   ],
   "source": [
    "solve_day3_part2(str_example2_day3)"
   ]
  },
  {
   "cell_type": "code",
   "execution_count": 192,
   "id": "4ef7211fc270e431",
   "metadata": {
    "ExecuteTime": {
     "end_time": "2025-08-03T00:54:51.938330Z",
     "start_time": "2025-08-03T00:54:51.924331Z"
    }
   },
   "outputs": [
    {
     "data": {
      "text/plain": [
       "79845780"
      ]
     },
     "execution_count": 192,
     "metadata": {},
     "output_type": "execute_result"
    }
   ],
   "source": [
    "solve_day3_part2(str_day_3)"
   ]
  },
  {
   "cell_type": "markdown",
   "id": "6bd02776c2fdd9d5",
   "metadata": {},
   "source": "Answer is 79845780"
  },
  {
   "cell_type": "markdown",
   "id": "b93ba543a18482f8",
   "metadata": {},
   "source": "# Day 4"
  },
  {
   "cell_type": "markdown",
   "id": "cbd0bc84f9c59e4b",
   "metadata": {},
   "source": "## Read data"
  },
  {
   "cell_type": "code",
   "id": "7a9c4f7e642b88be",
   "metadata": {
    "ExecuteTime": {
     "end_time": "2025-08-04T02:18:18.834559Z",
     "start_time": "2025-08-04T02:18:18.820559Z"
    }
   },
   "source": [
    "def read_data_day4(path: str) -> str:\n",
    "    with open(path, \"r\") as file:\n",
    "        content = file.read()\n",
    "    return content.split(\"\\n\")"
   ],
   "outputs": [],
   "execution_count": 2
  },
  {
   "cell_type": "code",
   "id": "84c5f1d224e68d50",
   "metadata": {
    "ExecuteTime": {
     "end_time": "2025-08-04T02:18:18.896557Z",
     "start_time": "2025-08-04T02:18:18.882559Z"
    }
   },
   "source": [
    "grid_path = \"data/advent-of-code/day4.txt\""
   ],
   "outputs": [],
   "execution_count": 3
  },
  {
   "cell_type": "code",
   "id": "841279952548e920",
   "metadata": {
    "ExecuteTime": {
     "end_time": "2025-08-04T02:18:19.362559Z",
     "start_time": "2025-08-04T02:18:19.349560Z"
    }
   },
   "source": [
    "letters = (\"X\", \"M\", \"A\", \"S\")"
   ],
   "outputs": [],
   "execution_count": 4
  },
  {
   "cell_type": "code",
   "id": "7fa1532235546a49",
   "metadata": {
    "ExecuteTime": {
     "end_time": "2025-08-04T02:18:19.500558Z",
     "start_time": "2025-08-04T02:18:19.488560Z"
    }
   },
   "source": [
    "moves = (\n",
    "    (0, 1),  # left to right (ltr)\n",
    "    (0, -1),  # right to left (rtl)\n",
    "    (1, 0),  # top to bottom (ttb)\n",
    "    (-1, 0),  # bottom to top (btt)\n",
    "    (1, 1),  # diagonal ttb ltr\n",
    "    (-1, 1),  # diagonal btt ltr\n",
    "    (1, -1),  # diagonal ttb rtl\n",
    "    (-1, -1),  # diagonal btt rtl\n",
    ")"
   ],
   "outputs": [],
   "execution_count": 5
  },
  {
   "cell_type": "code",
   "id": "1768d086825dd83d",
   "metadata": {
    "ExecuteTime": {
     "end_time": "2025-08-04T02:18:19.732558Z",
     "start_time": "2025-08-04T02:18:19.718560Z"
    }
   },
   "source": [
    "grid_example = \"\"\"MMMSXXMASM\n",
    "MSAMXMSMSA\n",
    "AMXSXMAAMM\n",
    "MSAMASMSMX\n",
    "XMASAMXAMM\n",
    "XXAMMXXAMA\n",
    "SMSMSASXSS\n",
    "SAXAMASAAA\n",
    "MAMMMXMMMM\n",
    "MXMXAXMASX\"\"\".split(\"\\n\")"
   ],
   "outputs": [],
   "execution_count": 6
  },
  {
   "cell_type": "code",
   "id": "4f74bde2ccddf3bf",
   "metadata": {
    "ExecuteTime": {
     "end_time": "2025-08-04T02:18:20.182557Z",
     "start_time": "2025-08-04T02:18:20.164559Z"
    }
   },
   "source": [
    "grid_day4 = read_data_day4(grid_path)"
   ],
   "outputs": [],
   "execution_count": 7
  },
  {
   "cell_type": "code",
   "id": "541f3d879dd896ad",
   "metadata": {
    "ExecuteTime": {
     "end_time": "2025-08-04T02:18:20.258562Z",
     "start_time": "2025-08-04T02:18:20.247560Z"
    }
   },
   "source": [
    "grid_day4"
   ],
   "outputs": [
    {
     "data": {
      "text/plain": [
       "['SSSMMAASASAMXSSMSMMSSSSSSMSSMMMSMSAXMAMASXXXXMXMXSXXXMAMMSSSSSSXXAMXMSSXMAXMMXMMSSSMSAMXMXSXMSMSSSXMMSAMMSAMXMSMMMXSASMMMXMXMMXXAMXXMASXMXMS',\n",
       " 'AMAASMMSASASAAMMAAXXAAXAAAAXASAAXSAMXSXASMSMAMSMASMSMXAXSAMXAAAMSXXAMXAAMXSAMAAXSAAAMAMAMASMMAASAXSAASAMXAAXAXAMAXXXAXAASMMASMASXMSXSAMAMMMS',\n",
       " 'MSSMMAAXASAMXMMSSSMMMMMMMMMXAMMMMSAMAMMXMAMSAMAMXSAAASMMMASMMMMMAASXSMSAMXAASXSMMMMMSAMMMASASMSMAMMMMSAXMSMSMSMSMSMMMMSMXAXASXAAAMAMMASAMAAM',\n",
       " 'XXAMXMMMMMMMMXXAAAXMSAMXSXMASXSXXSAMXSSXMAMXMSMXAMMMXAMXSAMAMAXMMXMXAMXAAMMXMAAMXAAXXXSXMASMMMMMXMMMASAMXXXXXAXAMAMAAAMMSSMASMSSSMASXXMXSMSX',\n",
       " 'MMMMSMMMXMSASAMMXMXMMMXAMAMXXAMMXXXXSAMXSAMAMAMXMASMSMAXMASMMXSAMAMSSMMMMXXXMMMMMXSSMSMAMASXMASMMSXMASMAMMMSXMSXSASXSMSAAAMSMMAAAMMMXXAAXAMA',\n",
       " 'AAAAAAAMAMXASMXAASXSAAMSSMMSMAMMAMSMMAXXAMSMSASMSMXXAMSAXXAAAASMMXXAMXASASXMMASASAAXMASAMASASASAMXSMASMSAAAAAXMXMASMMAMMSSMXAMMMMMMASMXMMAMM',\n",
       " 'SSMSSSMSASMAMXMSMSASMXMAAAAMXMMMAXAASAMXMMAASASAASMSXMAMSMSMMXXASXMASXXMAMXSXAXASMSMAMSXSXXXMASMMMMMXSAXMMSSMMXAMAMAMAXXAAMSMMSXMAMASAAXAAXX',\n",
       " 'XXAAMAASAXMSMSAMXMMMMSMSSMMSMXSXMXSXMASXXMMXMXMXAMMAMMMMAMAMSSMAMAMAMMSMMMAMMSXMSAMXMXMMMMMXSXSAAXASMMMMSXMAMSSMXSSSSMSMSSMAAAMAXXMASXSXXXXX',\n",
       " 'XMMMSMMMSMAAAMAMAAXXAXMMMAAAXMSASAMASAMMMXMXSXMMXSXSAMXSMSMSAAAMSSMAXAAMAMAMXAASMMMAAAXAAAXMSASMMMMSAAAMAXXAXMASAXXAAXXAMAMSSMSMMMSAMAMASXMS',\n",
       " 'SXMAMXAAXMSMMMAMMSMMMXSMMMSSSMSAMASAMXXSXASAMXXMAMMMXMASXMXMMSMXAXSMSSMSXSASMSSMAASXSXSMSXSAMXMAMSMMMMSSMMXSMMAMMSMSMMMMSAMXAXAAAASAMSAAAAAX',\n",
       " 'AAMSSSMSSXMASMMMXAMAXAAAMAMXXAMAMXMMMSAMXXMAMXXMASAMAXAMMMMSMMMMMXAMAMXAAMASXXMMSMSXMASXAAMXMAXAMAAMMMAMXAMMAMSAAMXXMAMASAMXSMSXMASXMXMASMMM',\n",
       " 'MXMAAXAMMMMAMAAASMSAMMSMMMSAMMMAMMAMAMASXMSAMSXSASMSXMASXAAMMASMXXMMSSMMSMASMSXAMXMXMAMMMSMMSSSMSSMMAMASMSASAMMAMXASXSMASASXXAMXMAXMSMSAMXAA',\n",
       " 'XMSMXMMXAXMAMSMMMXMASAAXAXMXMXSASXAMMSXMAMMXSMASAMASXAXXXMMMSAXMMMMAXXAXMMAXAXMXSAMMMAXXMXAMXAAXAXASXSAMXXMSXMXSXMASAAMAXXMAMAMXMASXXAXAXSSS',\n",
       " 'XAAMMSMSXSMMMXASXXSAMMSMSMSXMASASXXMAMMSMMSMSMAMXMAMMSSMMSSXMMSAAAMSSSSMXMSMMMMAMAMAXMXSASXMMSSMMSXMAMMSMMAXXMAMAMAMMMMSSSMSMAMXMASAMSMMXAAX',\n",
       " 'SSMSAAXAXMAMAMAMAMMAMAAAXAXMMMSASMSMAAAMXMAAMMAXXMXSMMMAAAXAAAXMMXSAAMMAAMXSXAMASXMSMSAXMMSXMAAAMXMASAAAAMMMMMASXMASMXAAAAAASMSMXSMXMAASMMSX',\n",
       " 'AAXMMSAMXSXMMSSMSMSAMMSSMSMAAXMAMAXSSSSXMSMSMSXSAMASAXSSMSSMMMSMSXMMSMASXSAMXXMASXAXXMAMSAMXMXSSMXAAXMSMSMAAAXASMSSSMMMMXMMMMXAMXMAMSSSXXMAM',\n",
       " 'XMMMSMMAXXMSXAAAMASXSAAXAAASXSMMMMMXMAMAAAAXXAXSAMASXMAMMXAMXXXAAAXAMXAMAMASMMSXMXSMSMAMMASXSAAAAXSXSMMXMXSXSAASAMXMXSMSXSXAMSMSMMAMAXMXMASX',\n",
       " 'XMAMAASMMMAXMXMMMAMAMMSMSAMMAXMXAXMAMAMMSSMXMSMSXMASASAMMSAMXXMXSSMSSMASXXAXMAXAXMMAXMAXMXSAMMMMMMMAMASAXAXAXMSMXSAMXMAMAASMXASAASMMXSMSMAMX',\n",
       " 'ASXSMXMAAMSXSXSXMASXMAMAMMMMAMSSSMSASMXMAXMMAMAMXMAMAMMSAMXMMXMAMMAXAMAAAMSMMXSASMMAMSSXSAMXMMXSAMMASAMMMMSAMXXMAXAXAMAMXMAMSMSMXMAXXAAAAASX',\n",
       " 'MAAXMXMMSMMASAMXMAMAMXSAMASMMSAAAXMAMAAXAXMASMMMSSSMXMXMASXAXAMXSXXSMMSMXMMASAAAMXAAXXXAMXSMSXMMAXSXMASXAAXAMXSMSMSMSSMXAMAXSXMXSAMXSMSMSMSA',\n",
       " 'XMMXAAMXMAMMMMMAMASAMXMAXAMAXAMSMSMSMSXMASXAXAAAXAAAAAMMMAMSSMSAMMMXXAMXSMSAMAMSMXSSXSMSMSMAXAMMSMSASAMMMXSXMAXSAAMXMAAXSSSMSAMXXAXAXMAMXMXM',\n",
       " 'SAMXSASASAXAAMMXMASAMMSMMXSXMAXAAXAMAMXXXMMMSSMSSMXSSMXAXMAXAMMMSAMMMSSMMXMAMXXMAXXAXSAXMASXSMMMMAMAMAXXAAXXMASMMMMAXMMMXAXASXMSSMMSMMMSMXSM',\n",
       " 'SAXAXASXSASXSSMSMMMAXMAXXMMMAXMMXMXMAMMSMMAAMAXAXXXMAMSSSSXMMMAAMMSAAMAMSSSSXMASMSSSMMAMSMSXXAAXMAMASXMSMMSASXMASASAMMSSMAMMMMMMAMXMASASMASA',\n",
       " 'SMMSMAMAMXMXAAAXXMMSMMXXSAAAMSXMXAXMASAAAMSMSAMMXMSMAMXAXMASXSMXSASMMSAMXAAASMMMAMXAXSAMXXXXSXMMSAXXMXMXAMSAMXMMSXMASXAAMXMASASMXMASMMASMAMX',\n",
       " 'XMAXMAMXMSXMSMMMMSAMASAAXMASXMAASMXSXSMMXMXASXMMMAAXAMMAMXMMAAASMMMSMMMMMMMMMMAMAMSMMMMSXMMXSMXXMXSSMMMMMMMMMMMAMAMAMMSMMMMASXXMASXSXMMMMMSS',\n",
       " 'XMASMSSSMXXXASAAXMASAMMSMMXMASXMSAMSXMAXAMXXMAMXSSMSMSAAMSMMXMXMAAAMXASXMASMASAXAMAXAAASAXAAMXMMSMAXAAXAAAASAMMAXMMAXXAMXSXXMAMSMMASASMXXAAX',\n",
       " 'MMMSAMAXXXMXASMMSMXMXMMAXXAMXMXAMAMMASAMMMSMSXMAXAAAMMMMMAAXMMMSSMSSMXSXMAMMAXMSSSMSSSMSAMSSMAAMAAMMXSXSSSMSASXMMAMAMSASASAMXAXSXSXMMAXMSMMS',\n",
       " 'AAAMAMAMXMSAMMMMAMMSMMMSMSSSMSMMMAMSMMXSAAAAMXMXMMMMSAAXSSXMMAAXXAXXMMSXMASMMSMAMAAAAMAMAMXAXMXSMSXSAXXXAAASAMAMSSMAXSAMAMSAMXMMAAAMAMMMAAXX',\n",
       " 'XMXSAMXSAAMASAXSAMXAAAAAASAAAXAMSSMMXAASMXMXMAMMSMMXMMMXAXAASMSSMSMMSASAMASAMAMASMMMMSXMAMXMMXAXMAAMASMSSMMMSMXMAAMSMMAMAMXXMAXMAMAMAXAXSSMM',\n",
       " 'ASASXXXMAXSAMXMSSSXSMMSSMMXMMMXMAXAASMMSXASASASAAMASMASMAMSXMXAXAAAMMXXAMASAMMSAMXAXMSASMSMSAMMSSMAMAMAXAMXMASAMXSMXASXMXXSAMSMMMSASASMMMAAA',\n",
       " 'MMASAMSXSAMXXXXMASXMAXAMXSAMXAAMXSMMXAAXMASASXSXXXASMAXMXMXXSXSMMMSXMMSMMAMAMXMASMXSASAMAAMMASAAAASMMMMSAMXSMXXSMXXMAMAMSAMMMMASXMXSAMXASMMS',\n",
       " 'AMAMASAAMXSMSSXSAMXMMMAXASASMSXSAAAASMMSXXMXMASASMMMMXXMAXXXMAXAMAMAXMASMSSSMSMMMAAMMMAMMMXSAMMSMMXASAASAMMSXSAXMASMSMXSAMSSMXAMAMXMMMSAMAMX',\n",
       " 'XMXSXMMXMXXAAAMMMXMASMXMXSMMAMAMXXMMSXAXMASXMXMAMASMMSAXMAMAMAMAMASXMSASXAAMXMASMSMSXSAMXMMMAXXAMXXXMMXSXMAMMAMMMAXAAXMXAXMAAMSMSMAAAAASXXMM',\n",
       " 'SXMAMSSMMSMMMSMAMMSAMAASMMAMMMAMMSMSMMAMXXMASAMASXMAASASMSMXXMSMSASXAMAMMMSMAXAMAMXSAAMSMMAMMSSSSSXSMSASMMSSXASAXXMSSMAXMMSMMMMAMASXMXSASMXS',\n",
       " 'ASAXXAAAXXXAXMXMSASAMXMXAXXXAMXMAAXAMXSXSMSMSASASAMMMMAMAXMMXXAAXAXMXMAMAXMXMSMMXXAMMMMAMXASMXAMAMASAAAXMAXAMAXMAXMAMXSSMAAAAAMAMXAMXMMMMMAX',\n",
       " 'MXSMMMXSMMSSSXSMMXSSMMXSSMSSMSSMSSSXSAXAMAAASAMMSMSSSMMMXMASMMXSAMMMAMASXXAAXAXXAMSSMXSAXSASXMAMXMAMMMXMMMXMMSXMSXMASAMAMSSSXSSSSSMSAXMXXMMM',\n",
       " 'XAAMAXXMAAMAAASXSXXMMMAXMAXAAAAMAMXAMXMAMSMXMAMXMXAAASAMXSXMASAMMMAXSSMSMSSMSXSMMXAAMMSAMMSMMSMMMMSSSMXSXMXXXXXSMASAMMXAMMXXMAMXAAXSASMMMMSS',\n",
       " 'MMXMMSASMSMMMMMAXAMMAMMMMMMXMMSMAMMXMMSMMMXMXAMXSMMSMMSAMXSSSMXSSSSSMAAXXAAXMXMAMMSSMMMXMXMXAAMAAXXAMMAMMMAMXAXASXMXASXSXSASMSSMXMASXXAXXAAX',\n",
       " 'MSSMXSMMAAMMMSMXMMMSAMAASASASMXMSXMASAAMXMAMMMXXXMAMXMAMSAXMAMAXAAMMMMMMMSSMXAXAMMAAAXSXMASMSMSSSMMSMMAXAASMMMSMMXSMXSAXXMASAAAMSAMXXSMMMMSS',\n",
       " 'XAAAAXXMXMMAAMXSMMASASMXSASASAXXMASASMMMXSSSXSASMSASMMMMMAMSAMXMMSMSAMXAMMAMSMSMSMSSMMSAMASAMAAAAAAAAXXSSMMAAAAAMSXMAMXMXMAMMMSMMXMAXMXSXAAX',\n",
       " 'MSSMXXAXXXSMMSAMASASAMXAMAMMMMMXSAMASMMSAAAAAAAMAMXAAASAXXMXAMXMAMAMXSXSMSMXAAAAAAXAXASAMASXMMMSMSSSSMMXMASMMSSSMSMMASASAMMAMXAAXAASXMAMMMSS',\n",
       " 'XXXAMMMMSMMSSMXMAMXXMMMXMAMAAAMAMXMXMAAMMMMMMMAMXMXMSMSASXSXSMAMXSAMASAMAAAXMMMSMXXAMXXAMAMAMSMMXAXAAAMASXMMAMAMASASASXSASMMSSXSMMXMSMASAMAM',\n",
       " 'SAMXMASXMAAXXAAMSMSXMXXMSSSSXSMXXSMSMMMSMMAMSAMAMXMXMASAMAMAMMASXXAMASAMSMMMSAMMXMMSMXSSMSSSMSAMMMMXMMMAMMSMAMSMMMXMXSAMAMAAMAMMMSAMXSASXMAS',\n",
       " 'AXSMSXSASMMMMMMXMAXAMSMXAXAMAMXSXSASMMMAXMAXAAXMAAAXMASAMXMAMSASASMMMMAMXMXAXAMAAMXXAMXXAXAXAMSMAAMSSSMMMAAMAMAAXMMXAXXXAXMMMSAAAXMAMXXMMSMS',\n",
       " 'MSXAXASAMMSAMASASAMXMAAMXSAMXMAMAMAMMXMASXSMSSMXSXSMMMSAMXMMMMAXAAXXXSAMSSMASXMSMSMSMMXMXMMMXMASMMSAAAASMSSSSSSMMAMMXXSMSMAAAXSMMSMXSMSMXAAX',\n",
       " 'XAMSMMMXMASASASASAMXAXMMMMXXXMAMSMSMSXMASAXAMMMXMAXAAAXAMSMSSMSMSMXSAAXXAASAMAXAAAAMMMAMAMXAAMMAMSMMSMMMAAAXAAAMSAMASXSAASMMSMMMMAMMSAMXSMSM',\n",
       " 'AXAAMAMMMMSAMAMXMAMMSMXAAMAMMSAMXAAXSAMAMXMASAMSMMSSMSSMMXXAAXXAAAAMXMMMXXMXSAMMMMXMASMSSMSSXSXSXSAAMXSMMMSSMMMMSAXXXAMMMSXAAAAXXMASMXMMMMXA',\n",
       " 'MXXXSASAMXMXMXMXSXMXAASMMXAAAAAMMMMMSAMXMAMXSAMXAAXXXMAMAAMSSMMMMMMMAAXMSMMAMAXXMSASXSXAAMAAXSAMASMMSASASXXXAMXXSXMSMXMSXSMSSSMSXXMXXSXSXASM',\n",
       " 'MAXXAMXXXMASXSAMXASMMXMAASMSMXSMAAXMSAMASMMASXMSMMSMXXAMMMAXXAMAMXSXSMSAAAMXSXMSAMXSASMSSMMSMMAMAMMXMMSAMXAXSMMXMASXAXXAASAAAAAAXSXMMAASMMMA',\n",
       " 'MAMAAMSXSAMXAAMASAMASXSMMAMAMMAMSMSASMSMASAXSAMXAAXXAMMXMASXMSMSMXMAMXMXMSMAMAAXMMAMXMAAXMAMASXMASAAXAMAMMSAAMAASMAXMMSMMMMMXMMMXSASMMXMASAX',\n",
       " 'MSSMSXMASAMMXMAAMAMAXXXXSMSAMSAMXXMMXAXMASMXSMMSMMSMXSAAXAMAAAXMXMSMSASMSMMASMMMXMAXAMMMXMSSMMMAAXMSXMSMMAMMMMSXSXMMAAXAXSXSXMASASXMSAMXSMSS',\n",
       " 'MAAXAAMAMAMAAXMXSMMMXMSXSXMAXMAMMAMXMMMMAXXAMXAMMXAAAMMSMASMMMXMAAXXMAMXAXSMXXAAAMXSXSAXASMMMASMMSAXAXAASXSAXXXXMAXXMSMXMSASASXMASXMMXAMXAXX',\n",
       " 'MSSMSXMASAMXXXMXSXAXSMSAMXSSMSMMSAMAMSAMMSMMSMXSMSMSMMAXXXMASXAXASXXMAMMSXMXXSMSSMMAXMXMXMAASXMAXXAMAMMMSASMSMMAMSMSMMMXAXAXAMAMAMXSAMSXMSMM',\n",
       " 'MXMAMXXMSMSXSAAAMMXMAAMXMAMAMXMAMASAMSAMMAMXAMMAXMXAAMASASAMXSMMAXAXSAMMMASAMAMAAASMSSMSASXMSMMSMMSMMMMAMXMAMXMAMMASAAAMSMXMASXMXXAMAMXAMAAX',\n",
       " 'SAMAMAMXMAAASMMAMSSSMXXSMXSAMAMASMMXXSMMXSSSXSSMASMSSMSXAXXMAAMMSMSMSASXSAMASAMXSMAASASAMXAAXXAASAMAMXMASXMAMMSXSMAMMMMMAAXSAMXXXMMSSMSXMSSM',\n",
       " 'XAMASAAAMMMXMXSXSAAXXSXAAASAXXSAXXMSAMXAXMAMSXAXMAAAXXXMMMSMMMXAXAMAMAMXMXSMMMXXAXMSMSAMXMMMMMSSMSSXMMSASAMSSMAAXMAMMXSMMMMMAMMSMAAAMMXAAAAA',\n",
       " 'SMMASXSMSXMASAMXMMSMSMMMMMXAMMMMXSXXXMMMSMAMMSAMXMMSMXAMXAMXMAMSMMMAMAMXSMSXAAXSAMXXMXXXAAXAXAMAAAXASAMXSAMAAAMMMMAMMAMMSMMSMMAAXMMSSMMMMSSM',\n",
       " 'MSAMXMAXMAMASMSXXMMXAAAXAMMSMMASAXMMXMAXXMAMXAXAAXXAAXSMMMMAMAXXASXXMSXMXAMMMMXXMMSMMAMSMSMSMSSMMMMMMSXMMAMMMMMSXXSXMAMAAAXAMSSSXSAMAXXAXAMX',\n",
       " 'XAXMSXMAXSMASAMMSMMXSXMSMSAXASAMMAAMXMAXMSMXMMXSMMSMSMMAASMXSXMSAMAAXXAMMSMAXMXMAAXAMAXAAXAXAAXAAXXSAMXSXMXXSAMXAMXASASXSSMAMAAAAMASAMMMMASX',\n",
       " 'MMAMXAXAAMMMMMMASAAMMAMXMMXSAMXMXAMXAAMSAAMASXMMSMAXXXSSMSAMSAMMAMXMMXAMXMSSSMASMMSSMMXMSMXMMMSXMMAMASAMXMAASAMXSXSAMASAAAXSMMMMXSMMMSAAMMMX',\n",
       " 'AXSMAMMMXMAMAXMASXMASAMAMXMMAMASXSSMSSMAMXSXSAMAAXSMSXXMMMAMMAMSMMMAAXSAMMXMAMXSAMAAAASXXXXSXMSXMXSMMMAMAMXXSSMAMAAXMXMMSAMXAXSXXXAAASMSMAAX',\n",
       " 'SXXAASAXASAMXAMXXAMXSASASMSSXMXSAAXAMAXXSMSMSAMSMSAAXMMAASXMSAMXAAXMMMMAMXASMMMSAMSSMMSAAMXMAXMASAXAMSASASMAMAMASMSMSXSMXMASXMXXXSSMXSAMXMSS',\n",
       " 'MAMSMSASMSASXAMAMAMAXXMXSMASMMMMMMMMMMXXAAXASXMAXSMSMAMSMSAMXMMSXMXSMSMSMSMSAXASAMXMXXXMXMASAMXMMMSAMSMSMSAXMXMMSAAAXAXMMAMAMXMMXMAXAMAMSMAA',\n",
       " 'MAMXAXAAASAXXAMXSSMMSSMASAMXMAAMASAXAXXXMMMXMASXXXAMXSMMMSAMXAAXAMASXSAXAAXSAMXSXXXXMSMSMSASASXXAMMAMXXXMMXSMAMXXMMMMAMSAMXMAMAAXXSSMMSMAMXM',\n",
       " 'SAMMAMMMMMAMSMXMAAAAXXMASAXSSSXSASMSMSMMXASASAMXMMXMAXAAASAMMMMSSMASAMSMXMAMAXMSAMMXAAAAAMAMAAMMSMSMMMSMASAMMAMASAMXSAMXSXMXMASMMMAAAAMSMSSM',\n",
       " 'SAMMMAMXXMXMXXAASXMMSXMASMMAAMXMASMSXAAAXASASAXXMMSMMSSMMSASAAMAAMAMXMXMXXSSSMASXMMASMXMMMAMXMXAMXAAAAAXXMASASXMSASMMAMAMMMXXXMAAMSSMMXAMAMS',\n",
       " 'SXMSAMXSXSMXMMXMMXAXXXSXXXXMXMAMXSAMSSSMMAMMMMMXAASAMAMXASASXSMMXMAMAXAMXMXAAMMMAXMAMXMSASASXXMMMSSSMSSSXSMMMMAXSAMASMMASASAMXSASAAAAXXAMASX',\n",
       " 'XXXMASMMASAASMSSSSMSMXMAMXMMMSMSAMAMMMMXAAXAAASXMAMXMXXMMMMMMXMSSSMSSSMSMSMSMMMSSMMMSAMSASASMSXAAMMMMAAAXAXAXSAMXXSMMAMSXMMXMASXMMSSMMSAMXSM',\n",
       " 'SMXSAMAMAMSMAAXAAXAAAAMAMAMXAAAMXSXMSASMSXSSMMXAMASXMMSAAASAMSAMXAAAAXAAAAAAXXMAAASAMXMSXMAMAMMMXXAAMMXMXMMMMSASMMSXXAMXXSXSMAMMMAXMAXAAAXXA',\n",
       " 'AXAMAXXMAMAMMMMMMMSMSXXASXSMSSSMMXAXSASXMXAMMMSXMASAAASMMMSAXAMXSSMMSMSMSMSXSXMAXXMAXMASMMAMAMXMASXMSSSXMXASXSAAAAMMMSSMASAMXAMAMMMMSSSMMSSS',\n",
       " 'SMMMXXAMXMMSMXAAXAXMAXSXMASAAXAMASXMMAMASMMSAMAAMXSMMMSAMMXMMSAMAAXXXMAXMAMXAXMASXSMMSASASMSXMAMMMAAAAAAXSASAMAMMXSAMAAMAMAMSMSXSMAXAXAAAXMM',\n",
       " 'XAXAXXSMMMAAAXSMSXMMAMXAMXMMMSMMXMAMMAMXMAASASMXMAXXAXMASMXSAMAMSXMXXXMSMMSAMMSAMXAXXXMSAMXXASASXSMMMSSMMSAMXMMXSASAMSMMAXAMAAAASMMMMSXMSSSX',\n",
       " 'SMMMSAMASMMMSXXAMXXMAMSSMMMAMMMMXSAMMSMMMMMSXMXAMXSMSXSAMMAMASXMAASAMSXSAAXAXMAMSXSMMMMMMMMSXMAAXAXXXXAMXMXMXAXAMMSSMAXSMSSXMMMSMAMMXSAMXAMS',\n",
       " 'SAAXMAMAMXAXMAMAMSXSMXMAASMMXAXMAXXSXMASXMAXMXSSSXSAMMMAXMASAMXSSXMASAAMMMSMMMMXSAAXMAMAXAAXXMXMSMMMXMAMXSAMMMMXSAMXSXXXMAMMASMMMAMSASAMMAMA',\n",
       " 'SMMSSXMASXXSMMMAMXAMXAMSMMASMMMMXSXMASAMAMMSXMAAXAMXMMSSMSASAMAMXMXMMMMMXMAMAAXAMSMMSSSSSMMSASMMAMAAASMMASXSAMSAMASASMSMMASXAXASXMSMASAMSMMM',\n",
       " 'MASAMAXXXXMSAMSXSMAMSXMMAXAMAMSMXAAMMMASMMMMMAMMMSMSXAAMAMASAMMMAMASAMASXSASMSMXXAMAAAAMXXSAMXMSASMSXSAMASASXSMASAMAXAAAMASMSXXMAMAXXMXMASAX',\n",
       " 'SXMASMMSMMASAMXAXXAMSMMMSMASAMAAXMAMXMXMXMAMXMXXXMASMMSMMSASXMXMAMAXAXASAMMMAAMXSASXMMMMMMSMAAXMAXAXASXMXSAMMXMAMMMSMMMXMASAMSSSSMMMAAXSXSXS',\n",
       " 'XXSAMMAAAMASMMMMMSSXSAMAAMXMMSSSMMAMXSMSASXXSXMASMMMXXXAAMXXASMSSSMSSMMSXMAMMMSXSMMAXAXASAMXSXSMAMSMMMSMMMAMXSMMXSAXAMXSAMXXMAXAAMXAMSMSAMMM',\n",
       " 'MMMMSMSSXMASMAAAMXMASXMSXMAXXAXAAXXSAAAMASMASXMAXAXMASMMXSXSAMXAAAAAMAXMASXSAAXMMMSSMMSMMSSXXMAMXXMAMAAXASXMXAAAAMMXAMXXASXXMXMMMMAMAXMMAMMX',\n",
       " 'AAASAMXAAMXXXXSXSAMXMAXASMSXMMSSMMXMXSSMAMMAMAMASMMMXXXAAMAMAXMMSMMMXSMSXMASMSMASAMAMAXAAXMASMMMSMSAMSMSMMMMSSMMSSSSMMSSSMMXSMSXASMMSMMXSXXS',\n",
       " 'SSSSXSMMXSMMMMMAMXXAMSMASMMAAAXXSXXMAXXMASMASXMAXAAXSMSSSSXSMMMAAMXSAMMXMMXSAAASMXSAMMSMSSMAMAAXMASXMMXSAMAAAAMAMAMAAAAMXAXAXAASAMXAMAXAMMMM',\n",
       " 'XMAXASMMAXAMXAXXXMSMSAMXMAMSMMSAMMSMXSAMXMMAMXMXSMMSXAAXXMAXMAMASXAMMASMXSAMXMSMAXXXMXAAXAMXMSMMSMMMAMAXXXMSSSMASMSSMMSASXMMXSMXXXMMSSMMSAAS',\n",
       " 'XMAMMMAMXSSMXMXAXMAMAMSSMAMXMXMXMAXXAMAMSSMMSAMASMMMMMMSSMMMSMSAMMXXSASAAMXSXXAMXMMSSSMSSMMSAMXXXAAXXMAMMSXMAXMXSMAAXAXMXXAAAMXMXSXXMXMAMXMX',\n",
       " 'XMAXXXMMMMXAMMASMMASMXXASXSMMAMAMMSMMSAMMAAXSXSASAAMXAXAXAAXXAMASXSMMASMMMMXMSXMASXAAXXMAMAXMAMXSXMSSMXSAAMMMMMXMXSMMXSMSSMMMMAXAMMMMAMASMSM',\n",
       " 'SSSSXSAAAMMMMMAXASAMXXSAMSAASASASMSXMAMXMSMMMXSMSMMMSSMMSMMXMMMMMMSXMAMAAXMMAAASASMSMSMSAMASMXMASXMAAXAMXSMASAMASAMASAAAAXAAMXAMXMAAXSSXSAAS',\n",
       " 'MAAAAMSAMXAAAXASMMMSMMMMSMMMSAMASXXAMMSSMMAASAMXSXMXXAAASASAAXAXMAMAMXSMMSAASMMMMSAAXAASXMASMSMAMAMSSMXSAMXAXAXASASAMSMMMSSMSAMSSSSXMMAMXMAS',\n",
       " 'MMMMMMMMMSXSXSMXASAAMAAXAAAMMXMXMAMMMAAAASXMMASAXAXMSMMMSASASXSSMASAMMMMAAMMAXXAXMXMXMXMXSAMXAMASAMAMXMAMSMSMSMXMAMXMMXAAMAAAMXAAAAXSMXSMMXX',\n",
       " 'XAAXAMXMASXMASXSSMSSSXXSSSMSAXMMSAMSAMXSMMMXSMMMSMMAAXAAMAMXMXMAXASXSAAMSSSSSMMSSSMSMSAAXMASMMMAMXMASAXAMXAXAXXASXMMAXMXSMMMMXMMSMMMSAASXMMM',\n",
       " 'SMSXMXAMMSAMMMAXMAMXMAAMAMXMASMAMMXSASAXAAXAMAAMAMMSXSMXSMMXMXXAMMSMMMMXAAMAASAXAMAAASMSMSSMAAMSSMSASMSSSMAMAMSASAMSXXMAMXSAMXXMAXAAMMMSAASX',\n",
       " 'MAMAMSXSASAMXMSMSXMAMMMMAAAMASMAXMXSAMXSSMMSSSMMAXXMMSMMSAASAMMAXXSAMSMMMXMSMMMSAMSMMMXAAMAXMXMXAMMXMMXAAMAMAMXXSAMAAASXMAXASXMSASMSMMXXMMAA',\n",
       " 'MAMAMAAMMSMMMAMXXAMSMSASXMSMASXAXSAMAMMMXAAXMAASMXMAAXAAMXMAAMXMSMMSMAASXSXXXMXMAMAMXSMMSSMSMMMSSMMMSSMSMMMSAMXAXAXMSMMAMSSXMAAMASXMAASMMMMM',\n",
       " 'MMSAMMXMXXAAAXSAMMMXASASAAXMASMXXMAMAMXAMMMSMAAAXAXMMSMSSMXSSMAXAAAAMXMMAAAMXAMXXMMMASAMAAXXAAXAMXSAAAAMXMASASAMSMMMMASMMMXMMMMMXMASMMMAMXXX',\n",
       " 'SMSXSMMSSMSASMMAMXAMXMAMMMXXXXAXSMMSMSMMMSAMXXMAXSMSAXAMXAXMAMXSMMSSXXXMXMMMSSMMSSXMASAMSMMSSMMMSASMMMMMSSXSXMXXAMSXXAMXAXAXXAAXAMASAMSSMMSS',\n",
       " 'SASMAXAXMAXAMXMAMXMXSAMXSXXXSMSSMSAAXAAXAMXSMSMSXXAMXMAMMSMSASMSXAXAMSMMSASXMAASASAMXSXMAXAMAXMXMASXXXXAAMXMXMASMSMAMSMSMSMSSSSMXMAXAMMASAAA',\n",
       " 'MAMMMMSSMSMSMAMXSXAAAAMAMMSXMAXAAASXSSSMXSAMXXAMAMXMXMAMAMXMASAMXMSAMXAAMXXAMSMMASXMAMXXMMMSAMSAMXMAAXMMXSXSAMXSXAMMMAAAAAMMMAXMXXXSSMXMMMSM',\n",
       " 'MAMMXMXAAXAXXXSAXMMSSSMAAASAMXMMMMMXAAMAAMASXMAMAAXSXSSXSAMMMMAXAMXXMSMSSMSSMAMMAMAMASMMXAXMAMSASAMAMSXSXSMSMXAMMXSMSMSMSMSXMASMMSMAMASXMAMA',\n",
       " 'MAMMASXMMMXMMXMMMSAAXXASMASAMSMXSASMMMMMMSXMMAAMXMMXAMXAXAXAXXSSMSASMXAXAAAMMAMMASXSMSAMSSSSSMSAMAMAXAASAMASXMAMXXXXAXMAMAMXMAMAAASMXAMAAAXX',\n",
       " 'SSXSASAXMASXSAAXAMMSSXMMSASXMAXAMAMAXXAAMXMMAXSSSMMXSMMMMASXSMMAAMASAMXSMMSSXMMSXMASMMAMAAXAAAMXMXSSSMMMAMAMMSMSMMMSXXSASASXMMSMXMSXMASXMXAM',\n",
       " 'SAAMAMAMMSXAASMMSSMMMMMAXMXXXSMSXSSSMSMMXAAXSXAMMAMAXAAXAMXAMASMMMSMXMAAXAXMASAMXMASASXMMMMSMMMSMXMAAXSSXMXSAMXAAAXMAXMASAMXMXAASMMMSXMXSXSM',\n",
       " 'MMMMSSXMXMMXMASAAAAAAAMMSSSMXXAAAMAMXSXSMMMAXMMASAMMSSMSSSSMXAMAXXAAAMXSMSMSAMAMXMXSMMXSXXAMXASAMAMSMMASAXAAXMSSSMSMMMMMMXMASMMMMAAMSAMASMAS',\n",
       " 'SSXXAAASASAAXMXMXXMMXMSAAAAMMMMMMMAMASAMXSMXMAXASXMXXXAXXAAMMSXMMAMXMAXXAMAMXXAMMAMXAMASXMASMMSASMMAAXMSXMASAXMAMMAASMXAAASXSAASMMMXSAMAXSAM',\n",
       " 'XAMMMSXMASXMSMMSSSSMSAMAMSMMAAAXXMAMXMAMAXAASXMMMMXSMMMMMMMMAMAMXXXSXXAMAMXMSXMXXAAXMMASAMAMAMSAMXMSMMXSXAMXMAXMXXSXMXSXSMSASMMSAXMASXMMMMMS',\n",
       " 'XAXXMAMMAMXMXMAXXAXAAMSAMXXSXSXSXSXMAMAMXMMMSAAAMSMSAAAAAAAMASAMASAMXMSSXMAMXASASXSSXMXSXMMXAMMXMXMAAMMXMMMSMSSSMMMAMAMMAAXXMAMSMMMMSAMXMMSX',\n",
       " 'SMMMSAXMASXSAMSSMMMMMXSASXMSAAASAAASASMSMSSMSMMMMAAXXMXSSSMSAXAMXXASXSAMAXMMSMMASAAXXXAMMMSSMSXMMASMSMXASAAAAXMASAXAMAMAMMMMSAMXXMAXSAAAXMAS',\n",
       " 'XXAAXAMXXSAMXXXMXAAAAXXMMAAMMMMMAMAMXMAAMAAAXXSSSMSMSMXMXMMMMSMMMXMAMMASAMSMSAMXMMMMXMXSAAXAAXMASAMAAASASMXMMMMAMSSSSMSXSAXXXXXMXMXXMASXSXMM',\n",
       " 'MMMSSXSXXMXMMMSSSMSSSSSSSMXXXMXXSSMSSMSMMSMMSMXAAAXAAMAMXMAXAAAAMAAAMSMMMXSAMXSSMXAAXMASMXSMMMMXMAMSMMMXXAMSXSMXSAXMAMAASXSMMMSAMXSMSAXAMMXA',\n",
       " 'ASAMAMXMMAXXAXXAAAXAAMAAXAXSMMSMMAXAAAMXMXMASAMSMMMSMSSSXXAMSSSSXMXAMAAAMXMMMAMAASASMMASXASAMASXMXMXAXSXMSMXAMAMMXSAMAMXSASMAAMSASMAMASMXAMX',\n",
       " 'SMMMASAMMSMSSSMSMMMMMMAMMXMAAXXAXMMSSMMASAMASXXXMXXXAAXMMXAXAAAMXXXSSSSSSMAXMAXMMMXMXMASMMSAMSAMXASMMMMMAMAMXMAMMSMMSXXAMAMMSSSMSXMXMXXMASMS',\n",
       " 'MAXSAMMMAAMAAXAMXAXASXMXAXAXSASMMXAAAAMAMASASAMXSSMMMMSMMMXMMMMMMMMMAXAAAXXMSSSSSSXSXMXSXMMMMAASAMXAASXAAMMMXSXSXSAAXAMXMAMMAXMMXXMAMSASMXAX',\n",
       " 'SAMMSMMMSSMMMMMMMSSMXASMMMSAMMAAMMSSSMMSSXMMSAMAXMAXAAAAAMAMXMXMXAAMMMMXMMSMMAAMXMXMASAMAMSAXSXMAXMMMMAMXSMAASXSASMMSXMSSSSMMSMASXSXXSAMAMMM',\n",
       " 'MASXMMSAMAAAXSASXMAXSXMAAAMXMMSMMMMMMMAAAMMXSAMSSMSXMMSXMSASAMAMSSXSAMXSXMAAMMMMAMAXXMAMAMSAMXAMASMSSMSMMSMMXSAMAMAMXXXAAXXAAXMASMMMMMMMAAXA',\n",
       " 'SXMXAAMXSSMMMXASASXMMSSSMMSAXXAAAXMASMMSSXXASAMAAMXXMMXXASAMMMAXXAASAXAAAXMXMAAXASXSMSSMSXMMMSAMASMASAAMAMASXMAMMSXMXSMMMMSMSSMASAMAAAMMAXAX',\n",
       " 'XAMSMMSAXAMXSMMMMAMXAMMASXXXMMXSMMSMSXXAMMSXXAMXSMMMMAXMMMSMXSSSMMMSMMMSSMMMMSMSAMASXAXAMXSXAMAMXXMASMMMMSAMAMXSXMASXMAMAASXMAMXSMSSSMSXMAXM',\n",
       " 'XMMAAAXMSXSAXAXMAXXMASMASXMSSSMXMAXAXMMASAMMSMMXMAMSAXSMSAAMXMXMXAASASMAXAAMMAMMXSAMMSMSMAMMMSMXSXMMSAXXXMAMMMAMAXAMAAAMSXSASMMMMAXAAAAMMSAA',\n",
       " 'SMSSSMSXSAMMSSMSMMSMMMMAXAXAAAMMSXSAMXSAMXMAASXXSAMAAXSAASMSAMSSSMMSAMMAMSMSAMMAAMXMXXAAMAMAXAAASXMAXAMSXMSSMMXSSMSXSMMMMASAMXMAMXMSMMMSAXAS',\n",
       " 'AMAMAMMXMXMAXAAMMMSAAXMASMMMSMMXMAAXAXMXXXMSSSSMMMMMSMMAMMXSXSAAAXMMMMMXMMSMAXMMXSAMXMSMSSSSSMMMSAMXMSMSAAAAXSAMXAAAXASAMMMXMASXSMAAMXAMMXAM',\n",
       " 'MMXSAMAASAMSSMMMAAMMMXMXMAAAXXXAMMMMSSMSMSAMAMXMASXXMAASXMASXMMSMMXAXMXMAXAXMXXAAAMXAMAXXAAXXXAXSAMXXMASXMMSMMASMSMSMASMSAMXXMAAXASMSMSSSMMM',\n",
       " 'XXAXAXSXSMSMAMASMMSASXSMSSMMSMSMXXAXXMAAAMAMAMASXSASXSXMAXAMMSMMAXSXSMSMSMMMSMMMXSXMXSXSMMMMMMMMMAXSMMAMASXMAXXMAXAAMXMASMMMSMMMMXXAAAAAMAAA',\n",
       " 'SMSSSMMAMXAXAMMSAMMAMAMXAXXMAAAMXSSSMMMMSMXXAMXMAMASAAXMMMXXXAAMAMAXMASAMAXAAMSSMMXMAMXXMAMXXASASXMXSMASAMASXMSMXMMMXXMASXMAAAAXSAMMMXMMSSMS',\n",
       " 'XAAAXAXXMXMMSMMMAMMSMSXMASMSMSSSMAAAAAXXMMMSSSMSSMAMMMXAAMXSSXSMXSMMMXMAMSMSXSAAXAMMAMXMASXSSMSASAXMAMAMASAMXXMAMMMSMMSAMAMSSSMSMASXMMXXXAXX',\n",
       " 'MMMSMXMAXXMAXAXSXMAMAMXSAMXAMAAAMMMMSXMMMAAAMMXAMMXMXXXMASAXMAXMXMAMXMMXMXAXXMMSMMSSMSSXAMXAAAMXMASMMMMSAMXMAASMMSAAAASASMMMXMMAXMMAASXMSMMM',\n",
       " 'AMXXMASMMSMASAMXAMASAMAMASXMMMSXMXAXXAMSAMMSSMMMSMSMSAMSASMAMSXMAXAMXXMXAMMMMSAMAMAAMAMMXSMSMMMMSMSXMXAAMASASAMXASXMMMSAMXAMAXSASXMSMMAAAMAX',\n",
       " 'XSAMXMAMAAMMMMAMSMASAMMSAMAAXAXXMMMMMMMSAMXMAMMMAMMMMAXMAXXAXMASAMSMXASMXAAAAMASMMSSMASAMXAXAAAAAXSASMMSMAAMMAXMASMMSAMAMSXSAAMASXMASXMMMSSS',\n",
       " 'ASAMXSAMSSSMAXMMXXMSXMXMASMXMASASXSAASASAMASAMASASAXMMMMXMXXSSMMSSXAMSXMSSMXMXAMAMMAXXSAMXSSXMMSSSSMMXMAMXSXSAMXSXMAMASMMAMMMMMXMXSAMXXXXAAX',\n",
       " 'MXMAMMXMAAAMMMSAMMAMXXASMMXSXXSAMASMSMASXMXSMSXSASXSXMSSMSAAXASAMXMSMXAMAAAXSMMSSMMAMMSAMXMAXXAAMAXXXXXASMMASMMXMAMXSMMMMXXASMMMSXMXSMMSMSSX',\n",
       " 'XAMSASMMMMMMAAMAMSMSMSMMAMMMXMMXMXMXMMXMMMMMMMMMXMAMXAASAMXMSAMMMSAAMSMMSSMMSAAAXMMAXXSXMMMAMMMSSSMMMSXMSAMXMAXAMXMMXMAXXXSASAAASASASAAXAAXX',\n",
       " 'ASXXXMAMAMXMMMMAMAMAAMXSAMAMMMMXSAMXMMMMAAAXAXAMAMXMMMASMMXMMMMAAXAMMXAAMXMASMMMSSSMSAMXMAMXXXMXXMAMASXMMXMXSSMMSMSMMSXSAAMASMMXSAMASMMMMMSX',\n",
       " 'AMAMMSAMASAAXSXSSSSMSSMSXSAMXAAMMAAAAAASMSSSMSSSSSXXXMXMAMMMMAMMSSSXMMXMSXMXXXSAMXAXMAMASXSSMSSXMMSMASAMXASXMAXXAMAAMAMMAMMXMXMAMAMXMXAASMXM',\n",
       " 'MMAXASASAMMSMSAAAXXXXXAXASASMMMXSAMXSSMXAXAAXXAAMAMSXMAMAMAXXMSXMXMAMSAXXMSMAMXMXMSMSXMASAAMAAMAMSMMXSAMSMSXXSMSXSSSMAXMSSSMSAMXSXMXMSMSAMAS',\n",
       " 'XXMMMMXMASAXAMMMMMMMAMMMXMXMAAAAASAMXMMMSMXMAMMMMMAXAMAXSSSSMMMMMXSAMMXMAAAMAMAMAMAASXSXMMMMMMSMMAXSAXMMMXMAAMAMAXMAMXXXAAAASXSMXXXAAAMXASAS',\n",
       " 'XASMXXXMXAMXXXAAXMSAXAAXMSMSSMMSSMXSAMAXAAASAMAAAXXXSMMSMAAMAAAAMAMMXAAXMSXMASASMSMSMAMMSXSXAMAMAMSMAXSAMAMXMMAMSMSSMSAMXSMMMAMAMSSMSSMSAMAS',\n",
       " 'SXAASMSMSSXAMSXSAAAXSSMMSAAXAXXXXAXSXSASMSMSASXSXSXAAMXAMMMSMMSASXSASMSSMAMSMSXXAXMAMAMASASMMSASXXXMMMSAMSASXSAMAAAAAXXMXXXXMMMSMAAXAAAMAMXM',\n",
       " 'SMMAMAAMAMXMAXAXMAMMAAAXXAXMMXMMMSMMAAAMXMXSXMAMASMXMASXSMXAXAXAMXMASAAXMAXAMMMMMMMAMAXXMMMAXMASXSXXXAXMMMAXASXSMSMMSMSMAMXMSMMMMMSMMSMSAMXM',\n",
       " 'MASAMXMMSSSSSSSMSMXSSSMMSSMSXAAMAXAMXMSMXMASAMXMAMAAXMMAMMSMSXMXSAMXMMMSSSMXMAAAAASXSMXSAXSXMMXMAMMSMSSSMMSMXMAAMAXXXAAMASMMAAXSAMXMXAASMSAS',\n",
       " 'SAMAXMXAMAAAAAMAAMMMAAXAAAASMMSXASMMMXXXMMAXAMAMSSSXXXMAMXAAXXMAMXMAXXXMAMASMSSSMXXXAAAXMASMSAMMSMASAAAAMAAMAMXMXAXSMSMSASXSSSMAXMXASMXMAXXS',\n",
       " 'MASASMMMSMSMMMMSMSAMXMMSSMMMASAMXSMASMSASMMSSMSSMAAASXSASMMSMAMASXSSSXSMSMAMAMAMXSXSSMMSXXXAXAMAAMMSSMSMMSXSASASMMMXAMXSMMMMAMASXMMMXXMMSMMM',\n",
       " 'SXMAAMAMXAXAXXAXXSXSXSXAXAASXMAMAMXASAMAMXAAAXXAMMMMXAMXXMAMMAMXXAAAAASAAMMMMMAXXSAXAAMMMMMSMXMASMXMAMMXAAXXMSMXAAAMAMXMASAMAMSXAAAXSSMAASAM',\n",
       " 'XXMSMSASMMMSSMMMMXASXMMSSSMSASXMASMMSXMSMMMSSMSXMSMSMSMAMMSMMSMSMMMMMMMAMMSAASMMAMMMSAMXAAXAXMAMMMMSAMMMSSMMMMMSSMSMSMASAMMSMSMSMMSAMXMASASX',\n",
       " 'SXAAASXSASAAXAASAMXMAXAMXXAXAXMSASAMXAMMAXAMAAMXSAAAAAXASAAASMAAXAXSAMXAMASMMAAMXMAXXASXSSSXSAXSAMXSSMAAAXAASAAAAMXAASAMXSAAXAAAMSXXAXAMXMXM',\n",
       " 'SASMMMASMMMSSSMSSXMSAMXSMMXMXMAMSSMMSXMSXMMSMMMSSMSMSMSXSXSSMMSMSSSXMASMMXSXSSXMXSXMSAMXMAMXAMSAMXXSXSMSSSSMSMSSMMMSMSXXSMMSSMSMXSAMXMASMXSX']"
      ]
     },
     "execution_count": 8,
     "metadata": {},
     "output_type": "execute_result"
    }
   ],
   "execution_count": 8
  },
  {
   "cell_type": "markdown",
   "id": "5ef7de57be99988c",
   "metadata": {},
   "source": "## Part 1"
  },
  {
   "cell_type": "code",
   "id": "6e3f966753d0578a",
   "metadata": {
    "ExecuteTime": {
     "end_time": "2025-08-04T02:18:20.320559Z",
     "start_time": "2025-08-04T02:18:20.307559Z"
    }
   },
   "source": [
    "grid = grid_day4"
   ],
   "outputs": [],
   "execution_count": 9
  },
  {
   "cell_type": "code",
   "id": "d932256fb84d2c06",
   "metadata": {
    "ExecuteTime": {
     "end_time": "2025-08-04T02:18:20.351557Z",
     "start_time": "2025-08-04T02:18:20.332560Z"
    }
   },
   "source": [
    "def pad_grid(grid: list[str], letters: tuple[str, ...]) -> list[str]:\n",
    "    grid_width = len(grid[0])\n",
    "\n",
    "    padding_size = len(letters) - 1\n",
    "\n",
    "    padding_top_bottom = [\n",
    "        \"#\" * (grid_width + 2 * padding_size) for _ in range(padding_size)\n",
    "    ]\n",
    "    padding_left_right = \"#\" * padding_size\n",
    "\n",
    "    padded_grid = (\n",
    "        padding_top_bottom\n",
    "        + [padding_left_right + line + padding_left_right for line in grid]\n",
    "        + padding_top_bottom\n",
    "    )\n",
    "\n",
    "    return padded_grid"
   ],
   "outputs": [],
   "execution_count": 10
  },
  {
   "cell_type": "code",
   "id": "3748ebe9b7eabbed",
   "metadata": {
    "ExecuteTime": {
     "end_time": "2025-08-04T02:18:20.397558Z",
     "start_time": "2025-08-04T02:18:20.383566Z"
    }
   },
   "source": [
    "def check_cell(\n",
    "    x: int,\n",
    "    y: int,\n",
    "    grid: list[str],\n",
    "    letters: tuple[str, ...],\n",
    "    moves: tuple[tuple[int, int], ...],\n",
    ") -> int:\n",
    "    total = 0\n",
    "\n",
    "    if grid[x][y] != letters[0]:\n",
    "        return total\n",
    "\n",
    "    for move in moves:\n",
    "        new_x = x\n",
    "        new_y = y\n",
    "        for i in range(1, len(letters)):\n",
    "            new_x += move[0]\n",
    "            new_y += move[1]\n",
    "\n",
    "            if grid[new_x][new_y] != letters[i]:\n",
    "                break\n",
    "            if i == len(letters) - 1:\n",
    "                total += 1\n",
    "\n",
    "    return total"
   ],
   "outputs": [],
   "execution_count": 11
  },
  {
   "cell_type": "code",
   "id": "af82f3704d67315b",
   "metadata": {
    "ExecuteTime": {
     "end_time": "2025-08-04T02:18:20.427559Z",
     "start_time": "2025-08-04T02:18:20.414559Z"
    }
   },
   "source": [
    "def solve_grid(\n",
    "    grid: list[str], letters: tuple[str, ...], moves: tuple[tuple[int, int], ...]\n",
    ") -> int:\n",
    "    padding_size = len(letters) - 1\n",
    "    padded_grid = pad_grid(grid, letters)\n",
    "\n",
    "    grid_height = len(grid)\n",
    "    grid_width = len(grid[0])\n",
    "\n",
    "    total = 0\n",
    "\n",
    "    for i in range(padding_size, grid_height + padding_size):\n",
    "        for j in range(padding_size, grid_width + padding_size):\n",
    "            total += check_cell(i, j, padded_grid, letters, moves)\n",
    "    return total"
   ],
   "outputs": [],
   "execution_count": 12
  },
  {
   "cell_type": "code",
   "id": "30861fe448290e85",
   "metadata": {
    "ExecuteTime": {
     "end_time": "2025-08-04T02:18:20.475558Z",
     "start_time": "2025-08-04T02:18:20.436559Z"
    }
   },
   "source": [
    "total = solve_grid(grid, letters, moves)"
   ],
   "outputs": [],
   "execution_count": 13
  },
  {
   "cell_type": "code",
   "id": "d0a06168e6a64f7c",
   "metadata": {
    "ExecuteTime": {
     "end_time": "2025-08-04T02:18:20.505560Z",
     "start_time": "2025-08-04T02:18:20.492560Z"
    }
   },
   "source": [
    "total"
   ],
   "outputs": [
    {
     "data": {
      "text/plain": [
       "2718"
      ]
     },
     "execution_count": 14,
     "metadata": {},
     "output_type": "execute_result"
    }
   ],
   "execution_count": 14
  },
  {
   "cell_type": "markdown",
   "id": "f12bbf3db91e270b",
   "metadata": {},
   "source": "Answer is 2718"
  },
  {
   "cell_type": "markdown",
   "id": "743e9a74f0baa3b4",
   "metadata": {},
   "source": "## Part 2"
  },
  {
   "cell_type": "code",
   "id": "3e98693d484756ce",
   "metadata": {
    "ExecuteTime": {
     "end_time": "2025-08-04T02:18:20.537558Z",
     "start_time": "2025-08-04T02:18:20.525558Z"
    }
   },
   "source": "grid_example",
   "outputs": [
    {
     "data": {
      "text/plain": [
       "['MMMSXXMASM',\n",
       " 'MSAMXMSMSA',\n",
       " 'AMXSXMAAMM',\n",
       " 'MSAMASMSMX',\n",
       " 'XMASAMXAMM',\n",
       " 'XXAMMXXAMA',\n",
       " 'SMSMSASXSS',\n",
       " 'SAXAMASAAA',\n",
       " 'MAMMMXMMMM',\n",
       " 'MXMXAXMASX']"
      ]
     },
     "execution_count": 15,
     "metadata": {},
     "output_type": "execute_result"
    }
   ],
   "execution_count": 15
  },
  {
   "cell_type": "code",
   "id": "874f5740867437ef",
   "metadata": {
    "ExecuteTime": {
     "end_time": "2025-08-04T02:18:30.252557Z",
     "start_time": "2025-08-04T02:18:30.235559Z"
    }
   },
   "source": "pad_grid(grid_example, letters)",
   "outputs": [
    {
     "data": {
      "text/plain": [
       "['################',\n",
       " '################',\n",
       " '################',\n",
       " '###MMMSXXMASM###',\n",
       " '###MSAMXMSMSA###',\n",
       " '###AMXSXMAAMM###',\n",
       " '###MSAMASMSMX###',\n",
       " '###XMASAMXAMM###',\n",
       " '###XXAMMXXAMA###',\n",
       " '###SMSMSASXSS###',\n",
       " '###SAXAMASAAA###',\n",
       " '###MAMMMXMMMM###',\n",
       " '###MXMXAXMASX###',\n",
       " '################',\n",
       " '################',\n",
       " '################']"
      ]
     },
     "execution_count": 16,
     "metadata": {},
     "output_type": "execute_result"
    }
   ],
   "execution_count": 16
  },
  {
   "cell_type": "code",
   "id": "2ddd96414d52e261",
   "metadata": {
    "ExecuteTime": {
     "end_time": "2025-08-04T02:29:56.392357Z",
     "start_time": "2025-08-04T02:29:56.378361Z"
    }
   },
   "source": [
    "def check_mas_cross(x: int, y: int, grid: list[str]) -> bool:\n",
    "    center_letter = \"A\"\n",
    "    diagonal_letters = ((\"M\", \"S\"), (\"S\", \"M\"))\n",
    "\n",
    "    if grid[x][y] != center_letter:\n",
    "        return False\n",
    "\n",
    "    top_left = grid[x-1][y-1]\n",
    "    top_right = grid[x-1][y+1]\n",
    "    bottom_left = grid[x+1][y-1]\n",
    "    bottom_right = grid[x+1][y+1]\n",
    "\n",
    "    diagonal = False\n",
    "    antidiagonal = False\n",
    "\n",
    "    if (top_left, bottom_right) in diagonal_letters:\n",
    "        diagonal = True\n",
    "    if (top_right, bottom_left) in diagonal_letters:\n",
    "        antidiagonal = True\n",
    "\n",
    "    # if diagonal and antidiagonal:\n",
    "    #     print(f\"{top_left}___{top_right}\")\n",
    "    #     print(f\"__{grid[x][y]}__\")\n",
    "    #     print(f\"{bottom_left}___{bottom_right}\")\n",
    "\n",
    "    return diagonal and antidiagonal"
   ],
   "outputs": [],
   "execution_count": 46
  },
  {
   "metadata": {
    "ExecuteTime": {
     "end_time": "2025-08-04T02:29:56.656154Z",
     "start_time": "2025-08-04T02:29:56.643155Z"
    }
   },
   "cell_type": "code",
   "source": "check_mas_cross(2 + 3, 3 + 3, pad_grid(grid_example, letters))",
   "id": "6ceb68d4f96d41dc",
   "outputs": [
    {
     "data": {
      "text/plain": [
       "False"
      ]
     },
     "execution_count": 47,
     "metadata": {},
     "output_type": "execute_result"
    }
   ],
   "execution_count": 47
  },
  {
   "cell_type": "code",
   "id": "a3f5679a6eada638",
   "metadata": {
    "ExecuteTime": {
     "end_time": "2025-08-04T02:29:56.828421Z",
     "start_time": "2025-08-04T02:29:56.815417Z"
    }
   },
   "source": "(\"S\", \"M\") in ((\"M\", \"S\"), (\"S\", \"M\"))",
   "outputs": [
    {
     "data": {
      "text/plain": [
       "True"
      ]
     },
     "execution_count": 48,
     "metadata": {},
     "output_type": "execute_result"
    }
   ],
   "execution_count": 48
  },
  {
   "cell_type": "code",
   "id": "93d6bbba02265bb8",
   "metadata": {
    "ExecuteTime": {
     "end_time": "2025-08-04T02:29:57.030418Z",
     "start_time": "2025-08-04T02:29:57.016418Z"
    }
   },
   "source": [
    "def solve_grid_part2(\n",
    "    grid: list[str]\n",
    ") -> int:\n",
    "    padding_size = len(letters) - 1\n",
    "    padded_grid = pad_grid(grid, letters)\n",
    "\n",
    "    grid_height = len(grid)\n",
    "    grid_width = len(grid[0])\n",
    "\n",
    "    total = 0\n",
    "\n",
    "    for i in range(padding_size, grid_height + padding_size):\n",
    "        for j in range(padding_size, grid_width + padding_size):\n",
    "            if check_mas_cross(i, j, padded_grid):\n",
    "                total += 1\n",
    "    return total"
   ],
   "outputs": [],
   "execution_count": 49
  },
  {
   "cell_type": "code",
   "id": "4292e71780d46d6",
   "metadata": {
    "ExecuteTime": {
     "end_time": "2025-08-04T02:29:58.102492Z",
     "start_time": "2025-08-04T02:29:58.090491Z"
    }
   },
   "source": "solve_grid_part2(grid_example)",
   "outputs": [
    {
     "data": {
      "text/plain": [
       "9"
      ]
     },
     "execution_count": 50,
     "metadata": {},
     "output_type": "execute_result"
    }
   ],
   "execution_count": 50
  },
  {
   "cell_type": "code",
   "id": "6f0a3f6e09f3be49",
   "metadata": {
    "ExecuteTime": {
     "end_time": "2025-08-04T02:30:03.410761Z",
     "start_time": "2025-08-04T02:30:03.399761Z"
    }
   },
   "source": "solve_grid_part2(grid_day4)",
   "outputs": [
    {
     "data": {
      "text/plain": [
       "2046"
      ]
     },
     "execution_count": 51,
     "metadata": {},
     "output_type": "execute_result"
    }
   ],
   "execution_count": 51
  },
  {
   "cell_type": "markdown",
   "id": "81d5a40b28e5b732",
   "metadata": {},
   "source": "Answer is 2046"
  },
  {
   "cell_type": "code",
   "execution_count": null,
   "id": "b2511549c8c1f187",
   "metadata": {},
   "outputs": [],
   "source": []
  }
 ],
 "metadata": {
  "kernelspec": {
   "display_name": "Python 3",
   "language": "python",
   "name": "python3"
  },
  "language_info": {
   "codemirror_mode": {
    "name": "ipython",
    "version": 2
   },
   "file_extension": ".py",
   "mimetype": "text/x-python",
   "name": "python",
   "nbconvert_exporter": "python",
   "pygments_lexer": "ipython2",
   "version": "2.7.6"
  }
 },
 "nbformat": 4,
 "nbformat_minor": 5
}
