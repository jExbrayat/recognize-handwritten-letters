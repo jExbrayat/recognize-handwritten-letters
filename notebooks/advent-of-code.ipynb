{
 "cells": [
  {
   "cell_type": "code",
   "execution_count": 162,
   "id": "initial_id",
   "metadata": {
    "ExecuteTime": {
     "end_time": "2025-08-03T00:54:50.978514Z",
     "start_time": "2025-08-03T00:54:49.818083Z"
    },
    "collapsed": true
   },
   "outputs": [],
   "source": [
    "import pandas as pd\n",
    "import numpy as np"
   ]
  },
  {
   "cell_type": "markdown",
   "id": "a5e834c89f7354e2",
   "metadata": {},
   "source": "# Day 1"
  },
  {
   "cell_type": "markdown",
   "id": "dff1abad329ad65f",
   "metadata": {},
   "source": "## Read data"
  },
  {
   "cell_type": "code",
   "execution_count": 163,
   "id": "48226e9d6ab1bad9",
   "metadata": {
    "ExecuteTime": {
     "end_time": "2025-08-03T00:54:50.993426Z",
     "start_time": "2025-08-03T00:54:50.981517Z"
    }
   },
   "outputs": [],
   "source": [
    "def read_data_day1(path: str) -> pd.DataFrame:\n",
    "    df = pd.read_csv(path, sep=\"   \", header=None, engine=\"python\")\n",
    "    return df"
   ]
  },
  {
   "cell_type": "code",
   "execution_count": 164,
   "id": "bf487d7796747d89",
   "metadata": {
    "ExecuteTime": {
     "end_time": "2025-08-03T00:54:51.023414Z",
     "start_time": "2025-08-03T00:54:51.009414Z"
    }
   },
   "outputs": [],
   "source": [
    "data_path = \"data/advent-of-code/day1.txt\"\n",
    "data_path_example = \"data/advent-of-code/day1-example.txt\""
   ]
  },
  {
   "cell_type": "code",
   "execution_count": 165,
   "id": "b2c3569a33c6438a",
   "metadata": {
    "ExecuteTime": {
     "end_time": "2025-08-03T00:54:51.069858Z",
     "start_time": "2025-08-03T00:54:51.039416Z"
    }
   },
   "outputs": [],
   "source": [
    "df_day1 = read_data_day1(data_path)\n",
    "df_example_day1 = read_data_day1(data_path_example)"
   ]
  },
  {
   "cell_type": "markdown",
   "id": "a6b15377b38efb08",
   "metadata": {},
   "source": "## Part 1"
  },
  {
   "cell_type": "code",
   "execution_count": 166,
   "id": "10a87a0aa830e687",
   "metadata": {
    "ExecuteTime": {
     "end_time": "2025-08-03T00:54:51.101298Z",
     "start_time": "2025-08-03T00:54:51.086976Z"
    }
   },
   "outputs": [],
   "source": [
    "def solve_day1_part1(df: pd.DataFrame) -> int:\n",
    "    sorted1 = df[0].sort_values().reset_index(drop=True)\n",
    "    sorted2 = df[1].sort_values().reset_index(drop=True)\n",
    "    return np.sum(np.abs(sorted1 - sorted2))"
   ]
  },
  {
   "cell_type": "code",
   "execution_count": 167,
   "id": "ea346c0d4a1176bb",
   "metadata": {
    "ExecuteTime": {
     "end_time": "2025-08-03T00:54:51.132299Z",
     "start_time": "2025-08-03T00:54:51.118300Z"
    }
   },
   "outputs": [
    {
     "data": {
      "text/plain": [
       "np.int64(11)"
      ]
     },
     "execution_count": 167,
     "metadata": {},
     "output_type": "execute_result"
    }
   ],
   "source": [
    "solve_day1_part1(df_example_day1)"
   ]
  },
  {
   "cell_type": "code",
   "execution_count": 168,
   "id": "e5541da1f6453c21",
   "metadata": {
    "ExecuteTime": {
     "end_time": "2025-08-03T00:54:51.163298Z",
     "start_time": "2025-08-03T00:54:51.149302Z"
    }
   },
   "outputs": [
    {
     "data": {
      "text/plain": [
       "np.int64(2970687)"
      ]
     },
     "execution_count": 168,
     "metadata": {},
     "output_type": "execute_result"
    }
   ],
   "source": [
    "solve_day1_part1(df_day1)"
   ]
  },
  {
   "cell_type": "markdown",
   "id": "81fd2d021722cd85",
   "metadata": {},
   "source": "Answer is 2970687"
  },
  {
   "cell_type": "markdown",
   "id": "ed7140cec51b736a",
   "metadata": {},
   "source": "## Part 2"
  },
  {
   "cell_type": "code",
   "execution_count": 169,
   "id": "452c55a6eab2685c",
   "metadata": {
    "ExecuteTime": {
     "end_time": "2025-08-03T00:54:51.195328Z",
     "start_time": "2025-08-03T00:54:51.180315Z"
    }
   },
   "outputs": [],
   "source": [
    "from collections import defaultdict"
   ]
  },
  {
   "cell_type": "code",
   "execution_count": 170,
   "id": "4ed5adf6521f7028",
   "metadata": {
    "ExecuteTime": {
     "end_time": "2025-08-03T00:54:51.227416Z",
     "start_time": "2025-08-03T00:54:51.212432Z"
    }
   },
   "outputs": [],
   "source": [
    "def solve_day1_part2(df: pd.DataFrame) -> int:\n",
    "    col1 = df[0]\n",
    "    col2 = df[1]\n",
    "    nb_occurrences: defaultdict[int, int] = defaultdict(int)\n",
    "\n",
    "    for number in col2:\n",
    "        nb_occurrences[number] += 1\n",
    "\n",
    "    similarity_score = 0\n",
    "    for number in col1:\n",
    "        similarity_score += nb_occurrences[number] * number\n",
    "\n",
    "    return similarity_score"
   ]
  },
  {
   "cell_type": "code",
   "execution_count": 171,
   "id": "62ac280961c383ad",
   "metadata": {
    "ExecuteTime": {
     "end_time": "2025-08-03T00:54:51.257420Z",
     "start_time": "2025-08-03T00:54:51.243416Z"
    }
   },
   "outputs": [
    {
     "data": {
      "text/plain": [
       "31"
      ]
     },
     "execution_count": 171,
     "metadata": {},
     "output_type": "execute_result"
    }
   ],
   "source": [
    "solve_day1_part2(df_example_day1)"
   ]
  },
  {
   "cell_type": "code",
   "execution_count": 172,
   "id": "d38ee7a0999f1b0e",
   "metadata": {
    "ExecuteTime": {
     "end_time": "2025-08-03T00:54:51.289420Z",
     "start_time": "2025-08-03T00:54:51.274418Z"
    }
   },
   "outputs": [
    {
     "data": {
      "text/plain": [
       "23963899"
      ]
     },
     "execution_count": 172,
     "metadata": {},
     "output_type": "execute_result"
    }
   ],
   "source": [
    "solve_day1_part2(df_day1)"
   ]
  },
  {
   "cell_type": "markdown",
   "id": "3635d6e6e3557949",
   "metadata": {},
   "source": "Answer is 23963899"
  },
  {
   "cell_type": "markdown",
   "id": "fea2f4329ef0dd75",
   "metadata": {},
   "source": "# Day 2"
  },
  {
   "cell_type": "markdown",
   "id": "b773564724090c4b",
   "metadata": {},
   "source": "## Read data"
  },
  {
   "cell_type": "code",
   "id": "ce74c2f181e132c8",
   "metadata": {
    "ExecuteTime": {
     "end_time": "2025-08-04T02:35:01.474898Z",
     "start_time": "2025-08-04T02:35:01.460908Z"
    }
   },
   "source": [
    "def read_data_day2(path: str) -> list[list[int]]:\n",
    "    reports = []\n",
    "    with open(path, mode=\"r\") as file:\n",
    "        for line in file.readlines():\n",
    "            report = list(map(int, line.split()))\n",
    "            reports.append(report)\n",
    "\n",
    "    return reports"
   ],
   "outputs": [],
   "execution_count": 52
  },
  {
   "cell_type": "code",
   "id": "8fe15731c891e4d6",
   "metadata": {
    "ExecuteTime": {
     "end_time": "2025-08-04T02:35:01.722764Z",
     "start_time": "2025-08-04T02:35:01.708766Z"
    }
   },
   "source": [
    "example_day2 = read_data_day2(\"data/advent-of-code/day2-example.txt\")"
   ],
   "outputs": [],
   "execution_count": 53
  },
  {
   "cell_type": "code",
   "id": "3c65f51495944b2d",
   "metadata": {
    "ExecuteTime": {
     "end_time": "2025-08-04T02:35:01.910777Z",
     "start_time": "2025-08-04T02:35:01.897776Z"
    }
   },
   "source": [
    "day2_reports = read_data_day2(\"data/advent-of-code/day2.txt\")"
   ],
   "outputs": [],
   "execution_count": 54
  },
  {
   "cell_type": "markdown",
   "id": "320e169e3de0ead6",
   "metadata": {},
   "source": "## Part 1"
  },
  {
   "cell_type": "code",
   "id": "8980db39ff5deb05",
   "metadata": {
    "ExecuteTime": {
     "end_time": "2025-08-04T02:35:02.331776Z",
     "start_time": "2025-08-04T02:35:02.322778Z"
    }
   },
   "source": [
    "def solve_one_report(report: list[int]) -> bool:\n",
    "    safe = True\n",
    "    increasing = report[0] < report[1]\n",
    "\n",
    "    for i in range(len(report) - 1):\n",
    "        current_level = report[i]\n",
    "        next_level = report[i + 1]\n",
    "\n",
    "        if increasing:\n",
    "            if next_level <= current_level or next_level > current_level + 3:\n",
    "                safe = False\n",
    "        else:\n",
    "            if next_level >= current_level or next_level < current_level - 3:\n",
    "                safe = False\n",
    "\n",
    "    return safe"
   ],
   "outputs": [],
   "execution_count": 55
  },
  {
   "cell_type": "code",
   "id": "c9e8561636908484",
   "metadata": {
    "ExecuteTime": {
     "end_time": "2025-08-04T02:35:02.984385Z",
     "start_time": "2025-08-04T02:35:02.970385Z"
    }
   },
   "source": [
    "def solve_day2(reports: list[list[int]]) -> int:\n",
    "    total = 0\n",
    "\n",
    "    for report in reports:\n",
    "        safe = solve_one_report(report)\n",
    "\n",
    "        if safe:\n",
    "            total += 1\n",
    "\n",
    "    return total"
   ],
   "outputs": [],
   "execution_count": 56
  },
  {
   "cell_type": "code",
   "id": "cb2a2d406741df18",
   "metadata": {
    "ExecuteTime": {
     "end_time": "2025-08-04T02:35:03.343093Z",
     "start_time": "2025-08-04T02:35:03.329092Z"
    }
   },
   "source": "solve_day2(example_day2)",
   "outputs": [
    {
     "data": {
      "text/plain": [
       "2"
      ]
     },
     "execution_count": 57,
     "metadata": {},
     "output_type": "execute_result"
    }
   ],
   "execution_count": 57
  },
  {
   "cell_type": "code",
   "id": "a0f24b7510c2d437",
   "metadata": {
    "ExecuteTime": {
     "end_time": "2025-08-04T02:35:08.556761Z",
     "start_time": "2025-08-04T02:35:08.542758Z"
    }
   },
   "source": "solve_day2(day2_reports)",
   "outputs": [
    {
     "data": {
      "text/plain": [
       "287"
      ]
     },
     "execution_count": 58,
     "metadata": {},
     "output_type": "execute_result"
    }
   ],
   "execution_count": 58
  },
  {
   "cell_type": "markdown",
   "id": "e3fda84457ea5382",
   "metadata": {},
   "source": "Answer is 287"
  },
  {
   "cell_type": "markdown",
   "id": "8b1d6a864d93f5b3",
   "metadata": {},
   "source": "## Part 2"
  },
  {
   "cell_type": "code",
   "id": "c24e4cad10a93ddb",
   "metadata": {
    "ExecuteTime": {
     "end_time": "2025-08-04T02:35:43.550845Z",
     "start_time": "2025-08-04T02:35:43.536844Z"
    }
   },
   "source": [
    "def solve_day2_part2(reports: list[list[int]]) -> int:\n",
    "    total = 0\n",
    "\n",
    "    for report in reports:\n",
    "        safe = solve_one_report(report)\n",
    "\n",
    "        if safe:\n",
    "            total += 1\n",
    "        else:\n",
    "            for index in range(len(report)):\n",
    "                report_without_one_number = report[:index] + report[index + 1:]\n",
    "                safe = solve_one_report(report_without_one_number)\n",
    "\n",
    "                if safe:\n",
    "                    total += 1\n",
    "                    break\n",
    "    return total"
   ],
   "outputs": [],
   "execution_count": 64
  },
  {
   "cell_type": "code",
   "id": "6b3ccdb428f1d059",
   "metadata": {
    "ExecuteTime": {
     "end_time": "2025-08-04T02:35:43.847495Z",
     "start_time": "2025-08-04T02:35:43.834495Z"
    }
   },
   "source": "solve_day2_part2(example_day2)",
   "outputs": [
    {
     "data": {
      "text/plain": [
       "4"
      ]
     },
     "execution_count": 65,
     "metadata": {},
     "output_type": "execute_result"
    }
   ],
   "execution_count": 65
  },
  {
   "cell_type": "code",
   "id": "a4e8eaa8b9a33337",
   "metadata": {
    "ExecuteTime": {
     "end_time": "2025-08-04T02:35:44.078592Z",
     "start_time": "2025-08-04T02:35:44.064593Z"
    }
   },
   "source": "solve_day2_part2(day2_reports)",
   "outputs": [
    {
     "data": {
      "text/plain": [
       "354"
      ]
     },
     "execution_count": 66,
     "metadata": {},
     "output_type": "execute_result"
    }
   ],
   "execution_count": 66
  },
  {
   "cell_type": "markdown",
   "id": "d3c212d2266ffae3",
   "metadata": {},
   "source": "Answer is 354"
  },
  {
   "cell_type": "markdown",
   "id": "f6363a6df6c59f81",
   "metadata": {},
   "source": "# Day 3"
  },
  {
   "cell_type": "markdown",
   "id": "6166ba344acbc8a7",
   "metadata": {},
   "source": "## Read data"
  },
  {
   "cell_type": "code",
   "id": "b15af71515af028c",
   "metadata": {
    "ExecuteTime": {
     "end_time": "2025-08-04T02:36:12.148683Z",
     "start_time": "2025-08-04T02:36:12.142697Z"
    }
   },
   "source": [
    "def read_data_day3(path: str) -> str:\n",
    "    with open(path, \"r\") as file:\n",
    "        content = file.read()\n",
    "    return content"
   ],
   "outputs": [],
   "execution_count": 67
  },
  {
   "cell_type": "code",
   "id": "dcb14ba45130086",
   "metadata": {
    "ExecuteTime": {
     "end_time": "2025-08-04T02:36:44.344946Z",
     "start_time": "2025-08-04T02:36:44.331948Z"
    }
   },
   "source": [
    "str_day_3 = read_data_day3(\"data/advent-of-code/day3.txt\")\n",
    "str_example_day3 = (\n",
    "    \"xmul(2,4)%&mul[3,7]!@^do_not_mul(5,5)+mul(32,64]then(mul(11,8)mul(8,5))\"\n",
    ")\n",
    "str_example2_day3 = (\n",
    "    \"xmul(2,4)&mul[3,7]!^don't()_mul(5,5)+mul(32,64](mul(11,8)undo()?mul(8,5))\"\n",
    ")"
   ],
   "outputs": [],
   "execution_count": 78
  },
  {
   "cell_type": "markdown",
   "id": "dbbade737ef7e03e",
   "metadata": {},
   "source": "## Part 1"
  },
  {
   "cell_type": "code",
   "id": "f6bc06432d1ff525",
   "metadata": {
    "ExecuteTime": {
     "end_time": "2025-08-04T02:36:44.780518Z",
     "start_time": "2025-08-04T02:36:44.769519Z"
    }
   },
   "source": [
    "import re"
   ],
   "outputs": [],
   "execution_count": 79
  },
  {
   "cell_type": "code",
   "id": "8acf1a54513b5fa",
   "metadata": {
    "ExecuteTime": {
     "end_time": "2025-08-04T02:36:45.400955Z",
     "start_time": "2025-08-04T02:36:45.386587Z"
    }
   },
   "source": [
    "def solve_day3_part1(string: str) -> int:\n",
    "    reg = re.compile(r\"mul\\(([0-9]+),([0-9]+)\\)\")\n",
    "    numbers = reg.findall(string)\n",
    "    total = 0\n",
    "\n",
    "    for x, y in numbers:\n",
    "        total += int(x) * int(y)\n",
    "\n",
    "    return total"
   ],
   "outputs": [],
   "execution_count": 80
  },
  {
   "cell_type": "code",
   "id": "7ae969034c4ecae7",
   "metadata": {
    "ExecuteTime": {
     "end_time": "2025-08-04T02:36:45.617951Z",
     "start_time": "2025-08-04T02:36:45.605950Z"
    }
   },
   "source": [
    "solve_day3_part1(str_example_day3)"
   ],
   "outputs": [
    {
     "data": {
      "text/plain": [
       "161"
      ]
     },
     "execution_count": 81,
     "metadata": {},
     "output_type": "execute_result"
    }
   ],
   "execution_count": 81
  },
  {
   "cell_type": "code",
   "id": "614aa2505fb79f6e",
   "metadata": {
    "ExecuteTime": {
     "end_time": "2025-08-04T02:36:46.242051Z",
     "start_time": "2025-08-04T02:36:46.229051Z"
    }
   },
   "source": [
    "solve_day3_part1(str_day_3)"
   ],
   "outputs": [
    {
     "data": {
      "text/plain": [
       "157621318"
      ]
     },
     "execution_count": 82,
     "metadata": {},
     "output_type": "execute_result"
    }
   ],
   "execution_count": 82
  },
  {
   "cell_type": "markdown",
   "id": "6f917df6166b005e",
   "metadata": {},
   "source": "Answer is 157621318"
  },
  {
   "cell_type": "markdown",
   "id": "c64bf06884187dc6",
   "metadata": {},
   "source": "## Part 2"
  },
  {
   "cell_type": "code",
   "id": "7558e8687ea15a79",
   "metadata": {
    "ExecuteTime": {
     "end_time": "2025-08-04T02:36:47.766028Z",
     "start_time": "2025-08-04T02:36:47.750040Z"
    }
   },
   "source": [
    "def solve_day3_part2(string: str) -> int:\n",
    "    reg = re.compile(r\"(do\\(\\))|(don't\\(\\))|mul\\(([0-9]+),([0-9]+)\\)\")\n",
    "    commands = reg.findall(string)\n",
    "\n",
    "    total = 0\n",
    "    enabled = True\n",
    "\n",
    "    for command in commands:\n",
    "        do, dont, x, y = command\n",
    "\n",
    "        if do:\n",
    "            enabled = True\n",
    "        elif dont:\n",
    "            enabled = False\n",
    "        else:\n",
    "            if enabled:\n",
    "                total += int(x) * int(y)\n",
    "\n",
    "    return total"
   ],
   "outputs": [],
   "execution_count": 83
  },
  {
   "cell_type": "code",
   "id": "713995e07f860ca6",
   "metadata": {
    "ExecuteTime": {
     "end_time": "2025-08-04T02:36:51.073634Z",
     "start_time": "2025-08-04T02:36:51.062646Z"
    }
   },
   "source": [
    "solve_day3_part2(str_example2_day3)"
   ],
   "outputs": [
    {
     "data": {
      "text/plain": [
       "48"
      ]
     },
     "execution_count": 84,
     "metadata": {},
     "output_type": "execute_result"
    }
   ],
   "execution_count": 84
  },
  {
   "cell_type": "code",
   "id": "4ef7211fc270e431",
   "metadata": {
    "ExecuteTime": {
     "end_time": "2025-08-04T02:36:51.339286Z",
     "start_time": "2025-08-04T02:36:51.326285Z"
    }
   },
   "source": [
    "solve_day3_part2(str_day_3)"
   ],
   "outputs": [
    {
     "data": {
      "text/plain": [
       "79845780"
      ]
     },
     "execution_count": 85,
     "metadata": {},
     "output_type": "execute_result"
    }
   ],
   "execution_count": 85
  },
  {
   "cell_type": "markdown",
   "id": "6bd02776c2fdd9d5",
   "metadata": {},
   "source": "Answer is 79845780"
  },
  {
   "cell_type": "markdown",
   "id": "b93ba543a18482f8",
   "metadata": {},
   "source": "# Day 4"
  },
  {
   "cell_type": "markdown",
   "id": "cbd0bc84f9c59e4b",
   "metadata": {},
   "source": "## Read data"
  },
  {
   "cell_type": "code",
   "id": "7a9c4f7e642b88be",
   "metadata": {
    "ExecuteTime": {
     "end_time": "2025-08-04T02:36:58.355284Z",
     "start_time": "2025-08-04T02:36:58.340295Z"
    }
   },
   "source": [
    "def read_data_day4(path: str) -> str:\n",
    "    with open(path, \"r\") as file:\n",
    "        content = file.read()\n",
    "    return content.split(\"\\n\")"
   ],
   "outputs": [],
   "execution_count": 86
  },
  {
   "cell_type": "code",
   "id": "84c5f1d224e68d50",
   "metadata": {
    "ExecuteTime": {
     "end_time": "2025-08-04T02:36:59.429809Z",
     "start_time": "2025-08-04T02:36:59.414811Z"
    }
   },
   "source": [
    "grid_path = \"data/advent-of-code/day4.txt\""
   ],
   "outputs": [],
   "execution_count": 87
  },
  {
   "cell_type": "code",
   "id": "841279952548e920",
   "metadata": {
    "ExecuteTime": {
     "end_time": "2025-08-04T02:37:00.890674Z",
     "start_time": "2025-08-04T02:37:00.876684Z"
    }
   },
   "source": [
    "letters = (\"X\", \"M\", \"A\", \"S\")"
   ],
   "outputs": [],
   "execution_count": 88
  },
  {
   "cell_type": "code",
   "id": "7fa1532235546a49",
   "metadata": {
    "ExecuteTime": {
     "end_time": "2025-08-04T02:37:01.694998Z",
     "start_time": "2025-08-04T02:37:01.680005Z"
    }
   },
   "source": [
    "moves = (\n",
    "    (0, 1),  # left to right (ltr)\n",
    "    (0, -1),  # right to left (rtl)\n",
    "    (1, 0),  # top to bottom (ttb)\n",
    "    (-1, 0),  # bottom to top (btt)\n",
    "    (1, 1),  # diagonal ttb ltr\n",
    "    (-1, 1),  # diagonal btt ltr\n",
    "    (1, -1),  # diagonal ttb rtl\n",
    "    (-1, -1),  # diagonal btt rtl\n",
    ")"
   ],
   "outputs": [],
   "execution_count": 89
  },
  {
   "cell_type": "code",
   "id": "1768d086825dd83d",
   "metadata": {
    "ExecuteTime": {
     "end_time": "2025-08-04T02:37:02.752814Z",
     "start_time": "2025-08-04T02:37:02.737815Z"
    }
   },
   "source": [
    "grid_example = \"\"\"MMMSXXMASM\n",
    "MSAMXMSMSA\n",
    "AMXSXMAAMM\n",
    "MSAMASMSMX\n",
    "XMASAMXAMM\n",
    "XXAMMXXAMA\n",
    "SMSMSASXSS\n",
    "SAXAMASAAA\n",
    "MAMMMXMMMM\n",
    "MXMXAXMASX\"\"\".split(\"\\n\")"
   ],
   "outputs": [],
   "execution_count": 90
  },
  {
   "cell_type": "code",
   "id": "4f74bde2ccddf3bf",
   "metadata": {
    "ExecuteTime": {
     "end_time": "2025-08-04T02:37:04.214862Z",
     "start_time": "2025-08-04T02:37:04.200841Z"
    }
   },
   "source": [
    "grid_day4 = read_data_day4(grid_path)"
   ],
   "outputs": [],
   "execution_count": 91
  },
  {
   "cell_type": "markdown",
   "id": "5ef7de57be99988c",
   "metadata": {},
   "source": "## Part 1"
  },
  {
   "cell_type": "code",
   "id": "d932256fb84d2c06",
   "metadata": {
    "ExecuteTime": {
     "end_time": "2025-08-04T02:37:50.541803Z",
     "start_time": "2025-08-04T02:37:50.527815Z"
    }
   },
   "source": [
    "def pad_grid(grid: list[str], letters: tuple[str, ...]) -> list[str]:\n",
    "    grid_width = len(grid[0])\n",
    "\n",
    "    padding_size = len(letters) - 1\n",
    "\n",
    "    padding_top_bottom = [\n",
    "        \"#\" * (grid_width + 2 * padding_size) for _ in range(padding_size)\n",
    "    ]\n",
    "    padding_left_right = \"#\" * padding_size\n",
    "\n",
    "    padded_grid = (\n",
    "        padding_top_bottom\n",
    "        + [padding_left_right + line + padding_left_right for line in grid]\n",
    "        + padding_top_bottom\n",
    "    )\n",
    "\n",
    "    return padded_grid"
   ],
   "outputs": [],
   "execution_count": 94
  },
  {
   "cell_type": "code",
   "id": "3748ebe9b7eabbed",
   "metadata": {
    "ExecuteTime": {
     "end_time": "2025-08-04T02:37:50.744464Z",
     "start_time": "2025-08-04T02:37:50.730465Z"
    }
   },
   "source": [
    "def check_cell(\n",
    "    x: int,\n",
    "    y: int,\n",
    "    grid: list[str],\n",
    "    letters: tuple[str, ...],\n",
    "    moves: tuple[tuple[int, int], ...],\n",
    ") -> int:\n",
    "    total = 0\n",
    "\n",
    "    if grid[x][y] != letters[0]:\n",
    "        return total\n",
    "\n",
    "    for move in moves:\n",
    "        new_x = x\n",
    "        new_y = y\n",
    "        for i in range(1, len(letters)):\n",
    "            new_x += move[0]\n",
    "            new_y += move[1]\n",
    "\n",
    "            if grid[new_x][new_y] != letters[i]:\n",
    "                break\n",
    "            if i == len(letters) - 1:\n",
    "                total += 1\n",
    "\n",
    "    return total"
   ],
   "outputs": [],
   "execution_count": 95
  },
  {
   "cell_type": "code",
   "id": "af82f3704d67315b",
   "metadata": {
    "ExecuteTime": {
     "end_time": "2025-08-04T02:37:51.099778Z",
     "start_time": "2025-08-04T02:37:51.084781Z"
    }
   },
   "source": [
    "def solve_grid(\n",
    "    grid: list[str], letters: tuple[str, ...], moves: tuple[tuple[int, int], ...]\n",
    ") -> int:\n",
    "    padding_size = len(letters) - 1\n",
    "    padded_grid = pad_grid(grid, letters)\n",
    "\n",
    "    grid_height = len(grid)\n",
    "    grid_width = len(grid[0])\n",
    "\n",
    "    total = 0\n",
    "\n",
    "    for i in range(padding_size, grid_height + padding_size):\n",
    "        for j in range(padding_size, grid_width + padding_size):\n",
    "            total += check_cell(i, j, padded_grid, letters, moves)\n",
    "    return total"
   ],
   "outputs": [],
   "execution_count": 96
  },
  {
   "cell_type": "code",
   "id": "30861fe448290e85",
   "metadata": {
    "ExecuteTime": {
     "end_time": "2025-08-04T02:38:23.762517Z",
     "start_time": "2025-08-04T02:38:23.744519Z"
    }
   },
   "source": "solve_grid(grid_example, letters, moves)",
   "outputs": [
    {
     "data": {
      "text/plain": [
       "18"
      ]
     },
     "execution_count": 100,
     "metadata": {},
     "output_type": "execute_result"
    }
   ],
   "execution_count": 100
  },
  {
   "cell_type": "code",
   "id": "d0a06168e6a64f7c",
   "metadata": {
    "ExecuteTime": {
     "end_time": "2025-08-04T02:38:18.650334Z",
     "start_time": "2025-08-04T02:38:18.626336Z"
    }
   },
   "source": "solve_grid(grid_day4, letters, moves)",
   "outputs": [
    {
     "data": {
      "text/plain": [
       "2718"
      ]
     },
     "execution_count": 99,
     "metadata": {},
     "output_type": "execute_result"
    }
   ],
   "execution_count": 99
  },
  {
   "cell_type": "markdown",
   "id": "f12bbf3db91e270b",
   "metadata": {},
   "source": "Answer is 2718"
  },
  {
   "cell_type": "markdown",
   "id": "743e9a74f0baa3b4",
   "metadata": {},
   "source": "## Part 2"
  },
  {
   "cell_type": "code",
   "id": "2ddd96414d52e261",
   "metadata": {
    "ExecuteTime": {
     "end_time": "2025-08-04T02:38:37.301961Z",
     "start_time": "2025-08-04T02:38:37.287971Z"
    }
   },
   "source": [
    "def check_mas_cross(x: int, y: int, grid: list[str]) -> bool:\n",
    "    center_letter = \"A\"\n",
    "    diagonal_letters = ((\"M\", \"S\"), (\"S\", \"M\"))\n",
    "\n",
    "    if grid[x][y] != center_letter:\n",
    "        return False\n",
    "\n",
    "    top_left = grid[x-1][y-1]\n",
    "    top_right = grid[x-1][y+1]\n",
    "    bottom_left = grid[x+1][y-1]\n",
    "    bottom_right = grid[x+1][y+1]\n",
    "\n",
    "    diagonal = False\n",
    "    antidiagonal = False\n",
    "\n",
    "    if (top_left, bottom_right) in diagonal_letters:\n",
    "        diagonal = True\n",
    "    if (top_right, bottom_left) in diagonal_letters:\n",
    "        antidiagonal = True\n",
    "\n",
    "    return diagonal and antidiagonal"
   ],
   "outputs": [],
   "execution_count": 102
  },
  {
   "cell_type": "code",
   "id": "93d6bbba02265bb8",
   "metadata": {
    "ExecuteTime": {
     "end_time": "2025-08-04T02:38:38.888887Z",
     "start_time": "2025-08-04T02:38:38.873900Z"
    }
   },
   "source": [
    "def solve_grid_part2(\n",
    "    grid: list[str]\n",
    ") -> int:\n",
    "    padding_size = len(letters) - 1\n",
    "    padded_grid = pad_grid(grid, letters)\n",
    "\n",
    "    grid_height = len(grid)\n",
    "    grid_width = len(grid[0])\n",
    "\n",
    "    total = 0\n",
    "\n",
    "    for i in range(padding_size, grid_height + padding_size):\n",
    "        for j in range(padding_size, grid_width + padding_size):\n",
    "            if check_mas_cross(i, j, padded_grid):\n",
    "                total += 1\n",
    "    return total"
   ],
   "outputs": [],
   "execution_count": 103
  },
  {
   "cell_type": "code",
   "id": "4292e71780d46d6",
   "metadata": {
    "ExecuteTime": {
     "end_time": "2025-08-04T02:38:41.528654Z",
     "start_time": "2025-08-04T02:38:41.516654Z"
    }
   },
   "source": "solve_grid_part2(grid_example)",
   "outputs": [
    {
     "data": {
      "text/plain": [
       "9"
      ]
     },
     "execution_count": 104,
     "metadata": {},
     "output_type": "execute_result"
    }
   ],
   "execution_count": 104
  },
  {
   "cell_type": "code",
   "id": "6f0a3f6e09f3be49",
   "metadata": {
    "ExecuteTime": {
     "end_time": "2025-08-04T02:38:42.165774Z",
     "start_time": "2025-08-04T02:38:42.153774Z"
    }
   },
   "source": "solve_grid_part2(grid_day4)",
   "outputs": [
    {
     "data": {
      "text/plain": [
       "2046"
      ]
     },
     "execution_count": 105,
     "metadata": {},
     "output_type": "execute_result"
    }
   ],
   "execution_count": 105
  },
  {
   "cell_type": "markdown",
   "id": "81d5a40b28e5b732",
   "metadata": {},
   "source": "Answer is 2046"
  },
  {
   "cell_type": "code",
   "execution_count": null,
   "id": "b2511549c8c1f187",
   "metadata": {},
   "outputs": [],
   "source": []
  }
 ],
 "metadata": {
  "kernelspec": {
   "display_name": "Python 3",
   "language": "python",
   "name": "python3"
  },
  "language_info": {
   "codemirror_mode": {
    "name": "ipython",
    "version": 2
   },
   "file_extension": ".py",
   "mimetype": "text/x-python",
   "name": "python",
   "nbconvert_exporter": "python",
   "pygments_lexer": "ipython2",
   "version": "2.7.6"
  }
 },
 "nbformat": 4,
 "nbformat_minor": 5
}
