{
 "cells": [
  {
   "cell_type": "code",
   "id": "initial_id",
   "metadata": {
    "collapsed": true,
    "ExecuteTime": {
     "end_time": "2025-08-03T00:54:50.978514Z",
     "start_time": "2025-08-03T00:54:49.818083Z"
    }
   },
   "source": [
    "import pandas as pd\n",
    "import numpy as np"
   ],
   "outputs": [],
   "execution_count": 162
  },
  {
   "cell_type": "markdown",
   "id": "a5e834c89f7354e2",
   "metadata": {},
   "source": "# Day 1"
  },
  {
   "cell_type": "markdown",
   "id": "dff1abad329ad65f",
   "metadata": {},
   "source": "## Read data"
  },
  {
   "cell_type": "code",
   "id": "48226e9d6ab1bad9",
   "metadata": {
    "ExecuteTime": {
     "end_time": "2025-08-03T00:54:50.993426Z",
     "start_time": "2025-08-03T00:54:50.981517Z"
    }
   },
   "source": [
    "def read_data_day1(path: str) -> pd.DataFrame:\n",
    "    df = pd.read_csv(path, sep=\"   \", header=None, engine=\"python\")\n",
    "    return df"
   ],
   "outputs": [],
   "execution_count": 163
  },
  {
   "cell_type": "code",
   "id": "bf487d7796747d89",
   "metadata": {
    "ExecuteTime": {
     "end_time": "2025-08-03T00:54:51.023414Z",
     "start_time": "2025-08-03T00:54:51.009414Z"
    }
   },
   "source": [
    "data_path = \"data/advent-of-code/day1.txt\"\n",
    "data_path_example = \"data/advent-of-code/day1-example.txt\""
   ],
   "outputs": [],
   "execution_count": 164
  },
  {
   "cell_type": "code",
   "id": "b2c3569a33c6438a",
   "metadata": {
    "ExecuteTime": {
     "end_time": "2025-08-03T00:54:51.069858Z",
     "start_time": "2025-08-03T00:54:51.039416Z"
    }
   },
   "source": [
    "df_day1 = read_data_day1(data_path)\n",
    "df_example_day1 = read_data_day1(data_path_example)"
   ],
   "outputs": [],
   "execution_count": 165
  },
  {
   "cell_type": "markdown",
   "id": "a6b15377b38efb08",
   "metadata": {},
   "source": "## Part 1"
  },
  {
   "cell_type": "code",
   "id": "10a87a0aa830e687",
   "metadata": {
    "ExecuteTime": {
     "end_time": "2025-08-03T00:54:51.101298Z",
     "start_time": "2025-08-03T00:54:51.086976Z"
    }
   },
   "source": [
    "def solve_day1_part1(df: pd.DataFrame) -> int:\n",
    "    sorted1 = df[0].sort_values().reset_index(drop=True)\n",
    "    sorted2 = df[1].sort_values().reset_index(drop=True)\n",
    "    return np.sum(np.abs(sorted1 - sorted2))"
   ],
   "outputs": [],
   "execution_count": 166
  },
  {
   "cell_type": "code",
   "id": "ea346c0d4a1176bb",
   "metadata": {
    "ExecuteTime": {
     "end_time": "2025-08-03T00:54:51.132299Z",
     "start_time": "2025-08-03T00:54:51.118300Z"
    }
   },
   "source": [
    "solve_day1_part1(df_example_day1)"
   ],
   "outputs": [
    {
     "data": {
      "text/plain": [
       "np.int64(11)"
      ]
     },
     "execution_count": 167,
     "metadata": {},
     "output_type": "execute_result"
    }
   ],
   "execution_count": 167
  },
  {
   "cell_type": "code",
   "id": "e5541da1f6453c21",
   "metadata": {
    "ExecuteTime": {
     "end_time": "2025-08-03T00:54:51.163298Z",
     "start_time": "2025-08-03T00:54:51.149302Z"
    }
   },
   "source": [
    "solve_day1_part1(df_day1)"
   ],
   "outputs": [
    {
     "data": {
      "text/plain": [
       "np.int64(2970687)"
      ]
     },
     "execution_count": 168,
     "metadata": {},
     "output_type": "execute_result"
    }
   ],
   "execution_count": 168
  },
  {
   "cell_type": "markdown",
   "id": "81fd2d021722cd85",
   "metadata": {},
   "source": "Answer is 2970687"
  },
  {
   "cell_type": "markdown",
   "id": "ed7140cec51b736a",
   "metadata": {},
   "source": "## Part 2"
  },
  {
   "cell_type": "code",
   "id": "452c55a6eab2685c",
   "metadata": {
    "ExecuteTime": {
     "end_time": "2025-08-03T00:54:51.195328Z",
     "start_time": "2025-08-03T00:54:51.180315Z"
    }
   },
   "source": [
    "from collections import defaultdict"
   ],
   "outputs": [],
   "execution_count": 169
  },
  {
   "cell_type": "code",
   "id": "4ed5adf6521f7028",
   "metadata": {
    "ExecuteTime": {
     "end_time": "2025-08-03T00:54:51.227416Z",
     "start_time": "2025-08-03T00:54:51.212432Z"
    }
   },
   "source": [
    "def solve_day1_part2(df: pd.DataFrame) -> int:\n",
    "    col1 = df[0]\n",
    "    col2 = df[1]\n",
    "    nb_occurrences: defaultdict[int, int] = defaultdict(int)\n",
    "\n",
    "    for number in col2:\n",
    "        nb_occurrences[number] += 1\n",
    "\n",
    "    similarity_score = 0\n",
    "    for number in col1:\n",
    "        similarity_score += nb_occurrences[number] * number\n",
    "\n",
    "    return similarity_score"
   ],
   "outputs": [],
   "execution_count": 170
  },
  {
   "cell_type": "code",
   "id": "62ac280961c383ad",
   "metadata": {
    "ExecuteTime": {
     "end_time": "2025-08-03T00:54:51.257420Z",
     "start_time": "2025-08-03T00:54:51.243416Z"
    }
   },
   "source": [
    "solve_day1_part2(df_example_day1)"
   ],
   "outputs": [
    {
     "data": {
      "text/plain": [
       "31"
      ]
     },
     "execution_count": 171,
     "metadata": {},
     "output_type": "execute_result"
    }
   ],
   "execution_count": 171
  },
  {
   "cell_type": "code",
   "id": "d38ee7a0999f1b0e",
   "metadata": {
    "ExecuteTime": {
     "end_time": "2025-08-03T00:54:51.289420Z",
     "start_time": "2025-08-03T00:54:51.274418Z"
    }
   },
   "source": [
    "solve_day1_part2(df_day1)"
   ],
   "outputs": [
    {
     "data": {
      "text/plain": [
       "23963899"
      ]
     },
     "execution_count": 172,
     "metadata": {},
     "output_type": "execute_result"
    }
   ],
   "execution_count": 172
  },
  {
   "cell_type": "markdown",
   "id": "3635d6e6e3557949",
   "metadata": {},
   "source": "Answer is 23963899"
  },
  {
   "cell_type": "code",
   "id": "4348e4b04e591d14",
   "metadata": {
    "ExecuteTime": {
     "end_time": "2025-08-03T00:54:51.320050Z",
     "start_time": "2025-08-03T00:54:51.306052Z"
    }
   },
   "source": [],
   "outputs": [],
   "execution_count": null
  },
  {
   "cell_type": "markdown",
   "id": "fea2f4329ef0dd75",
   "metadata": {},
   "source": "# Day 2"
  },
  {
   "cell_type": "markdown",
   "id": "b773564724090c4b",
   "metadata": {},
   "source": "## Read data"
  },
  {
   "cell_type": "code",
   "id": "f3c717336c21e503",
   "metadata": {
    "ExecuteTime": {
     "end_time": "2025-08-03T00:54:51.351050Z",
     "start_time": "2025-08-03T00:54:51.336052Z"
    }
   },
   "source": [
    "def read_data_day1(path: str) -> pd.DataFrame:\n",
    "    df = pd.read_csv(path, sep=\"   \", header=None, engine=\"python\")\n",
    "    return df"
   ],
   "outputs": [],
   "execution_count": 173
  },
  {
   "cell_type": "code",
   "id": "21473aa0ad6b667",
   "metadata": {
    "ExecuteTime": {
     "end_time": "2025-08-03T00:54:51.382050Z",
     "start_time": "2025-08-03T00:54:51.368051Z"
    }
   },
   "source": [
    "data_path = \"data/advent-of-code/day1.txt\"\n",
    "data_path_example = \"data/advent-of-code/day1-example.txt\""
   ],
   "outputs": [],
   "execution_count": 174
  },
  {
   "cell_type": "code",
   "id": "56e9631624bde21",
   "metadata": {
    "ExecuteTime": {
     "end_time": "2025-08-03T00:54:51.412061Z",
     "start_time": "2025-08-03T00:54:51.398051Z"
    }
   },
   "source": [
    "df_day1 = read_data_day1(data_path)\n",
    "df_example_day1 = read_data_day1(data_path_example)"
   ],
   "outputs": [],
   "execution_count": 175
  },
  {
   "cell_type": "markdown",
   "id": "320e169e3de0ead6",
   "metadata": {},
   "source": "## Part 1"
  },
  {
   "cell_type": "code",
   "id": "6d031da6246624d",
   "metadata": {
    "ExecuteTime": {
     "end_time": "2025-08-03T00:54:51.442421Z",
     "start_time": "2025-08-03T00:54:51.428416Z"
    }
   },
   "source": [
    "def solve_day1_part1(df: pd.DataFrame) -> int:\n",
    "    sorted1 = df[0].sort_values().reset_index(drop=True)\n",
    "    sorted2 = df[1].sort_values().reset_index(drop=True)\n",
    "    return np.sum(np.abs(sorted1 - sorted2))"
   ],
   "outputs": [],
   "execution_count": 176
  },
  {
   "cell_type": "code",
   "id": "71e67e1e3cda1a7a",
   "metadata": {
    "ExecuteTime": {
     "end_time": "2025-08-03T00:54:51.473426Z",
     "start_time": "2025-08-03T00:54:51.458425Z"
    }
   },
   "source": [
    "solve_day1_part1(df_example_day1)"
   ],
   "outputs": [
    {
     "data": {
      "text/plain": [
       "np.int64(11)"
      ]
     },
     "execution_count": 177,
     "metadata": {},
     "output_type": "execute_result"
    }
   ],
   "execution_count": 177
  },
  {
   "cell_type": "code",
   "id": "c7828f352c20e993",
   "metadata": {
    "ExecuteTime": {
     "end_time": "2025-08-03T00:54:51.504424Z",
     "start_time": "2025-08-03T00:54:51.489423Z"
    }
   },
   "source": [
    "solve_day1_part1(df_day1)"
   ],
   "outputs": [
    {
     "data": {
      "text/plain": [
       "np.int64(2970687)"
      ]
     },
     "execution_count": 178,
     "metadata": {},
     "output_type": "execute_result"
    }
   ],
   "execution_count": 178
  },
  {
   "cell_type": "markdown",
   "id": "e3fda84457ea5382",
   "metadata": {},
   "source": "Answer is 2970687"
  },
  {
   "cell_type": "markdown",
   "id": "8b1d6a864d93f5b3",
   "metadata": {},
   "source": "## Part 2"
  },
  {
   "cell_type": "code",
   "id": "d34b864ccfbd3d9e",
   "metadata": {
    "ExecuteTime": {
     "end_time": "2025-08-03T00:54:51.534422Z",
     "start_time": "2025-08-03T00:54:51.521422Z"
    }
   },
   "source": [
    "from collections import defaultdict"
   ],
   "outputs": [],
   "execution_count": 179
  },
  {
   "cell_type": "code",
   "id": "885eb4dd7378fb2f",
   "metadata": {
    "ExecuteTime": {
     "end_time": "2025-08-03T00:54:51.565579Z",
     "start_time": "2025-08-03T00:54:51.551422Z"
    }
   },
   "source": [
    "def solve_day1_part2(df: pd.DataFrame) -> int:\n",
    "    col1 = df[0]\n",
    "    col2 = df[1]\n",
    "    nb_occurrences: defaultdict[int, int] = defaultdict(int)\n",
    "\n",
    "    for number in col2:\n",
    "        nb_occurrences[number] += 1\n",
    "\n",
    "    similarity_score = 0\n",
    "    for number in col1:\n",
    "        similarity_score += nb_occurrences[number] * number\n",
    "\n",
    "    return similarity_score"
   ],
   "outputs": [],
   "execution_count": 180
  },
  {
   "cell_type": "code",
   "id": "5d269ce44ba53e49",
   "metadata": {
    "ExecuteTime": {
     "end_time": "2025-08-03T00:54:51.596502Z",
     "start_time": "2025-08-03T00:54:51.581506Z"
    }
   },
   "source": [
    "solve_day1_part2(df_example_day1)"
   ],
   "outputs": [
    {
     "data": {
      "text/plain": [
       "31"
      ]
     },
     "execution_count": 181,
     "metadata": {},
     "output_type": "execute_result"
    }
   ],
   "execution_count": 181
  },
  {
   "cell_type": "code",
   "id": "1c5f7b66d9e440c2",
   "metadata": {
    "ExecuteTime": {
     "end_time": "2025-08-03T00:54:51.628607Z",
     "start_time": "2025-08-03T00:54:51.613511Z"
    }
   },
   "source": [
    "solve_day1_part2(df_day1)"
   ],
   "outputs": [
    {
     "data": {
      "text/plain": [
       "23963899"
      ]
     },
     "execution_count": 182,
     "metadata": {},
     "output_type": "execute_result"
    }
   ],
   "execution_count": 182
  },
  {
   "cell_type": "markdown",
   "id": "d3c212d2266ffae3",
   "metadata": {},
   "source": "Answer is 23963899"
  },
  {
   "cell_type": "markdown",
   "id": "f6363a6df6c59f81",
   "metadata": {},
   "source": "# Day 3"
  },
  {
   "cell_type": "markdown",
   "id": "6166ba344acbc8a7",
   "metadata": {},
   "source": "## Read data"
  },
  {
   "cell_type": "code",
   "id": "b15af71515af028c",
   "metadata": {
    "ExecuteTime": {
     "end_time": "2025-08-03T00:54:51.674408Z",
     "start_time": "2025-08-03T00:54:51.659408Z"
    }
   },
   "source": [
    "def read_data_day3(path: str) -> str:\n",
    "    with open(path, \"r\") as file:\n",
    "        content = file.read()\n",
    "    return content"
   ],
   "outputs": [],
   "execution_count": 183
  },
  {
   "cell_type": "code",
   "id": "dcb14ba45130086",
   "metadata": {
    "ExecuteTime": {
     "end_time": "2025-08-03T00:54:51.689928Z",
     "start_time": "2025-08-03T00:54:51.678410Z"
    }
   },
   "source": [
    "str_day_3 = read_data_day3(\"data/advent-of-code/day3.txt\")\n",
    "str_example_day3 = (\n",
    "    \"xmul(2,4)%&mul[3,7]!@^do_not_mul(5,5)+mul(32,64]then(mul(11,8)mul(8,5))\"\n",
    ")"
   ],
   "outputs": [],
   "execution_count": 184
  },
  {
   "cell_type": "markdown",
   "id": "dbbade737ef7e03e",
   "metadata": {},
   "source": "## Part 1"
  },
  {
   "cell_type": "code",
   "id": "f6bc06432d1ff525",
   "metadata": {
    "ExecuteTime": {
     "end_time": "2025-08-03T00:54:51.720661Z",
     "start_time": "2025-08-03T00:54:51.706448Z"
    }
   },
   "source": [
    "import re"
   ],
   "outputs": [],
   "execution_count": 185
  },
  {
   "cell_type": "code",
   "id": "8acf1a54513b5fa",
   "metadata": {
    "ExecuteTime": {
     "end_time": "2025-08-03T00:54:51.751925Z",
     "start_time": "2025-08-03T00:54:51.737410Z"
    }
   },
   "source": [
    "def solve_day3_part1(string: str) -> int:\n",
    "    reg = re.compile(r\"mul\\(([0-9]+),([0-9]+)\\)\")\n",
    "    numbers = reg.findall(string)\n",
    "    total = 0\n",
    "\n",
    "    for x, y in numbers:\n",
    "        total += int(x) * int(y)\n",
    "\n",
    "    return total"
   ],
   "outputs": [],
   "execution_count": 186
  },
  {
   "cell_type": "code",
   "id": "7ae969034c4ecae7",
   "metadata": {
    "ExecuteTime": {
     "end_time": "2025-08-03T00:54:51.783332Z",
     "start_time": "2025-08-03T00:54:51.768929Z"
    }
   },
   "source": [
    "solve_day3_part1(str_example_day3)"
   ],
   "outputs": [
    {
     "data": {
      "text/plain": [
       "161"
      ]
     },
     "execution_count": 187,
     "metadata": {},
     "output_type": "execute_result"
    }
   ],
   "execution_count": 187
  },
  {
   "cell_type": "code",
   "id": "614aa2505fb79f6e",
   "metadata": {
    "ExecuteTime": {
     "end_time": "2025-08-03T00:54:51.814330Z",
     "start_time": "2025-08-03T00:54:51.799331Z"
    }
   },
   "source": [
    "solve_day3_part1(str_day_3)"
   ],
   "outputs": [
    {
     "data": {
      "text/plain": [
       "157621318"
      ]
     },
     "execution_count": 188,
     "metadata": {},
     "output_type": "execute_result"
    }
   ],
   "execution_count": 188
  },
  {
   "cell_type": "markdown",
   "id": "6f917df6166b005e",
   "metadata": {},
   "source": "Answer is 157621318"
  },
  {
   "cell_type": "markdown",
   "id": "c64bf06884187dc6",
   "metadata": {},
   "source": "## Part 2"
  },
  {
   "cell_type": "code",
   "id": "7558e8687ea15a79",
   "metadata": {
    "ExecuteTime": {
     "end_time": "2025-08-03T00:54:51.845329Z",
     "start_time": "2025-08-03T00:54:51.831331Z"
    }
   },
   "source": [
    "def solve_day3_part2(string: str) -> int:\n",
    "    reg = re.compile(r\"(do\\(\\))|(don't\\(\\))|mul\\(([0-9]+),([0-9]+)\\)\")\n",
    "    commands = reg.findall(string)\n",
    "\n",
    "    total = 0\n",
    "    enabled = True\n",
    "\n",
    "    for command in commands:\n",
    "        do, dont, x, y = command\n",
    "\n",
    "        if do:\n",
    "            enabled = True\n",
    "        elif dont:\n",
    "            enabled = False\n",
    "        else:\n",
    "            if enabled:\n",
    "                total += int(x) * int(y)\n",
    "\n",
    "    return total"
   ],
   "outputs": [],
   "execution_count": 189
  },
  {
   "cell_type": "code",
   "id": "a86408ead52e24a2",
   "metadata": {
    "ExecuteTime": {
     "end_time": "2025-08-03T00:54:51.876333Z",
     "start_time": "2025-08-03T00:54:51.861330Z"
    }
   },
   "source": [
    "str_example2_day3 = (\n",
    "    \"xmul(2,4)&mul[3,7]!^don't()_mul(5,5)+mul(32,64](mul(11,8)undo()?mul(8,5))\"\n",
    ")"
   ],
   "outputs": [],
   "execution_count": 190
  },
  {
   "cell_type": "code",
   "id": "713995e07f860ca6",
   "metadata": {
    "ExecuteTime": {
     "end_time": "2025-08-03T00:54:51.907332Z",
     "start_time": "2025-08-03T00:54:51.894330Z"
    }
   },
   "source": [
    "solve_day3_part2(str_example2_day3)"
   ],
   "outputs": [
    {
     "data": {
      "text/plain": [
       "48"
      ]
     },
     "execution_count": 191,
     "metadata": {},
     "output_type": "execute_result"
    }
   ],
   "execution_count": 191
  },
  {
   "cell_type": "code",
   "id": "4ef7211fc270e431",
   "metadata": {
    "ExecuteTime": {
     "end_time": "2025-08-03T00:54:51.938330Z",
     "start_time": "2025-08-03T00:54:51.924331Z"
    }
   },
   "source": [
    "solve_day3_part2(str_day_3)"
   ],
   "outputs": [
    {
     "data": {
      "text/plain": [
       "79845780"
      ]
     },
     "execution_count": 192,
     "metadata": {},
     "output_type": "execute_result"
    }
   ],
   "execution_count": 192
  },
  {
   "cell_type": "markdown",
   "id": "6bd02776c2fdd9d5",
   "metadata": {},
   "source": "Answer is 79845780"
  },
  {
   "cell_type": "markdown",
   "id": "b93ba543a18482f8",
   "metadata": {},
   "source": "# Day 4"
  },
  {
   "cell_type": "markdown",
   "id": "cbd0bc84f9c59e4b",
   "metadata": {},
   "source": "## Read data"
  },
  {
   "cell_type": "code",
   "id": "7a9c4f7e642b88be",
   "metadata": {
    "ExecuteTime": {
     "end_time": "2025-08-03T01:10:47.374802Z",
     "start_time": "2025-08-03T01:10:47.360802Z"
    }
   },
   "source": [
    "def read_data_day4(path: str) -> str:\n",
    "    with open(path, \"r\") as file:\n",
    "        content = file.read()\n",
    "    return content.split(\"\\n\")"
   ],
   "outputs": [],
   "execution_count": 267
  },
  {
   "cell_type": "code",
   "id": "84c5f1d224e68d50",
   "metadata": {
    "ExecuteTime": {
     "end_time": "2025-08-03T01:10:47.763802Z",
     "start_time": "2025-08-03T01:10:47.749805Z"
    }
   },
   "source": "grid_path = \"data/advent-of-code/day4.txt\"",
   "outputs": [],
   "execution_count": 268
  },
  {
   "cell_type": "code",
   "id": "841279952548e920",
   "metadata": {
    "ExecuteTime": {
     "end_time": "2025-08-03T01:10:48.104455Z",
     "start_time": "2025-08-03T01:10:48.090455Z"
    }
   },
   "source": [
    "letters = (\"X\", \"M\", \"A\", \"S\")"
   ],
   "outputs": [],
   "execution_count": 269
  },
  {
   "metadata": {
    "ExecuteTime": {
     "end_time": "2025-08-03T01:18:09.694600Z",
     "start_time": "2025-08-03T01:18:09.677178Z"
    }
   },
   "cell_type": "code",
   "source": [
    "moves = (\n",
    "    (0, 1),  # left to right (ltr)\n",
    "    (0, -1),  # right to left (rtl)\n",
    "    (1, 0),  # top to bottom (ttb)\n",
    "    (-1, 0),  # bottom to top (btt)\n",
    "    (1, 1),  # diagonal ttb ltr\n",
    "    (-1, 1),  # diagonal btt ltr\n",
    "    (1, -1),  # diagonal ttb rtl\n",
    "    (-1, -1),  # diagonal btt rtl\n",
    ")"
   ],
   "id": "7fa1532235546a49",
   "outputs": [],
   "execution_count": 298
  },
  {
   "cell_type": "code",
   "id": "1768d086825dd83d",
   "metadata": {
    "ExecuteTime": {
     "end_time": "2025-08-03T01:10:48.306457Z",
     "start_time": "2025-08-03T01:10:48.292456Z"
    }
   },
   "source": [
    "grid_example = \"\"\"MMMSXXMASM\n",
    "MSAMXMSMSA\n",
    "AMXSXMAAMM\n",
    "MSAMASMSMX\n",
    "XMASAMXAMM\n",
    "XXAMMXXAMA\n",
    "SMSMSASXSS\n",
    "SAXAMASAAA\n",
    "MAMMMXMMMM\n",
    "MXMXAXMASX\"\"\".split(\"\\n\")"
   ],
   "outputs": [],
   "execution_count": 270
  },
  {
   "cell_type": "markdown",
   "id": "5ef7de57be99988c",
   "metadata": {},
   "source": "## Part 1"
  },
  {
   "cell_type": "code",
   "id": "6e3f966753d0578a",
   "metadata": {
    "ExecuteTime": {
     "end_time": "2025-08-03T01:10:54.915920Z",
     "start_time": "2025-08-03T01:10:54.903930Z"
    }
   },
   "source": "grid = grid_example",
   "outputs": [],
   "execution_count": 273
  },
  {
   "metadata": {
    "ExecuteTime": {
     "end_time": "2025-08-03T01:21:18.382433Z",
     "start_time": "2025-08-03T01:21:18.369441Z"
    }
   },
   "cell_type": "code",
   "source": [
    "def pad_grid(grid: list[str], letters: tuple[str, ...]) -> list[str]:\n",
    "    grid_width = len(grid[0])\n",
    "\n",
    "    padding_size = len(letters) - 1\n",
    "\n",
    "    padding_top_bottom = [\n",
    "        \"#\" * (grid_width + 2 * padding_size) for _ in range(padding_size)\n",
    "    ]\n",
    "    padding_left_right = \"#\" * padding_size\n",
    "\n",
    "    padded_grid = (\n",
    "        padding_top_bottom\n",
    "        + [padding_left_right + line + padding_left_right for line in grid]\n",
    "        + padding_top_bottom\n",
    "    )\n",
    "\n",
    "    return padded_grid"
   ],
   "id": "d932256fb84d2c06",
   "outputs": [],
   "execution_count": 303
  },
  {
   "metadata": {
    "ExecuteTime": {
     "end_time": "2025-08-03T01:21:18.848452Z",
     "start_time": "2025-08-03T01:21:18.833457Z"
    }
   },
   "cell_type": "code",
   "source": "padded_grid = pad_grid(grid, letters)",
   "id": "1b82589ed938e2df",
   "outputs": [],
   "execution_count": 304
  },
  {
   "cell_type": "code",
   "id": "124e47c64834e5fb",
   "metadata": {
    "ExecuteTime": {
     "end_time": "2025-08-03T01:21:19.406053Z",
     "start_time": "2025-08-03T01:21:19.393433Z"
    }
   },
   "source": "padded_grid",
   "outputs": [
    {
     "data": {
      "text/plain": [
       "['################',\n",
       " '################',\n",
       " '################',\n",
       " '###MMMSXXMASM###',\n",
       " '###MSAMXMSMSA###',\n",
       " '###AMXSXMAAMM###',\n",
       " '###MSAMASMSMX###',\n",
       " '###XMASAMXAMM###',\n",
       " '###XXAMMXXAMA###',\n",
       " '###SMSMSASXSS###',\n",
       " '###SAXAMASAAA###',\n",
       " '###MAMMMXMMMM###',\n",
       " '###MXMXAXMASX###',\n",
       " '################',\n",
       " '################',\n",
       " '################']"
      ]
     },
     "execution_count": 305,
     "metadata": {},
     "output_type": "execute_result"
    }
   ],
   "execution_count": 305
  },
  {
   "cell_type": "code",
   "id": "3748ebe9b7eabbed",
   "metadata": {
    "ExecuteTime": {
     "end_time": "2025-08-03T01:21:20.356054Z",
     "start_time": "2025-08-03T01:21:20.341064Z"
    }
   },
   "source": [
    "def check_cell(\n",
    "    x: int,\n",
    "    y: int,\n",
    "    grid: list[str],\n",
    "    letters: tuple[str, ...],\n",
    "    moves: tuple[tuple[int, int], ...],\n",
    ") -> int:\n",
    "    total = 0\n",
    "\n",
    "    if grid[x][y] != letters[0]:\n",
    "        return total\n",
    "\n",
    "    print(grid[x][y])\n",
    "\n",
    "    for move in moves:\n",
    "        new_x = x\n",
    "        new_y = y\n",
    "        for i in range(1, len(letters)):\n",
    "            new_x += move[0]\n",
    "            new_y += move[1]\n",
    "\n",
    "            print(\" \", grid[new_x][new_y], end=\"\", sep=\"\")\n",
    "\n",
    "            if grid[new_x][new_y] != letters[i]:\n",
    "                print(\" /BREAK\")\n",
    "                break\n",
    "            if i == len(letters) - 1:\n",
    "                print(\" /FOUND\")\n",
    "                total += 1\n",
    "\n",
    "    return total"
   ],
   "outputs": [],
   "execution_count": 306
  },
  {
   "metadata": {
    "ExecuteTime": {
     "end_time": "2025-08-03T01:21:20.946390Z",
     "start_time": "2025-08-03T01:21:20.932391Z"
    }
   },
   "cell_type": "code",
   "source": [
    "def solve_grid(grid: list[str], letters: tuple[str, ...], moves: tuple[tuple[int, int], ...]) -> int:\n",
    "    grid_height = len(grid)\n",
    "    grid_width = len(grid[0])\n",
    "    padding_size = len(letters) - 1\n",
    "\n",
    "    total = 0\n",
    "\n",
    "    for i in range(padding_size, grid_height + padding_size):\n",
    "        for j in range(padding_size, grid_width + padding_size):\n",
    "            total += check_cell(i, j, grid, letters, moves)\n",
    "    return 0"
   ],
   "id": "af82f3704d67315b",
   "outputs": [],
   "execution_count": 307
  },
  {
   "cell_type": "code",
   "id": "30861fe448290e85",
   "metadata": {
    "ExecuteTime": {
     "end_time": "2025-08-03T01:21:31.400894Z",
     "start_time": "2025-08-03T01:21:31.361853Z"
    }
   },
   "source": "total = solve_grid(padded_grid, letters, moves)",
   "outputs": [
    {
     "name": "stdout",
     "output_type": "stream",
     "text": [
      "X\n",
      " X /BREAK\n",
      " S /BREAK\n",
      " X /BREAK\n",
      " # /BREAK\n",
      " M A S /FOUND\n",
      " # /BREAK\n",
      " M X /BREAK\n",
      " # /BREAK\n",
      "X\n",
      " M A S /FOUND\n",
      " X /BREAK\n",
      " M M /BREAK\n",
      " # /BREAK\n",
      " S /BREAK\n",
      " # /BREAK\n",
      " X /BREAK\n",
      " # /BREAK\n"
     ]
    },
    {
     "ename": "IndexError",
     "evalue": "string index out of range",
     "output_type": "error",
     "traceback": [
      "\u001B[1;31m---------------------------------------------------------------------------\u001B[0m",
      "\u001B[1;31mIndexError\u001B[0m                                Traceback (most recent call last)",
      "Cell \u001B[1;32mIn[310], line 1\u001B[0m\n\u001B[1;32m----> 1\u001B[0m total \u001B[38;5;241m=\u001B[39m \u001B[43msolve_grid\u001B[49m\u001B[43m(\u001B[49m\u001B[43mpadded_grid\u001B[49m\u001B[43m,\u001B[49m\u001B[43m \u001B[49m\u001B[43mletters\u001B[49m\u001B[43m,\u001B[49m\u001B[43m \u001B[49m\u001B[43mmoves\u001B[49m\u001B[43m)\u001B[49m\n",
      "Cell \u001B[1;32mIn[307], line 10\u001B[0m, in \u001B[0;36msolve_grid\u001B[1;34m(grid, letters, moves)\u001B[0m\n\u001B[0;32m      8\u001B[0m \u001B[38;5;28;01mfor\u001B[39;00m i \u001B[38;5;129;01min\u001B[39;00m \u001B[38;5;28mrange\u001B[39m(padding_size, grid_height \u001B[38;5;241m+\u001B[39m padding_size):\n\u001B[0;32m      9\u001B[0m     \u001B[38;5;28;01mfor\u001B[39;00m j \u001B[38;5;129;01min\u001B[39;00m \u001B[38;5;28mrange\u001B[39m(padding_size, grid_width \u001B[38;5;241m+\u001B[39m padding_size):\n\u001B[1;32m---> 10\u001B[0m         total \u001B[38;5;241m+\u001B[39m\u001B[38;5;241m=\u001B[39m \u001B[43mcheck_cell\u001B[49m\u001B[43m(\u001B[49m\u001B[43mi\u001B[49m\u001B[43m,\u001B[49m\u001B[43m \u001B[49m\u001B[43mj\u001B[49m\u001B[43m,\u001B[49m\u001B[43m \u001B[49m\u001B[43mgrid\u001B[49m\u001B[43m,\u001B[49m\u001B[43m \u001B[49m\u001B[43mletters\u001B[49m\u001B[43m,\u001B[49m\u001B[43m \u001B[49m\u001B[43mmoves\u001B[49m\u001B[43m)\u001B[49m\n\u001B[0;32m     11\u001B[0m \u001B[38;5;28;01mreturn\u001B[39;00m \u001B[38;5;241m0\u001B[39m\n",
      "Cell \u001B[1;32mIn[306], line 10\u001B[0m, in \u001B[0;36mcheck_cell\u001B[1;34m(x, y, grid, letters, moves)\u001B[0m\n\u001B[0;32m      1\u001B[0m \u001B[38;5;28;01mdef\u001B[39;00m\u001B[38;5;250m \u001B[39m\u001B[38;5;21mcheck_cell\u001B[39m(\n\u001B[0;32m      2\u001B[0m     x: \u001B[38;5;28mint\u001B[39m,\n\u001B[0;32m      3\u001B[0m     y: \u001B[38;5;28mint\u001B[39m,\n\u001B[1;32m   (...)\u001B[0m\n\u001B[0;32m      6\u001B[0m     moves: \u001B[38;5;28mtuple\u001B[39m[\u001B[38;5;28mtuple\u001B[39m[\u001B[38;5;28mint\u001B[39m, \u001B[38;5;28mint\u001B[39m], \u001B[38;5;241m.\u001B[39m\u001B[38;5;241m.\u001B[39m\u001B[38;5;241m.\u001B[39m],\n\u001B[0;32m      7\u001B[0m ) \u001B[38;5;241m-\u001B[39m\u001B[38;5;241m>\u001B[39m \u001B[38;5;28mint\u001B[39m:\n\u001B[0;32m      8\u001B[0m     total \u001B[38;5;241m=\u001B[39m \u001B[38;5;241m0\u001B[39m\n\u001B[1;32m---> 10\u001B[0m     \u001B[38;5;28;01mif\u001B[39;00m \u001B[43mgrid\u001B[49m\u001B[43m[\u001B[49m\u001B[43mx\u001B[49m\u001B[43m]\u001B[49m\u001B[43m[\u001B[49m\u001B[43my\u001B[49m\u001B[43m]\u001B[49m \u001B[38;5;241m!=\u001B[39m letters[\u001B[38;5;241m0\u001B[39m]:\n\u001B[0;32m     11\u001B[0m         \u001B[38;5;28;01mreturn\u001B[39;00m total\n\u001B[0;32m     13\u001B[0m     \u001B[38;5;28mprint\u001B[39m(grid[x][y])\n",
      "\u001B[1;31mIndexError\u001B[0m: string index out of range"
     ]
    }
   ],
   "execution_count": 310
  },
  {
   "cell_type": "code",
   "id": "d0a06168e6a64f7c",
   "metadata": {
    "ExecuteTime": {
     "end_time": "2025-08-03T01:21:31.526973Z",
     "start_time": "2025-08-03T01:21:31.512971Z"
    }
   },
   "source": "total",
   "outputs": [
    {
     "data": {
      "text/plain": [
       "18"
      ]
     },
     "execution_count": 311,
     "metadata": {},
     "output_type": "execute_result"
    }
   ],
   "execution_count": 311
  },
  {
   "cell_type": "code",
   "execution_count": null,
   "id": "9f50d6ede2f27e7b",
   "metadata": {},
   "outputs": [],
   "source": []
  },
  {
   "cell_type": "markdown",
   "id": "f12bbf3db91e270b",
   "metadata": {},
   "source": "Answer is 2970687"
  },
  {
   "cell_type": "markdown",
   "id": "743e9a74f0baa3b4",
   "metadata": {},
   "source": "## Part 2"
  },
  {
   "cell_type": "code",
   "execution_count": 94,
   "id": "bcfd57e00d787d42",
   "metadata": {
    "ExecuteTime": {
     "end_time": "2025-07-31T16:56:39.358633Z",
     "start_time": "2025-07-31T16:56:39.344634Z"
    }
   },
   "outputs": [],
   "source": [
    "from collections import defaultdict"
   ]
  },
  {
   "cell_type": "code",
   "execution_count": 97,
   "id": "b7523c6487230d9f",
   "metadata": {
    "ExecuteTime": {
     "end_time": "2025-07-31T16:58:17.366403Z",
     "start_time": "2025-07-31T16:58:17.353402Z"
    }
   },
   "outputs": [],
   "source": [
    "def solve_day1_part2(df: pd.DataFrame) -> int:\n",
    "    col1 = df[0]\n",
    "    col2 = df[1]\n",
    "    nb_occurrences: defaultdict[int, int] = defaultdict(int)\n",
    "\n",
    "    for number in col2:\n",
    "        nb_occurrences[number] += 1\n",
    "\n",
    "    similarity_score = 0\n",
    "    for number in col1:\n",
    "        similarity_score += nb_occurrences[number] * number\n",
    "\n",
    "    return similarity_score"
   ]
  },
  {
   "cell_type": "code",
   "execution_count": 98,
   "id": "7f9f174cdba0ff9b",
   "metadata": {
    "ExecuteTime": {
     "end_time": "2025-07-31T16:58:17.567401Z",
     "start_time": "2025-07-31T16:58:17.555403Z"
    }
   },
   "outputs": [
    {
     "data": {
      "text/plain": [
       "31"
      ]
     },
     "execution_count": 98,
     "metadata": {},
     "output_type": "execute_result"
    }
   ],
   "source": [
    "solve_day1_part2(df_example_day1)"
   ]
  },
  {
   "cell_type": "code",
   "execution_count": 99,
   "id": "5c103205142c16a9",
   "metadata": {
    "ExecuteTime": {
     "end_time": "2025-07-31T16:58:26.950819Z",
     "start_time": "2025-07-31T16:58:26.939819Z"
    }
   },
   "outputs": [
    {
     "data": {
      "text/plain": [
       "23963899"
      ]
     },
     "execution_count": 99,
     "metadata": {},
     "output_type": "execute_result"
    }
   ],
   "source": [
    "solve_day1_part2(df_day1)"
   ]
  },
  {
   "cell_type": "markdown",
   "id": "81d5a40b28e5b732",
   "metadata": {},
   "source": "Answer is 23963899"
  },
  {
   "cell_type": "code",
   "execution_count": null,
   "id": "b2511549c8c1f187",
   "metadata": {},
   "outputs": [],
   "source": []
  }
 ],
 "metadata": {
  "kernelspec": {
   "display_name": "Python 3",
   "language": "python",
   "name": "python3"
  },
  "language_info": {
   "codemirror_mode": {
    "name": "ipython",
    "version": 2
   },
   "file_extension": ".py",
   "mimetype": "text/x-python",
   "name": "python",
   "nbconvert_exporter": "python",
   "pygments_lexer": "ipython2",
   "version": "2.7.6"
  }
 },
 "nbformat": 4,
 "nbformat_minor": 5
}
