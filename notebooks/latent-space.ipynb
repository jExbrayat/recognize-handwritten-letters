{
 "cells": [
  {
   "cell_type": "code",
   "execution_count": 22,
   "id": "4878b346f4f4e61f",
   "metadata": {
    "ExecuteTime": {
     "end_time": "2025-07-22T14:53:41.760425Z",
     "start_time": "2025-07-22T14:53:41.746428Z"
    }
   },
   "outputs": [],
   "source": [
    "import os\n",
    "\n",
    "os.environ[\"KERAS_BACKEND\"] = \"torch\"\n",
    "\n",
    "import numpy as np\n",
    "\n",
    "from keras.src.callbacks import History\n",
    "from keras.src.losses import MeanSquaredError\n",
    "from keras.src.optimizers import Adam\n",
    "\n",
    "from src.data.preprocessing import preprocess\n",
    "from src.plot.image import plot_grid_of_letters\n",
    "\n",
    "from keras import Sequential, Model\n",
    "\n",
    "from keras.src.layers import (\n",
    "    Dense,\n",
    "    Input,\n",
    "    MaxPooling2D,\n",
    "    Conv2DTranspose,\n",
    "    Conv2D,\n",
    "    Activation,\n",
    "    Reshape,\n",
    "    UpSampling2D,\n",
    "    Cropping2D,\n",
    "    Flatten,\n",
    ")\n",
    "\n",
    "from src.data.load_data import load_sample_train_test\n",
    "from matplotlib import pyplot as plt\n",
    "\n",
    "from src.utils.constants import img_dimension, img_shape_flat, img_shape\n",
    "from src.utils.misc import init_notebook\n",
    "from src.models.callbacks import history, early_stopping"
   ]
  },
  {
   "cell_type": "code",
   "execution_count": 2,
   "id": "3c9ac7a7ce18930d",
   "metadata": {
    "ExecuteTime": {
     "end_time": "2025-07-22T13:49:02.062474Z",
     "start_time": "2025-07-22T13:49:02.042476Z"
    }
   },
   "outputs": [
    {
     "data": {
      "text/plain": [
       "Generator(PCG64) at 0x19AADF666C0"
      ]
     },
     "execution_count": 2,
     "metadata": {},
     "output_type": "execute_result"
    }
   ],
   "source": [
    "init_notebook()"
   ]
  },
  {
   "cell_type": "code",
   "execution_count": 3,
   "id": "initial_id",
   "metadata": {
    "ExecuteTime": {
     "end_time": "2025-07-22T13:49:02.669634Z",
     "start_time": "2025-07-22T13:49:02.250475Z"
    },
    "collapsed": true
   },
   "outputs": [],
   "source": [
    "x_train, x_test, y_train, y_test = load_sample_train_test()"
   ]
  },
  {
   "cell_type": "code",
   "execution_count": 4,
   "id": "bbb10588e1b546ad",
   "metadata": {
    "ExecuteTime": {
     "end_time": "2025-07-22T13:49:02.700669Z",
     "start_time": "2025-07-22T13:49:02.685602Z"
    }
   },
   "outputs": [],
   "source": [
    "x_train = preprocess(x_train)\n",
    "x_test = preprocess(x_test)"
   ]
  },
  {
   "cell_type": "code",
   "execution_count": 5,
   "id": "6ae67b3799e0fba3",
   "metadata": {
    "ExecuteTime": {
     "end_time": "2025-07-22T13:49:02.731668Z",
     "start_time": "2025-07-22T13:49:02.718669Z"
    }
   },
   "outputs": [
    {
     "data": {
      "text/plain": [
       "(2392, 784)"
      ]
     },
     "execution_count": 5,
     "metadata": {},
     "output_type": "execute_result"
    }
   ],
   "source": [
    "x_train.shape"
   ]
  },
  {
   "cell_type": "code",
   "execution_count": 79,
   "id": "bd06cf35a7887213",
   "metadata": {
    "ExecuteTime": {
     "end_time": "2025-07-22T17:00:21.551919Z",
     "start_time": "2025-07-22T17:00:21.538919Z"
    }
   },
   "outputs": [],
   "source": [
    "def build_encoder() -> Model:\n",
    "    # Input\n",
    "    input_layer = Input(shape=(784,))\n",
    "    reshape_layer = Reshape((28, 28, 1))(input_layer)\n",
    "\n",
    "    # Encoder\n",
    "    conv_layer1 = Conv2D(32, kernel_size=(3, 3), activation=\"relu\", padding=\"same\")(\n",
    "        reshape_layer\n",
    "    )  # 28x28x32\n",
    "    maxpool_layer1 = MaxPooling2D(padding=\"same\")(conv_layer1)  # 14x14x32\n",
    "\n",
    "    conv_layer2 = Conv2D(16, kernel_size=(3, 3), activation=\"relu\", padding=\"same\")(\n",
    "        maxpool_layer1\n",
    "    )  # 28x28x32\n",
    "    maxpool_layer2 = MaxPooling2D(padding=\"same\")(conv_layer2)  # 14x14x32\n",
    "\n",
    "    flatten_layer = Flatten()(maxpool_layer2)\n",
    "    dense_layer = Dense(64)(flatten_layer)\n",
    "\n",
    "    # Model\n",
    "    encoder_model = Model(inputs=input_layer, outputs=dense_layer, name=\"encoder\")\n",
    "\n",
    "    return encoder_model"
   ]
  },
  {
   "cell_type": "code",
   "execution_count": 81,
   "id": "9a532ce8c39e129",
   "metadata": {
    "ExecuteTime": {
     "end_time": "2025-07-22T17:00:34.102380Z",
     "start_time": "2025-07-22T17:00:34.075165Z"
    }
   },
   "outputs": [
    {
     "data": {
      "text/html": [
       "<pre style=\"white-space:pre;overflow-x:auto;line-height:normal;font-family:Menlo,'DejaVu Sans Mono',consolas,'Courier New',monospace\"><span style=\"font-weight: bold\">Model: \"encoder\"</span>\n",
       "</pre>\n"
      ],
      "text/plain": [
       "\u001b[1mModel: \"encoder\"\u001b[0m\n"
      ]
     },
     "metadata": {},
     "output_type": "display_data"
    },
    {
     "data": {
      "text/html": [
       "<pre style=\"white-space:pre;overflow-x:auto;line-height:normal;font-family:Menlo,'DejaVu Sans Mono',consolas,'Courier New',monospace\">┏━━━━━━━━━━━━━━━━━━━━━━━━━━━━━━━━━┳━━━━━━━━━━━━━━━━━━━━━━━━┳━━━━━━━━━━━━━━━┓\n",
       "┃<span style=\"font-weight: bold\"> Layer (type)                    </span>┃<span style=\"font-weight: bold\"> Output Shape           </span>┃<span style=\"font-weight: bold\">       Param # </span>┃\n",
       "┡━━━━━━━━━━━━━━━━━━━━━━━━━━━━━━━━━╇━━━━━━━━━━━━━━━━━━━━━━━━╇━━━━━━━━━━━━━━━┩\n",
       "│ input_layer_18 (<span style=\"color: #0087ff; text-decoration-color: #0087ff\">InputLayer</span>)     │ (<span style=\"color: #00d7ff; text-decoration-color: #00d7ff\">None</span>, <span style=\"color: #00af00; text-decoration-color: #00af00\">784</span>)            │             <span style=\"color: #00af00; text-decoration-color: #00af00\">0</span> │\n",
       "├─────────────────────────────────┼────────────────────────┼───────────────┤\n",
       "│ reshape_13 (<span style=\"color: #0087ff; text-decoration-color: #0087ff\">Reshape</span>)            │ (<span style=\"color: #00d7ff; text-decoration-color: #00d7ff\">None</span>, <span style=\"color: #00af00; text-decoration-color: #00af00\">28</span>, <span style=\"color: #00af00; text-decoration-color: #00af00\">28</span>, <span style=\"color: #00af00; text-decoration-color: #00af00\">1</span>)      │             <span style=\"color: #00af00; text-decoration-color: #00af00\">0</span> │\n",
       "├─────────────────────────────────┼────────────────────────┼───────────────┤\n",
       "│ conv2d_14 (<span style=\"color: #0087ff; text-decoration-color: #0087ff\">Conv2D</span>)              │ (<span style=\"color: #00d7ff; text-decoration-color: #00d7ff\">None</span>, <span style=\"color: #00af00; text-decoration-color: #00af00\">28</span>, <span style=\"color: #00af00; text-decoration-color: #00af00\">28</span>, <span style=\"color: #00af00; text-decoration-color: #00af00\">32</span>)     │           <span style=\"color: #00af00; text-decoration-color: #00af00\">320</span> │\n",
       "├─────────────────────────────────┼────────────────────────┼───────────────┤\n",
       "│ max_pooling2d_14 (<span style=\"color: #0087ff; text-decoration-color: #0087ff\">MaxPooling2D</span>) │ (<span style=\"color: #00d7ff; text-decoration-color: #00d7ff\">None</span>, <span style=\"color: #00af00; text-decoration-color: #00af00\">14</span>, <span style=\"color: #00af00; text-decoration-color: #00af00\">14</span>, <span style=\"color: #00af00; text-decoration-color: #00af00\">32</span>)     │             <span style=\"color: #00af00; text-decoration-color: #00af00\">0</span> │\n",
       "├─────────────────────────────────┼────────────────────────┼───────────────┤\n",
       "│ conv2d_15 (<span style=\"color: #0087ff; text-decoration-color: #0087ff\">Conv2D</span>)              │ (<span style=\"color: #00d7ff; text-decoration-color: #00d7ff\">None</span>, <span style=\"color: #00af00; text-decoration-color: #00af00\">14</span>, <span style=\"color: #00af00; text-decoration-color: #00af00\">14</span>, <span style=\"color: #00af00; text-decoration-color: #00af00\">16</span>)     │         <span style=\"color: #00af00; text-decoration-color: #00af00\">4,624</span> │\n",
       "├─────────────────────────────────┼────────────────────────┼───────────────┤\n",
       "│ max_pooling2d_15 (<span style=\"color: #0087ff; text-decoration-color: #0087ff\">MaxPooling2D</span>) │ (<span style=\"color: #00d7ff; text-decoration-color: #00d7ff\">None</span>, <span style=\"color: #00af00; text-decoration-color: #00af00\">7</span>, <span style=\"color: #00af00; text-decoration-color: #00af00\">7</span>, <span style=\"color: #00af00; text-decoration-color: #00af00\">16</span>)       │             <span style=\"color: #00af00; text-decoration-color: #00af00\">0</span> │\n",
       "├─────────────────────────────────┼────────────────────────┼───────────────┤\n",
       "│ flatten_8 (<span style=\"color: #0087ff; text-decoration-color: #0087ff\">Flatten</span>)             │ (<span style=\"color: #00d7ff; text-decoration-color: #00d7ff\">None</span>, <span style=\"color: #00af00; text-decoration-color: #00af00\">784</span>)            │             <span style=\"color: #00af00; text-decoration-color: #00af00\">0</span> │\n",
       "├─────────────────────────────────┼────────────────────────┼───────────────┤\n",
       "│ dense_10 (<span style=\"color: #0087ff; text-decoration-color: #0087ff\">Dense</span>)                │ (<span style=\"color: #00d7ff; text-decoration-color: #00d7ff\">None</span>, <span style=\"color: #00af00; text-decoration-color: #00af00\">64</span>)             │        <span style=\"color: #00af00; text-decoration-color: #00af00\">50,240</span> │\n",
       "└─────────────────────────────────┴────────────────────────┴───────────────┘\n",
       "</pre>\n"
      ],
      "text/plain": [
       "┏━━━━━━━━━━━━━━━━━━━━━━━━━━━━━━━━━┳━━━━━━━━━━━━━━━━━━━━━━━━┳━━━━━━━━━━━━━━━┓\n",
       "┃\u001b[1m \u001b[0m\u001b[1mLayer (type)                   \u001b[0m\u001b[1m \u001b[0m┃\u001b[1m \u001b[0m\u001b[1mOutput Shape          \u001b[0m\u001b[1m \u001b[0m┃\u001b[1m \u001b[0m\u001b[1m      Param #\u001b[0m\u001b[1m \u001b[0m┃\n",
       "┡━━━━━━━━━━━━━━━━━━━━━━━━━━━━━━━━━╇━━━━━━━━━━━━━━━━━━━━━━━━╇━━━━━━━━━━━━━━━┩\n",
       "│ input_layer_18 (\u001b[38;5;33mInputLayer\u001b[0m)     │ (\u001b[38;5;45mNone\u001b[0m, \u001b[38;5;34m784\u001b[0m)            │             \u001b[38;5;34m0\u001b[0m │\n",
       "├─────────────────────────────────┼────────────────────────┼───────────────┤\n",
       "│ reshape_13 (\u001b[38;5;33mReshape\u001b[0m)            │ (\u001b[38;5;45mNone\u001b[0m, \u001b[38;5;34m28\u001b[0m, \u001b[38;5;34m28\u001b[0m, \u001b[38;5;34m1\u001b[0m)      │             \u001b[38;5;34m0\u001b[0m │\n",
       "├─────────────────────────────────┼────────────────────────┼───────────────┤\n",
       "│ conv2d_14 (\u001b[38;5;33mConv2D\u001b[0m)              │ (\u001b[38;5;45mNone\u001b[0m, \u001b[38;5;34m28\u001b[0m, \u001b[38;5;34m28\u001b[0m, \u001b[38;5;34m32\u001b[0m)     │           \u001b[38;5;34m320\u001b[0m │\n",
       "├─────────────────────────────────┼────────────────────────┼───────────────┤\n",
       "│ max_pooling2d_14 (\u001b[38;5;33mMaxPooling2D\u001b[0m) │ (\u001b[38;5;45mNone\u001b[0m, \u001b[38;5;34m14\u001b[0m, \u001b[38;5;34m14\u001b[0m, \u001b[38;5;34m32\u001b[0m)     │             \u001b[38;5;34m0\u001b[0m │\n",
       "├─────────────────────────────────┼────────────────────────┼───────────────┤\n",
       "│ conv2d_15 (\u001b[38;5;33mConv2D\u001b[0m)              │ (\u001b[38;5;45mNone\u001b[0m, \u001b[38;5;34m14\u001b[0m, \u001b[38;5;34m14\u001b[0m, \u001b[38;5;34m16\u001b[0m)     │         \u001b[38;5;34m4,624\u001b[0m │\n",
       "├─────────────────────────────────┼────────────────────────┼───────────────┤\n",
       "│ max_pooling2d_15 (\u001b[38;5;33mMaxPooling2D\u001b[0m) │ (\u001b[38;5;45mNone\u001b[0m, \u001b[38;5;34m7\u001b[0m, \u001b[38;5;34m7\u001b[0m, \u001b[38;5;34m16\u001b[0m)       │             \u001b[38;5;34m0\u001b[0m │\n",
       "├─────────────────────────────────┼────────────────────────┼───────────────┤\n",
       "│ flatten_8 (\u001b[38;5;33mFlatten\u001b[0m)             │ (\u001b[38;5;45mNone\u001b[0m, \u001b[38;5;34m784\u001b[0m)            │             \u001b[38;5;34m0\u001b[0m │\n",
       "├─────────────────────────────────┼────────────────────────┼───────────────┤\n",
       "│ dense_10 (\u001b[38;5;33mDense\u001b[0m)                │ (\u001b[38;5;45mNone\u001b[0m, \u001b[38;5;34m64\u001b[0m)             │        \u001b[38;5;34m50,240\u001b[0m │\n",
       "└─────────────────────────────────┴────────────────────────┴───────────────┘\n"
      ]
     },
     "metadata": {},
     "output_type": "display_data"
    },
    {
     "data": {
      "text/html": [
       "<pre style=\"white-space:pre;overflow-x:auto;line-height:normal;font-family:Menlo,'DejaVu Sans Mono',consolas,'Courier New',monospace\"><span style=\"font-weight: bold\"> Total params: </span><span style=\"color: #00af00; text-decoration-color: #00af00\">55,184</span> (215.56 KB)\n",
       "</pre>\n"
      ],
      "text/plain": [
       "\u001b[1m Total params: \u001b[0m\u001b[38;5;34m55,184\u001b[0m (215.56 KB)\n"
      ]
     },
     "metadata": {},
     "output_type": "display_data"
    },
    {
     "data": {
      "text/html": [
       "<pre style=\"white-space:pre;overflow-x:auto;line-height:normal;font-family:Menlo,'DejaVu Sans Mono',consolas,'Courier New',monospace\"><span style=\"font-weight: bold\"> Trainable params: </span><span style=\"color: #00af00; text-decoration-color: #00af00\">55,184</span> (215.56 KB)\n",
       "</pre>\n"
      ],
      "text/plain": [
       "\u001b[1m Trainable params: \u001b[0m\u001b[38;5;34m55,184\u001b[0m (215.56 KB)\n"
      ]
     },
     "metadata": {},
     "output_type": "display_data"
    },
    {
     "data": {
      "text/html": [
       "<pre style=\"white-space:pre;overflow-x:auto;line-height:normal;font-family:Menlo,'DejaVu Sans Mono',consolas,'Courier New',monospace\"><span style=\"font-weight: bold\"> Non-trainable params: </span><span style=\"color: #00af00; text-decoration-color: #00af00\">0</span> (0.00 B)\n",
       "</pre>\n"
      ],
      "text/plain": [
       "\u001b[1m Non-trainable params: \u001b[0m\u001b[38;5;34m0\u001b[0m (0.00 B)\n"
      ]
     },
     "metadata": {},
     "output_type": "display_data"
    }
   ],
   "source": [
    "e = build_encoder()\n",
    "e.summary()"
   ]
  },
  {
   "cell_type": "code",
   "execution_count": 98,
   "id": "be9a589b3043c12c",
   "metadata": {
    "ExecuteTime": {
     "end_time": "2025-07-22T17:05:18.878849Z",
     "start_time": "2025-07-22T17:05:18.863850Z"
    }
   },
   "outputs": [],
   "source": [
    "def build_decoder() -> Model:\n",
    "    # Input\n",
    "    input_layer = Input(shape=(64,))\n",
    "\n",
    "    # Decoder\n",
    "    # Projection vers un tenseur de forme (7, 7, 32)\n",
    "    x = Dense(7 * 7 * 32, activation=\"relu\")(input_layer)\n",
    "    x = Reshape((7, 7, 32))(x)\n",
    "\n",
    "    # Upsampling + convolution transpose pour reconstruire\n",
    "    x = Conv2DTranspose(\n",
    "        16, kernel_size=3, strides=2, padding=\"same\", activation=\"relu\"\n",
    "    )(x)  # -> (14, 14, 16)\n",
    "    x = Conv2DTranspose(\n",
    "        32, kernel_size=3, strides=2, padding=\"same\", activation=\"relu\"\n",
    "    )(x)  # -> (28, 28, 32)\n",
    "\n",
    "    # Dernière couche pour revenir à 1 canal (grayscale)\n",
    "    output_img = Conv2DTranspose(\n",
    "        1, kernel_size=3, padding=\"same\", activation=\"sigmoid\"\n",
    "    )(x)  # -> (28, 28, 1)\n",
    "\n",
    "    # Output\n",
    "    # Flatten pour correspondre à l'entrée (784,)\n",
    "    output_layer = Reshape((784,))(output_img)\n",
    "\n",
    "    # Model\n",
    "    decoder_model = Model(inputs=input_layer, outputs=output_layer, name=\"decoder\")\n",
    "\n",
    "    return decoder_model"
   ]
  },
  {
   "cell_type": "code",
   "execution_count": 99,
   "id": "4ad43cae012f46f2",
   "metadata": {
    "ExecuteTime": {
     "end_time": "2025-07-22T17:05:19.110325Z",
     "start_time": "2025-07-22T17:05:19.067328Z"
    }
   },
   "outputs": [
    {
     "data": {
      "text/html": [
       "<pre style=\"white-space:pre;overflow-x:auto;line-height:normal;font-family:Menlo,'DejaVu Sans Mono',consolas,'Courier New',monospace\"><span style=\"font-weight: bold\">Model: \"decoder\"</span>\n",
       "</pre>\n"
      ],
      "text/plain": [
       "\u001b[1mModel: \"decoder\"\u001b[0m\n"
      ]
     },
     "metadata": {},
     "output_type": "display_data"
    },
    {
     "data": {
      "text/html": [
       "<pre style=\"white-space:pre;overflow-x:auto;line-height:normal;font-family:Menlo,'DejaVu Sans Mono',consolas,'Courier New',monospace\">┏━━━━━━━━━━━━━━━━━━━━━━━━━━━━━━━━━┳━━━━━━━━━━━━━━━━━━━━━━━━┳━━━━━━━━━━━━━━━┓\n",
       "┃<span style=\"font-weight: bold\"> Layer (type)                    </span>┃<span style=\"font-weight: bold\"> Output Shape           </span>┃<span style=\"font-weight: bold\">       Param # </span>┃\n",
       "┡━━━━━━━━━━━━━━━━━━━━━━━━━━━━━━━━━╇━━━━━━━━━━━━━━━━━━━━━━━━╇━━━━━━━━━━━━━━━┩\n",
       "│ input_layer_26 (<span style=\"color: #0087ff; text-decoration-color: #0087ff\">InputLayer</span>)     │ (<span style=\"color: #00d7ff; text-decoration-color: #00d7ff\">None</span>, <span style=\"color: #00af00; text-decoration-color: #00af00\">64</span>)             │             <span style=\"color: #00af00; text-decoration-color: #00af00\">0</span> │\n",
       "├─────────────────────────────────┼────────────────────────┼───────────────┤\n",
       "│ dense_18 (<span style=\"color: #0087ff; text-decoration-color: #0087ff\">Dense</span>)                │ (<span style=\"color: #00d7ff; text-decoration-color: #00d7ff\">None</span>, <span style=\"color: #00af00; text-decoration-color: #00af00\">1568</span>)           │       <span style=\"color: #00af00; text-decoration-color: #00af00\">101,920</span> │\n",
       "├─────────────────────────────────┼────────────────────────┼───────────────┤\n",
       "│ reshape_20 (<span style=\"color: #0087ff; text-decoration-color: #0087ff\">Reshape</span>)            │ (<span style=\"color: #00d7ff; text-decoration-color: #00d7ff\">None</span>, <span style=\"color: #00af00; text-decoration-color: #00af00\">7</span>, <span style=\"color: #00af00; text-decoration-color: #00af00\">7</span>, <span style=\"color: #00af00; text-decoration-color: #00af00\">32</span>)       │             <span style=\"color: #00af00; text-decoration-color: #00af00\">0</span> │\n",
       "├─────────────────────────────────┼────────────────────────┼───────────────┤\n",
       "│ conv2d_transpose_13             │ (<span style=\"color: #00d7ff; text-decoration-color: #00d7ff\">None</span>, <span style=\"color: #00af00; text-decoration-color: #00af00\">14</span>, <span style=\"color: #00af00; text-decoration-color: #00af00\">14</span>, <span style=\"color: #00af00; text-decoration-color: #00af00\">16</span>)     │         <span style=\"color: #00af00; text-decoration-color: #00af00\">4,624</span> │\n",
       "│ (<span style=\"color: #0087ff; text-decoration-color: #0087ff\">Conv2DTranspose</span>)               │                        │               │\n",
       "├─────────────────────────────────┼────────────────────────┼───────────────┤\n",
       "│ conv2d_transpose_14             │ (<span style=\"color: #00d7ff; text-decoration-color: #00d7ff\">None</span>, <span style=\"color: #00af00; text-decoration-color: #00af00\">28</span>, <span style=\"color: #00af00; text-decoration-color: #00af00\">28</span>, <span style=\"color: #00af00; text-decoration-color: #00af00\">32</span>)     │         <span style=\"color: #00af00; text-decoration-color: #00af00\">4,640</span> │\n",
       "│ (<span style=\"color: #0087ff; text-decoration-color: #0087ff\">Conv2DTranspose</span>)               │                        │               │\n",
       "├─────────────────────────────────┼────────────────────────┼───────────────┤\n",
       "│ conv2d_transpose_15             │ (<span style=\"color: #00d7ff; text-decoration-color: #00d7ff\">None</span>, <span style=\"color: #00af00; text-decoration-color: #00af00\">28</span>, <span style=\"color: #00af00; text-decoration-color: #00af00\">28</span>, <span style=\"color: #00af00; text-decoration-color: #00af00\">1</span>)      │           <span style=\"color: #00af00; text-decoration-color: #00af00\">289</span> │\n",
       "│ (<span style=\"color: #0087ff; text-decoration-color: #0087ff\">Conv2DTranspose</span>)               │                        │               │\n",
       "├─────────────────────────────────┼────────────────────────┼───────────────┤\n",
       "│ reshape_21 (<span style=\"color: #0087ff; text-decoration-color: #0087ff\">Reshape</span>)            │ (<span style=\"color: #00d7ff; text-decoration-color: #00d7ff\">None</span>, <span style=\"color: #00af00; text-decoration-color: #00af00\">784</span>)            │             <span style=\"color: #00af00; text-decoration-color: #00af00\">0</span> │\n",
       "└─────────────────────────────────┴────────────────────────┴───────────────┘\n",
       "</pre>\n"
      ],
      "text/plain": [
       "┏━━━━━━━━━━━━━━━━━━━━━━━━━━━━━━━━━┳━━━━━━━━━━━━━━━━━━━━━━━━┳━━━━━━━━━━━━━━━┓\n",
       "┃\u001b[1m \u001b[0m\u001b[1mLayer (type)                   \u001b[0m\u001b[1m \u001b[0m┃\u001b[1m \u001b[0m\u001b[1mOutput Shape          \u001b[0m\u001b[1m \u001b[0m┃\u001b[1m \u001b[0m\u001b[1m      Param #\u001b[0m\u001b[1m \u001b[0m┃\n",
       "┡━━━━━━━━━━━━━━━━━━━━━━━━━━━━━━━━━╇━━━━━━━━━━━━━━━━━━━━━━━━╇━━━━━━━━━━━━━━━┩\n",
       "│ input_layer_26 (\u001b[38;5;33mInputLayer\u001b[0m)     │ (\u001b[38;5;45mNone\u001b[0m, \u001b[38;5;34m64\u001b[0m)             │             \u001b[38;5;34m0\u001b[0m │\n",
       "├─────────────────────────────────┼────────────────────────┼───────────────┤\n",
       "│ dense_18 (\u001b[38;5;33mDense\u001b[0m)                │ (\u001b[38;5;45mNone\u001b[0m, \u001b[38;5;34m1568\u001b[0m)           │       \u001b[38;5;34m101,920\u001b[0m │\n",
       "├─────────────────────────────────┼────────────────────────┼───────────────┤\n",
       "│ reshape_20 (\u001b[38;5;33mReshape\u001b[0m)            │ (\u001b[38;5;45mNone\u001b[0m, \u001b[38;5;34m7\u001b[0m, \u001b[38;5;34m7\u001b[0m, \u001b[38;5;34m32\u001b[0m)       │             \u001b[38;5;34m0\u001b[0m │\n",
       "├─────────────────────────────────┼────────────────────────┼───────────────┤\n",
       "│ conv2d_transpose_13             │ (\u001b[38;5;45mNone\u001b[0m, \u001b[38;5;34m14\u001b[0m, \u001b[38;5;34m14\u001b[0m, \u001b[38;5;34m16\u001b[0m)     │         \u001b[38;5;34m4,624\u001b[0m │\n",
       "│ (\u001b[38;5;33mConv2DTranspose\u001b[0m)               │                        │               │\n",
       "├─────────────────────────────────┼────────────────────────┼───────────────┤\n",
       "│ conv2d_transpose_14             │ (\u001b[38;5;45mNone\u001b[0m, \u001b[38;5;34m28\u001b[0m, \u001b[38;5;34m28\u001b[0m, \u001b[38;5;34m32\u001b[0m)     │         \u001b[38;5;34m4,640\u001b[0m │\n",
       "│ (\u001b[38;5;33mConv2DTranspose\u001b[0m)               │                        │               │\n",
       "├─────────────────────────────────┼────────────────────────┼───────────────┤\n",
       "│ conv2d_transpose_15             │ (\u001b[38;5;45mNone\u001b[0m, \u001b[38;5;34m28\u001b[0m, \u001b[38;5;34m28\u001b[0m, \u001b[38;5;34m1\u001b[0m)      │           \u001b[38;5;34m289\u001b[0m │\n",
       "│ (\u001b[38;5;33mConv2DTranspose\u001b[0m)               │                        │               │\n",
       "├─────────────────────────────────┼────────────────────────┼───────────────┤\n",
       "│ reshape_21 (\u001b[38;5;33mReshape\u001b[0m)            │ (\u001b[38;5;45mNone\u001b[0m, \u001b[38;5;34m784\u001b[0m)            │             \u001b[38;5;34m0\u001b[0m │\n",
       "└─────────────────────────────────┴────────────────────────┴───────────────┘\n"
      ]
     },
     "metadata": {},
     "output_type": "display_data"
    },
    {
     "data": {
      "text/html": [
       "<pre style=\"white-space:pre;overflow-x:auto;line-height:normal;font-family:Menlo,'DejaVu Sans Mono',consolas,'Courier New',monospace\"><span style=\"font-weight: bold\"> Total params: </span><span style=\"color: #00af00; text-decoration-color: #00af00\">111,473</span> (435.44 KB)\n",
       "</pre>\n"
      ],
      "text/plain": [
       "\u001b[1m Total params: \u001b[0m\u001b[38;5;34m111,473\u001b[0m (435.44 KB)\n"
      ]
     },
     "metadata": {},
     "output_type": "display_data"
    },
    {
     "data": {
      "text/html": [
       "<pre style=\"white-space:pre;overflow-x:auto;line-height:normal;font-family:Menlo,'DejaVu Sans Mono',consolas,'Courier New',monospace\"><span style=\"font-weight: bold\"> Trainable params: </span><span style=\"color: #00af00; text-decoration-color: #00af00\">111,473</span> (435.44 KB)\n",
       "</pre>\n"
      ],
      "text/plain": [
       "\u001b[1m Trainable params: \u001b[0m\u001b[38;5;34m111,473\u001b[0m (435.44 KB)\n"
      ]
     },
     "metadata": {},
     "output_type": "display_data"
    },
    {
     "data": {
      "text/html": [
       "<pre style=\"white-space:pre;overflow-x:auto;line-height:normal;font-family:Menlo,'DejaVu Sans Mono',consolas,'Courier New',monospace\"><span style=\"font-weight: bold\"> Non-trainable params: </span><span style=\"color: #00af00; text-decoration-color: #00af00\">0</span> (0.00 B)\n",
       "</pre>\n"
      ],
      "text/plain": [
       "\u001b[1m Non-trainable params: \u001b[0m\u001b[38;5;34m0\u001b[0m (0.00 B)\n"
      ]
     },
     "metadata": {},
     "output_type": "display_data"
    }
   ],
   "source": [
    "d = build_decoder()\n",
    "d.summary()"
   ]
  },
  {
   "cell_type": "code",
   "execution_count": 100,
   "id": "bba175bb583d384c",
   "metadata": {
    "ExecuteTime": {
     "end_time": "2025-07-22T17:05:19.842921Z",
     "start_time": "2025-07-22T17:05:19.827922Z"
    }
   },
   "outputs": [],
   "source": [
    "def build_auto_encoder() -> tuple[Model, Model, Model]:\n",
    "    encoder = build_encoder()\n",
    "    decoder = build_decoder()\n",
    "\n",
    "    input_layer = encoder.input\n",
    "    encoded = encoder(input_layer)\n",
    "    decoded = decoder(encoded)\n",
    "\n",
    "    auto_encoder = Model(input_layer, decoded)\n",
    "    auto_encoder.compile(loss=MeanSquaredError(), optimizer=Adam())\n",
    "\n",
    "    return auto_encoder, encoder, decoder"
   ]
  },
  {
   "cell_type": "code",
   "execution_count": 101,
   "id": "39b9b075a62610d5",
   "metadata": {
    "ExecuteTime": {
     "end_time": "2025-07-22T17:05:20.452171Z",
     "start_time": "2025-07-22T17:05:20.437175Z"
    }
   },
   "outputs": [],
   "source": [
    "class AutoEncoder:\n",
    "    def __init__(self):\n",
    "        self.autoencoder, self.encoder, self.decoder = build_auto_encoder()\n",
    "        self.history = history()\n",
    "\n",
    "    def encode(self, x: np.ndarray) -> np.ndarray:\n",
    "        return self.encoder.predict(x)\n",
    "\n",
    "    def decode(self, x: np.ndarray) -> np.ndarray:\n",
    "        return self.decoder.predict(x)\n",
    "\n",
    "    def reconstruct(self, x: np.ndarray) -> np.ndarray:\n",
    "        return self.autoencoder.predict(x)\n",
    "\n",
    "    def fit(self, x_train: np.ndarray, epochs: int = 10) -> None:\n",
    "        es = early_stopping()\n",
    "\n",
    "        self.autoencoder.fit(\n",
    "            x_train,\n",
    "            x_train,\n",
    "            epochs=epochs,\n",
    "            validation_split=0.2,\n",
    "            callbacks=[es, self.history],\n",
    "        )\n",
    "\n",
    "    def plot_training_curve(self) -> plt.Figure:\n",
    "        fig = plt.figure()\n",
    "\n",
    "        plt.plot(self.history.history[\"loss\"], label=\"MSE loss\")\n",
    "        plt.plot(self.history.history[\"val_loss\"], label=\"MSE val_loss\")\n",
    "\n",
    "        plt.title(\"Training curve\")\n",
    "        plt.xlabel(\"epoch\")\n",
    "        plt.ylabel(\"loss\")\n",
    "\n",
    "        plt.legend()\n",
    "\n",
    "        return fig\n",
    "\n",
    "    def save(self) -> None:\n",
    "        raise NotImplementedError\n",
    "\n",
    "    def visualize(self, x: np.ndarray, n: int = 5) -> None:\n",
    "        # todo: afficher sur 2 colonnes avant / après et sur la troisième colonne la \"diff\"\n",
    "        decoded_imgs = self.reconstruct(x[:n])\n",
    "        diff_imgs = x[:n] - decoded_imgs\n",
    "\n",
    "        plt.figure(figsize=(8, 4 * n))\n",
    "\n",
    "        for i in range(n):\n",
    "            # Original\n",
    "            ax = plt.subplot(n, 3, i * 3 + 1)\n",
    "            plt.imshow(x[i].reshape(28, 28), cmap=\"gray\")\n",
    "            plt.title(\"Original\")\n",
    "            plt.axis(\"off\")\n",
    "\n",
    "            # Reconstruit\n",
    "            ax = plt.subplot(n, 3, i * 3 + 2)\n",
    "            plt.imshow(decoded_imgs[i].reshape(28, 28), cmap=\"gray\")\n",
    "            plt.title(\"Reconstruit\")\n",
    "            plt.axis(\"off\")\n",
    "\n",
    "            # Différence\n",
    "            ax = plt.subplot(n, 3, i * 3 + 3)\n",
    "            plt.imshow(\n",
    "                diff_imgs[i].reshape(28, 28), cmap=\"seismic\", vmin=-1.0, vmax=1.0\n",
    "            )\n",
    "            plt.title(\"Différence\")\n",
    "            plt.axis(\"off\")\n",
    "        plt.show()"
   ]
  },
  {
   "cell_type": "code",
   "execution_count": 103,
   "id": "684fbd07c1b478a7",
   "metadata": {
    "ExecuteTime": {
     "end_time": "2025-07-22T17:05:22.399494Z",
     "start_time": "2025-07-22T17:05:22.368496Z"
    }
   },
   "outputs": [],
   "source": [
    "auto_encoder = AutoEncoder()"
   ]
  },
  {
   "cell_type": "code",
   "execution_count": 104,
   "id": "33339f3e09c5d0f4",
   "metadata": {
    "ExecuteTime": {
     "end_time": "2025-07-22T17:05:33.734913Z",
     "start_time": "2025-07-22T17:05:22.698904Z"
    }
   },
   "outputs": [
    {
     "name": "stdout",
     "output_type": "stream",
     "text": [
      "Epoch 1/10\n",
      "\u001b[1m 4/60\u001b[0m \u001b[32m━\u001b[0m\u001b[37m━━━━━━━━━━━━━━━━━━━\u001b[0m \u001b[1m1s\u001b[0m 18ms/step - loss: 0.2246"
     ]
    },
    {
     "name": "stderr",
     "output_type": "stream",
     "text": [
      "C:\\Users\\AB2-PC\\Documents\\GitHub\\ab2\\recognize-handwritten-letters\\.venv\\lib\\site-packages\\keras\\src\\backend\\common\\backend_utils.py:91: UserWarning: You might experience inconsistencies across backends when calling conv transpose with kernel_size=3, stride=2, dilation_rate=1, padding=same, output_padding=1.\n",
      "  warnings.warn(\n"
     ]
    },
    {
     "name": "stdout",
     "output_type": "stream",
     "text": [
      "\u001b[1m60/60\u001b[0m \u001b[32m━━━━━━━━━━━━━━━━━━━━\u001b[0m\u001b[37m\u001b[0m \u001b[1m1s\u001b[0m 19ms/step - loss: 0.1504 - val_loss: 0.0747\n",
      "Epoch 2/10\n",
      "\u001b[1m60/60\u001b[0m \u001b[32m━━━━━━━━━━━━━━━━━━━━\u001b[0m\u001b[37m\u001b[0m \u001b[1m1s\u001b[0m 18ms/step - loss: 0.0745 - val_loss: 0.0728\n",
      "Epoch 3/10\n",
      "\u001b[1m60/60\u001b[0m \u001b[32m━━━━━━━━━━━━━━━━━━━━\u001b[0m\u001b[37m\u001b[0m \u001b[1m1s\u001b[0m 18ms/step - loss: 0.0726 - val_loss: 0.0685\n",
      "Epoch 4/10\n",
      "\u001b[1m60/60\u001b[0m \u001b[32m━━━━━━━━━━━━━━━━━━━━\u001b[0m\u001b[37m\u001b[0m \u001b[1m1s\u001b[0m 18ms/step - loss: 0.0649 - val_loss: 0.0537\n",
      "Epoch 5/10\n",
      "\u001b[1m60/60\u001b[0m \u001b[32m━━━━━━━━━━━━━━━━━━━━\u001b[0m\u001b[37m\u001b[0m \u001b[1m1s\u001b[0m 18ms/step - loss: 0.0485 - val_loss: 0.0401\n",
      "Epoch 6/10\n",
      "\u001b[1m60/60\u001b[0m \u001b[32m━━━━━━━━━━━━━━━━━━━━\u001b[0m\u001b[37m\u001b[0m \u001b[1m1s\u001b[0m 18ms/step - loss: 0.0353 - val_loss: 0.0255\n",
      "Epoch 7/10\n",
      "\u001b[1m60/60\u001b[0m \u001b[32m━━━━━━━━━━━━━━━━━━━━\u001b[0m\u001b[37m\u001b[0m \u001b[1m1s\u001b[0m 18ms/step - loss: 0.0228 - val_loss: 0.0202\n",
      "Epoch 8/10\n",
      "\u001b[1m60/60\u001b[0m \u001b[32m━━━━━━━━━━━━━━━━━━━━\u001b[0m\u001b[37m\u001b[0m \u001b[1m1s\u001b[0m 18ms/step - loss: 0.0184 - val_loss: 0.0173\n",
      "Epoch 9/10\n",
      "\u001b[1m60/60\u001b[0m \u001b[32m━━━━━━━━━━━━━━━━━━━━\u001b[0m\u001b[37m\u001b[0m \u001b[1m1s\u001b[0m 18ms/step - loss: 0.0154 - val_loss: 0.0153\n",
      "Epoch 10/10\n",
      "\u001b[1m60/60\u001b[0m \u001b[32m━━━━━━━━━━━━━━━━━━━━\u001b[0m\u001b[37m\u001b[0m \u001b[1m1s\u001b[0m 18ms/step - loss: 0.0133 - val_loss: 0.0141\n"
     ]
    }
   ],
   "source": [
    "auto_encoder.fit(x_train)"
   ]
  },
  {
   "cell_type": "code",
   "execution_count": 105,
   "id": "41a8a436d3dfbbfe",
   "metadata": {
    "ExecuteTime": {
     "end_time": "2025-07-22T17:05:38.053173Z",
     "start_time": "2025-07-22T17:05:37.908650Z"
    }
   },
   "outputs": [
    {
     "data": {
      "image/png": "[encoded data removed]",
      "text/plain": [
       "<Figure size 640x480 with 1 Axes>"
      ]
     },
     "metadata": {},
     "output_type": "display_data"
    }
   ],
   "source": [
    "_ = auto_encoder.plot_training_curve()"
   ]
  },
  {
   "cell_type": "code",
   "execution_count": 107,
   "id": "e58c1c9efa159050",
   "metadata": {
    "ExecuteTime": {
     "end_time": "2025-07-22T17:05:58.748374Z",
     "start_time": "2025-07-22T17:05:58.149897Z"
    }
   },
   "outputs": [
    {
     "name": "stdout",
     "output_type": "stream",
     "text": [
      "\u001b[1m1/1\u001b[0m \u001b[32m━━━━━━━━━━━━━━━━━━━━\u001b[0m\u001b[37m\u001b[0m \u001b[1m0s\u001b[0m 11ms/step\n"
     ]
    },
    {
     "data": {
      "image/png": "[encoded data removed]",
      "text/plain": [
       "<Figure size 800x2000 with 15 Axes>"
      ]
     },
     "metadata": {},
     "output_type": "display_data"
    }
   ],
   "source": [
    "auto_encoder.visualize(x_test)"
   ]
  },
  {
   "cell_type": "code",
   "execution_count": null,
   "id": "da494fd32ad1a807",
   "metadata": {
    "ExecuteTime": {
     "end_time": "2025-07-22T15:28:15.010471Z",
     "start_time": "2025-07-22T15:28:15.005473Z"
    }
   },
   "outputs": [],
   "source": []
  },
  {
   "cell_type": "code",
   "execution_count": null,
   "id": "eacbec1f48fefd7a",
   "metadata": {
    "ExecuteTime": {
     "end_time": "2025-07-22T13:50:02.281429Z",
     "start_time": "2025-07-22T13:50:02.268458Z"
    }
   },
   "outputs": [],
   "source": []
  },
  {
   "cell_type": "code",
   "execution_count": null,
   "id": "a7c5f6df49739cf",
   "metadata": {
    "ExecuteTime": {
     "end_time": "2025-07-22T15:28:21.377541Z",
     "start_time": "2025-07-22T15:28:21.366088Z"
    }
   },
   "outputs": [],
   "source": []
  },
  {
   "cell_type": "code",
   "execution_count": null,
   "id": "10175501f08f9574",
   "metadata": {
    "ExecuteTime": {
     "end_time": "2025-07-22T15:28:22.153679Z",
     "start_time": "2025-07-22T15:28:22.141082Z"
    }
   },
   "outputs": [],
   "source": []
  },
  {
   "cell_type": "code",
   "execution_count": null,
   "id": "bdbf3d70d2b09301",
   "metadata": {
    "ExecuteTime": {
     "end_time": "2025-07-22T15:28:23.565727Z",
     "start_time": "2025-07-22T15:28:23.559728Z"
    }
   },
   "outputs": [],
   "source": []
  },
  {
   "cell_type": "code",
   "execution_count": null,
   "id": "44527d299eb7bdf9",
   "metadata": {},
   "outputs": [],
   "source": []
  }
 ],
 "metadata": {
  "kernelspec": {
   "display_name": "Python 3",
   "language": "python",
   "name": "python3"
  },
  "language_info": {
   "codemirror_mode": {
    "name": "ipython",
    "version": 2
   },
   "file_extension": ".py",
   "mimetype": "text/x-python",
   "name": "python",
   "nbconvert_exporter": "python",
   "pygments_lexer": "ipython2",
   "version": "2.7.6"
  }
 },
 "nbformat": 4,
 "nbformat_minor": 5
}
